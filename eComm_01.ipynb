{
 "cells": [
  {
   "cell_type": "code",
   "execution_count": 1,
   "metadata": {},
   "outputs": [],
   "source": [
    "import sqlite3\n",
    "import os\n",
    "import pandas as pd\n",
    "import matplotlib.pyplot as plt\n",
    "import seaborn as sns\n",
    "import numpy as np\n",
    "\n",
    "import plotly.express as px\n",
    "\n",
    "import calendar\n",
    "import datetime as dt\n",
    "\n",
    "from datetime import timedelta\n",
    "\n",
    "from urllib.request import urlopen\n",
    "import json\n",
    "\n",
    "import matplotlib.pyplot as plt\n",
    "import pandas as pd\n",
    "import geopandas as gpd\n",
    "\n",
    "import contextily as ctx\n",
    "import geojson \n",
    "\n",
    "from dash import Dash, html, dcc\n",
    "from jupyter_dash import JupyterDash\n",
    "from dash.dependencies import Input, Output\n",
    "\n",
    "import warnings\n",
    "warnings.filterwarnings(\"ignore\")\n",
    "\n",
    "plt.rcParams['figure.dpi'] = 100   \n",
    "plt.rcParams['savefig.dpi'] = 100"
   ]
  },
  {
   "cell_type": "markdown",
   "metadata": {},
   "source": [
    "From the following blog and video\n",
    "\n",
    "https://macxima.medium.com/python-how-to-read-multiple-excel-sheets-or-tabs-4d412185c18\n",
    "\n",
    "https://www.youtube.com/watch?v=fdPV-3K-8pc\n",
    "\n",
    "\n"
   ]
  },
  {
   "cell_type": "code",
   "execution_count": 2,
   "metadata": {},
   "outputs": [
    {
     "name": "stdout",
     "output_type": "stream",
     "text": [
      "products\n",
      "         ASIN                                              title product_type\n",
      "0  B07GWKDLGT  Nikon D3500 W/ AF-P DX NIKKOR 18-55mm f/3.5-5....  dslr camera\n",
      "1  B01MTLH408  Manfrotto Element Aluminum 5-Section Monopod, ...  dslr camera\n",
      "stock\n",
      "  StockCode        ASIN\n",
      "0     21703  B07GWKDLGT\n",
      "1     40001  B01MTLH408\n",
      "assessment\n",
      "   rating  review_count        ASIN\n",
      "0     4.6          1399  B07GWKDLGT\n",
      "1     4.6           289  B01MTLH408\n",
      "invoices\n",
      "  InvoiceNo        ASIN  Quantity   price  total_sale invoice_date  \\\n",
      "0  78536597  B07GWKDLGT         4  496.95     1987.80   2018-12-01   \n",
      "1  78536597  B01MTLH408         4   39.99      159.96   2018-12-01   \n",
      "\n",
      "   invoice_time CustomerID  \n",
      "0            17      18011  \n",
      "1            17      18011  \n",
      "customers\n",
      "  CustomerID  Country\n",
      "0      18011  Germany\n",
      "1      18011  Germany\n"
     ]
    },
    {
     "data": {
      "text/plain": [
       "'    # Create SQL database and for each loop create a new table within the database. \\n    conn = sqlite3.connect(\"sales original.db\")\\n    vars()[table_name].to_sql(sqlite_table, conn, if_exists = \\'replace\\', index=True, index_label = \"id_\" + sqlite_table[0:4]) # Index = True creates a Primary key called index in the table \\n    conn.close()'"
      ]
     },
     "execution_count": 2,
     "metadata": {},
     "output_type": "execute_result"
    }
   ],
   "source": [
    "#path of the excel file to get all the sheets from the excel file into xls sheet name list\n",
    "xls = pd.ExcelFile(\"sales original.xlsx\")\n",
    "\n",
    "#set the file name to read the excel sheets\n",
    "file_name = \"sales original.xlsx\"\n",
    "\n",
    "#For loop to get the sheet name from the excel file\n",
    "for table_name in xls.sheet_names: \n",
    "    \n",
    "    # Declare a variable to store the different sheet names\n",
    "    sqlite_table = table_name\n",
    "    print(sqlite_table)\n",
    "\n",
    "    # Dynamically create dataframes for each sheet in the excel file.\n",
    "    vars()[table_name] = pd.DataFrame()\n",
    "\n",
    "    # Read the excel sheet into a Pandas dataframe\n",
    "    vars()[table_name] = pd.read_excel(file_name, sheet_name = table_name, index_col=None)\n",
    "    print(vars()[table_name].head(2))\n",
    "    \n",
    "\"\"\"    # Create SQL database and for each loop create a new table within the database. \n",
    "    conn = sqlite3.connect(\"sales original.db\")\n",
    "    vars()[table_name].to_sql(sqlite_table, conn, if_exists = 'replace', index=True, index_label = \"id_\" + sqlite_table[0:4]) # Index = True creates a Primary key called index in the table \n",
    "    conn.close()\"\"\""
   ]
  },
  {
   "cell_type": "code",
   "execution_count": 3,
   "metadata": {},
   "outputs": [],
   "source": [
    "# del merged_tables"
   ]
  },
  {
   "cell_type": "code",
   "execution_count": 4,
   "metadata": {},
   "outputs": [],
   "source": [
    "# Concact the useful columns for further analysis. \n",
    "# This means take the following df's and add columns to make a super DF. From: invoices\n",
    "\n",
    "\n",
    "merged_tables = pd.concat([invoices, products, customers, assessment, stock], axis=1)\n",
    "\n"
   ]
  },
  {
   "cell_type": "code",
   "execution_count": 5,
   "metadata": {},
   "outputs": [
    {
     "name": "stdout",
     "output_type": "stream",
     "text": [
      "<class 'pandas.core.frame.DataFrame'>\n",
      "RangeIndex: 554417 entries, 0 to 554416\n",
      "Data columns (total 18 columns):\n",
      " #   Column        Non-Null Count   Dtype         \n",
      "---  ------        --------------   -----         \n",
      " 0   InvoiceNo     554417 non-null  object        \n",
      " 1   ASIN          554417 non-null  object        \n",
      " 2   Quantity      554417 non-null  int64         \n",
      " 3   price         554417 non-null  float64       \n",
      " 4   total_sale    554417 non-null  float64       \n",
      " 5   invoice_date  554417 non-null  datetime64[ns]\n",
      " 6   invoice_time  554417 non-null  int64         \n",
      " 7   CustomerID    554417 non-null  object        \n",
      " 8   ASIN          554417 non-null  object        \n",
      " 9   title         554417 non-null  object        \n",
      " 10  product_type  554417 non-null  object        \n",
      " 11  CustomerID    554417 non-null  object        \n",
      " 12  Country       554417 non-null  object        \n",
      " 13  rating        554417 non-null  float64       \n",
      " 14  review_count  554417 non-null  int64         \n",
      " 15  ASIN          554417 non-null  object        \n",
      " 16  StockCode     554417 non-null  object        \n",
      " 17  ASIN          554417 non-null  object        \n",
      "dtypes: datetime64[ns](1), float64(3), int64(3), object(11)\n",
      "memory usage: 76.1+ MB\n"
     ]
    }
   ],
   "source": [
    "merged_tables.info()"
   ]
  },
  {
   "cell_type": "code",
   "execution_count": 6,
   "metadata": {},
   "outputs": [],
   "source": [
    "# merged_tables.to_csv('merged_ecommerce.csv')\n"
   ]
  },
  {
   "cell_type": "code",
   "execution_count": 7,
   "metadata": {},
   "outputs": [],
   "source": [
    "# merged_tables = pd.read_csv('merged_ecommerce.csv')  "
   ]
  },
  {
   "cell_type": "code",
   "execution_count": 8,
   "metadata": {},
   "outputs": [
    {
     "data": {
      "text/plain": [
       "Index(['InvoiceNo', 'ASIN', 'Quantity', 'price', 'total_sale', 'invoice_date',\n",
       "       'invoice_time', 'CustomerID', 'ASIN', 'title', 'product_type',\n",
       "       'CustomerID', 'Country', 'rating', 'review_count', 'ASIN', 'StockCode',\n",
       "       'ASIN'],\n",
       "      dtype='object')"
      ]
     },
     "metadata": {},
     "output_type": "display_data"
    },
    {
     "data": {
      "text/plain": [
       "array([False, False, False, False, False, False, False, False,  True,\n",
       "       False, False,  True, False, False, False,  True, False,  True])"
      ]
     },
     "metadata": {},
     "output_type": "display_data"
    },
    {
     "data": {
      "text/html": [
       "<div>\n",
       "<style scoped>\n",
       "    .dataframe tbody tr th:only-of-type {\n",
       "        vertical-align: middle;\n",
       "    }\n",
       "\n",
       "    .dataframe tbody tr th {\n",
       "        vertical-align: top;\n",
       "    }\n",
       "\n",
       "    .dataframe thead th {\n",
       "        text-align: right;\n",
       "    }\n",
       "</style>\n",
       "<table border=\"1\" class=\"dataframe\">\n",
       "  <thead>\n",
       "    <tr style=\"text-align: right;\">\n",
       "      <th></th>\n",
       "      <th>InvoiceNo</th>\n",
       "      <th>ASIN</th>\n",
       "      <th>Quantity</th>\n",
       "      <th>price</th>\n",
       "      <th>total_sale</th>\n",
       "      <th>invoice_date</th>\n",
       "      <th>invoice_time</th>\n",
       "      <th>CustomerID</th>\n",
       "      <th>ASIN</th>\n",
       "      <th>title</th>\n",
       "      <th>product_type</th>\n",
       "      <th>CustomerID</th>\n",
       "      <th>Country</th>\n",
       "      <th>rating</th>\n",
       "      <th>review_count</th>\n",
       "      <th>ASIN</th>\n",
       "      <th>StockCode</th>\n",
       "      <th>ASIN</th>\n",
       "    </tr>\n",
       "  </thead>\n",
       "  <tbody>\n",
       "    <tr>\n",
       "      <th>0</th>\n",
       "      <td>78536597</td>\n",
       "      <td>B07GWKDLGT</td>\n",
       "      <td>4</td>\n",
       "      <td>496.95</td>\n",
       "      <td>1987.80</td>\n",
       "      <td>2018-12-01</td>\n",
       "      <td>17</td>\n",
       "      <td>18011</td>\n",
       "      <td>B07GWKDLGT</td>\n",
       "      <td>Nikon D3500 W/ AF-P DX NIKKOR 18-55mm f/3.5-5....</td>\n",
       "      <td>dslr camera</td>\n",
       "      <td>18011</td>\n",
       "      <td>Germany</td>\n",
       "      <td>4.6</td>\n",
       "      <td>1399</td>\n",
       "      <td>B07GWKDLGT</td>\n",
       "      <td>21703</td>\n",
       "      <td>B07GWKDLGT</td>\n",
       "    </tr>\n",
       "    <tr>\n",
       "      <th>1</th>\n",
       "      <td>78536597</td>\n",
       "      <td>B01MTLH408</td>\n",
       "      <td>4</td>\n",
       "      <td>39.99</td>\n",
       "      <td>159.96</td>\n",
       "      <td>2018-12-01</td>\n",
       "      <td>17</td>\n",
       "      <td>18011</td>\n",
       "      <td>B01MTLH408</td>\n",
       "      <td>Manfrotto Element Aluminum 5-Section Monopod, ...</td>\n",
       "      <td>dslr camera</td>\n",
       "      <td>18011</td>\n",
       "      <td>Germany</td>\n",
       "      <td>4.6</td>\n",
       "      <td>289</td>\n",
       "      <td>B01MTLH408</td>\n",
       "      <td>40001</td>\n",
       "      <td>B01MTLH408</td>\n",
       "    </tr>\n",
       "    <tr>\n",
       "      <th>2</th>\n",
       "      <td>78536597</td>\n",
       "      <td>B0064FS7HI</td>\n",
       "      <td>1</td>\n",
       "      <td>12.99</td>\n",
       "      <td>12.99</td>\n",
       "      <td>2018-12-01</td>\n",
       "      <td>17</td>\n",
       "      <td>18011</td>\n",
       "      <td>B0064FS7HI</td>\n",
       "      <td>STK LP-E8 Battery for Canon Rebel T5i, T3i, T2...</td>\n",
       "      <td>dslr camera</td>\n",
       "      <td>18011</td>\n",
       "      <td>Germany</td>\n",
       "      <td>4.4</td>\n",
       "      <td>333</td>\n",
       "      <td>B0064FS7HI</td>\n",
       "      <td>85034A</td>\n",
       "      <td>B0064FS7HI</td>\n",
       "    </tr>\n",
       "    <tr>\n",
       "      <th>3</th>\n",
       "      <td>78536597</td>\n",
       "      <td>B013JHU5YG</td>\n",
       "      <td>1</td>\n",
       "      <td>199.99</td>\n",
       "      <td>199.99</td>\n",
       "      <td>2018-12-01</td>\n",
       "      <td>17</td>\n",
       "      <td>18011</td>\n",
       "      <td>B013JHU5YG</td>\n",
       "      <td>Lowepro Whistler BP 350 AW (Grey) . Profession...</td>\n",
       "      <td>dslr camera</td>\n",
       "      <td>18011</td>\n",
       "      <td>Germany</td>\n",
       "      <td>4.3</td>\n",
       "      <td>86</td>\n",
       "      <td>B013JHU5YG</td>\n",
       "      <td>72798C</td>\n",
       "      <td>B013JHU5YG</td>\n",
       "    </tr>\n",
       "    <tr>\n",
       "      <th>4</th>\n",
       "      <td>78536597</td>\n",
       "      <td>B06XWN9Q99</td>\n",
       "      <td>1</td>\n",
       "      <td>7.49</td>\n",
       "      <td>7.49</td>\n",
       "      <td>2018-12-01</td>\n",
       "      <td>17</td>\n",
       "      <td>18011</td>\n",
       "      <td>B06XWN9Q99</td>\n",
       "      <td>Samsung (MB-ME32GA/AM) 32GB 95MB/s (U1) microS...</td>\n",
       "      <td>dslr camera</td>\n",
       "      <td>18011</td>\n",
       "      <td>Germany</td>\n",
       "      <td>4.7</td>\n",
       "      <td>15717</td>\n",
       "      <td>B06XWN9Q99</td>\n",
       "      <td>20726</td>\n",
       "      <td>B06XWN9Q99</td>\n",
       "    </tr>\n",
       "  </tbody>\n",
       "</table>\n",
       "</div>"
      ],
      "text/plain": [
       "  InvoiceNo        ASIN  Quantity   price  total_sale invoice_date  \\\n",
       "0  78536597  B07GWKDLGT         4  496.95     1987.80   2018-12-01   \n",
       "1  78536597  B01MTLH408         4   39.99      159.96   2018-12-01   \n",
       "2  78536597  B0064FS7HI         1   12.99       12.99   2018-12-01   \n",
       "3  78536597  B013JHU5YG         1  199.99      199.99   2018-12-01   \n",
       "4  78536597  B06XWN9Q99         1    7.49        7.49   2018-12-01   \n",
       "\n",
       "   invoice_time CustomerID        ASIN  \\\n",
       "0            17      18011  B07GWKDLGT   \n",
       "1            17      18011  B01MTLH408   \n",
       "2            17      18011  B0064FS7HI   \n",
       "3            17      18011  B013JHU5YG   \n",
       "4            17      18011  B06XWN9Q99   \n",
       "\n",
       "                                               title product_type CustomerID  \\\n",
       "0  Nikon D3500 W/ AF-P DX NIKKOR 18-55mm f/3.5-5....  dslr camera      18011   \n",
       "1  Manfrotto Element Aluminum 5-Section Monopod, ...  dslr camera      18011   \n",
       "2  STK LP-E8 Battery for Canon Rebel T5i, T3i, T2...  dslr camera      18011   \n",
       "3  Lowepro Whistler BP 350 AW (Grey) . Profession...  dslr camera      18011   \n",
       "4  Samsung (MB-ME32GA/AM) 32GB 95MB/s (U1) microS...  dslr camera      18011   \n",
       "\n",
       "   Country  rating  review_count        ASIN StockCode        ASIN  \n",
       "0  Germany     4.6          1399  B07GWKDLGT     21703  B07GWKDLGT  \n",
       "1  Germany     4.6           289  B01MTLH408     40001  B01MTLH408  \n",
       "2  Germany     4.4           333  B0064FS7HI    85034A  B0064FS7HI  \n",
       "3  Germany     4.3            86  B013JHU5YG    72798C  B013JHU5YG  \n",
       "4  Germany     4.7         15717  B06XWN9Q99     20726  B06XWN9Q99  "
      ]
     },
     "metadata": {},
     "output_type": "display_data"
    }
   ],
   "source": [
    "display(merged_tables.columns)\n",
    "display(merged_tables.columns.duplicated())\n",
    "display(merged_tables.head())\n"
   ]
  },
  {
   "cell_type": "code",
   "execution_count": 66,
   "metadata": {},
   "outputs": [
    {
     "name": "stdout",
     "output_type": "stream",
     "text": [
      "<class 'pandas.core.frame.DataFrame'>\n",
      "RangeIndex: 554417 entries, 0 to 554416\n",
      "Data columns (total 18 columns):\n",
      " #   Column        Non-Null Count   Dtype         \n",
      "---  ------        --------------   -----         \n",
      " 0   InvoiceNo     554417 non-null  object        \n",
      " 1   Product_Id    554417 non-null  object        \n",
      " 2   Quantity      554417 non-null  int64         \n",
      " 3   Price         554417 non-null  float64       \n",
      " 4   Total_Sales   554417 non-null  float64       \n",
      " 5   Customer_Id   554417 non-null  object        \n",
      " 6   Product_Name  554417 non-null  object        \n",
      " 7   Product_Type  554417 non-null  object        \n",
      " 8   Country       554417 non-null  object        \n",
      " 9   Rating        554417 non-null  float64       \n",
      " 10  Review_Count  554417 non-null  int64         \n",
      " 11  StockCode     554417 non-null  object        \n",
      " 12  Hour          554417 non-null  int64         \n",
      " 13  Day           554417 non-null  object        \n",
      " 14  Month         554417 non-null  object        \n",
      " 15  Year          554417 non-null  int64         \n",
      " 16  Quarter       554417 non-null  int64         \n",
      " 17  Invoice_Date  554417 non-null  datetime64[ns]\n",
      "dtypes: datetime64[ns](1), float64(3), int64(5), object(9)\n",
      "memory usage: 76.1+ MB\n"
     ]
    },
    {
     "data": {
      "text/plain": [
       "(554417, 18)"
      ]
     },
     "execution_count": 66,
     "metadata": {},
     "output_type": "execute_result"
    }
   ],
   "source": [
    "# To check the corresponding iloc values of all the columns for easy reference.\n",
    "\n",
    "merged_tables.info()\n",
    "merged_tables.shape"
   ]
  },
  {
   "cell_type": "code",
   "execution_count": 10,
   "metadata": {},
   "outputs": [
    {
     "data": {
      "text/plain": [
       "True"
      ]
     },
     "execution_count": 10,
     "metadata": {},
     "output_type": "execute_result"
    }
   ],
   "source": [
    "# Manually checking if all the values in each row of duplicate columns are same. For instance there are 4 ASIN columns in the \n",
    "# merged table so it is important to see if all the values in each row are equal. If any values in two columns that is compared is different then \"False\" is returned. If not \"True\"\n",
    "\n",
    "merged_tables.iloc[ : , 8].equals(merged_tables.iloc[ : , 15])"
   ]
  },
  {
   "cell_type": "code",
   "execution_count": 11,
   "metadata": {},
   "outputs": [],
   "source": [
    "# Deleting unneccesary columns after checking if the column values are equal from the above step. This code deletes duplicate columns based on the column name.\n",
    "\n",
    "merged_tables = merged_tables.loc[ : , ~merged_tables.columns.duplicated()].copy()\n"
   ]
  },
  {
   "cell_type": "code",
   "execution_count": 12,
   "metadata": {},
   "outputs": [],
   "source": [
    "# Rename columns for better user readability using df.rename()\n",
    "\n",
    "merged_tables.rename(columns={'price': 'Price', 'total_sale': 'Total_Sales', 'CustomerID' : 'Customer_Id',\n",
    "'title' : 'Product_Name', 'product_type' : 'Product_Type', 'rating' : 'Rating', 'review_count' : 'Review_Count', 'ASIN':'Product_Id'}, inplace=True)"
   ]
  },
  {
   "cell_type": "code",
   "execution_count": 13,
   "metadata": {},
   "outputs": [],
   "source": [
    "# Create a single date time column with the correct dtype and using the combination of values from the original invoice_date and invoice_time\n",
    "\n",
    "merged_tables[\"Invoice_DateTime\"] = merged_tables[\"invoice_date\"] + merged_tables[\"invoice_time\"].astype(\"timedelta64[h]\")\n",
    "\n",
    "# Drop the invoice_date and invoice_time from the table since we've created a new column with the combined date and time columns.\n",
    "\n",
    "merged_tables = merged_tables.drop([\"invoice_date\", \"invoice_time\"], axis = 1).copy()\n",
    "\n",
    "\n",
    "\n"
   ]
  },
  {
   "cell_type": "code",
   "execution_count": 14,
   "metadata": {},
   "outputs": [
    {
     "data": {
      "text/html": [
       "<div>\n",
       "<style scoped>\n",
       "    .dataframe tbody tr th:only-of-type {\n",
       "        vertical-align: middle;\n",
       "    }\n",
       "\n",
       "    .dataframe tbody tr th {\n",
       "        vertical-align: top;\n",
       "    }\n",
       "\n",
       "    .dataframe thead th {\n",
       "        text-align: right;\n",
       "    }\n",
       "</style>\n",
       "<table border=\"1\" class=\"dataframe\">\n",
       "  <thead>\n",
       "    <tr style=\"text-align: right;\">\n",
       "      <th></th>\n",
       "      <th>InvoiceNo</th>\n",
       "      <th>Product_Id</th>\n",
       "      <th>Quantity</th>\n",
       "      <th>Price</th>\n",
       "      <th>Total_Sales</th>\n",
       "      <th>Customer_Id</th>\n",
       "      <th>Product_Name</th>\n",
       "      <th>Product_Type</th>\n",
       "      <th>Country</th>\n",
       "      <th>Rating</th>\n",
       "      <th>Review_Count</th>\n",
       "      <th>StockCode</th>\n",
       "      <th>Invoice_DateTime</th>\n",
       "    </tr>\n",
       "  </thead>\n",
       "  <tbody>\n",
       "    <tr>\n",
       "      <th>0</th>\n",
       "      <td>78536597</td>\n",
       "      <td>B07GWKDLGT</td>\n",
       "      <td>4</td>\n",
       "      <td>496.95</td>\n",
       "      <td>1987.80</td>\n",
       "      <td>18011</td>\n",
       "      <td>Nikon D3500 W/ AF-P DX NIKKOR 18-55mm f/3.5-5....</td>\n",
       "      <td>dslr camera</td>\n",
       "      <td>Germany</td>\n",
       "      <td>4.6</td>\n",
       "      <td>1399</td>\n",
       "      <td>21703</td>\n",
       "      <td>2018-12-01 17:00:00</td>\n",
       "    </tr>\n",
       "    <tr>\n",
       "      <th>1</th>\n",
       "      <td>78536597</td>\n",
       "      <td>B01MTLH408</td>\n",
       "      <td>4</td>\n",
       "      <td>39.99</td>\n",
       "      <td>159.96</td>\n",
       "      <td>18011</td>\n",
       "      <td>Manfrotto Element Aluminum 5-Section Monopod, ...</td>\n",
       "      <td>dslr camera</td>\n",
       "      <td>Germany</td>\n",
       "      <td>4.6</td>\n",
       "      <td>289</td>\n",
       "      <td>40001</td>\n",
       "      <td>2018-12-01 17:00:00</td>\n",
       "    </tr>\n",
       "  </tbody>\n",
       "</table>\n",
       "</div>"
      ],
      "text/plain": [
       "  InvoiceNo  Product_Id  Quantity   Price  Total_Sales Customer_Id  \\\n",
       "0  78536597  B07GWKDLGT         4  496.95      1987.80       18011   \n",
       "1  78536597  B01MTLH408         4   39.99       159.96       18011   \n",
       "\n",
       "                                        Product_Name Product_Type  Country  \\\n",
       "0  Nikon D3500 W/ AF-P DX NIKKOR 18-55mm f/3.5-5....  dslr camera  Germany   \n",
       "1  Manfrotto Element Aluminum 5-Section Monopod, ...  dslr camera  Germany   \n",
       "\n",
       "   Rating  Review_Count StockCode    Invoice_DateTime  \n",
       "0     4.6          1399     21703 2018-12-01 17:00:00  \n",
       "1     4.6           289     40001 2018-12-01 17:00:00  "
      ]
     },
     "execution_count": 14,
     "metadata": {},
     "output_type": "execute_result"
    }
   ],
   "source": [
    "merged_tables.head(2)"
   ]
  },
  {
   "cell_type": "code",
   "execution_count": 15,
   "metadata": {},
   "outputs": [],
   "source": [
    "# Seperate the Invoice_DateTime coloumn to individal segments.\n",
    "merged_tables['Hour'] = merged_tables['Invoice_DateTime'].dt.hour\n",
    "merged_tables['Day_Number'] = merged_tables['Invoice_DateTime'].dt.dayofweek.astype(str)\n",
    "merged_tables['Day_Number']= merged_tables['Day_Number'].str.rjust(2, \"0\")\n",
    "merged_tables[\"Day_Name\"] = merged_tables[\"Invoice_DateTime\"].dt.day_name()\n",
    "merged_tables[\"Day\"] = merged_tables[\"Day_Number\"].astype(str) + \" \" + merged_tables[\"Day_Name\"].astype(str) \n",
    "merged_tables['Month_Number'] = merged_tables['Invoice_DateTime'].dt.month.astype(str)\n",
    "merged_tables['Month_Number']= merged_tables['Month_Number'].str.rjust(2, \"0\")\n",
    "merged_tables['Month_name'] = merged_tables['Invoice_DateTime'].dt.month_name()\n",
    "merged_tables[\"Month\"] = merged_tables[\"Month_Number\"].astype(str) + \" \" + merged_tables[\"Month_name\"].astype(str) \n",
    "merged_tables['Year'] = merged_tables['Invoice_DateTime'].dt.year\n",
    "merged_tables['Quarter'] = merged_tables['Invoice_DateTime'].dt.quarter\n",
    "merged_tables['Invoice_Date'] = merged_tables['Invoice_DateTime'].dt.date.astype(\"datetime64[ns]\")\n",
    "\n",
    "# list(calendar.day_abbr)"
   ]
  },
  {
   "cell_type": "code",
   "execution_count": 16,
   "metadata": {},
   "outputs": [],
   "source": [
    "\n",
    "\n",
    "merged_tables = merged_tables.drop([\"Day_Number\", \"Day_Name\",'Month_Number', 'Month_name', \"Invoice_DateTime\"], axis = 1).copy()\n",
    "\n"
   ]
  },
  {
   "cell_type": "code",
   "execution_count": 17,
   "metadata": {},
   "outputs": [
    {
     "data": {
      "text/plain": [
       "'Unique number of Product_Type: 6'"
      ]
     },
     "metadata": {},
     "output_type": "display_data"
    },
    {
     "data": {
      "text/plain": [
       "'Unique number of Country: 37'"
      ]
     },
     "metadata": {},
     "output_type": "display_data"
    },
    {
     "data": {
      "text/plain": [
       "'Unique number of Customer_Id: 4340'"
      ]
     },
     "metadata": {},
     "output_type": "display_data"
    },
    {
     "data": {
      "text/plain": [
       "'Unique number of Product_Name: 4188'"
      ]
     },
     "metadata": {},
     "output_type": "display_data"
    },
    {
     "data": {
      "text/plain": [
       "'Unique number of ASIN: 4134'"
      ]
     },
     "metadata": {},
     "output_type": "display_data"
    },
    {
     "data": {
      "text/plain": [
       "'Unique invoices: 20534'"
      ]
     },
     "metadata": {},
     "output_type": "display_data"
    }
   ],
   "source": [
    "# Display all the unique values in product type, countries, customer id, product name and ASIN key. \n",
    "# the unique number of ASIN should be equal to unique number of Product names\n",
    "display(\"Unique number of Product_Type: \" + str(merged_tables.Product_Type.nunique()))\n",
    "display(\"Unique number of Country: \" + str(merged_tables.Country.nunique()))\n",
    "display(\"Unique number of Customer_Id: \" + str(merged_tables.Customer_Id.nunique()))\n",
    "display(\"Unique number of Product_Name: \" + str(merged_tables.Product_Name.nunique()))\n",
    "display(\"Unique number of ASIN: \" + str(merged_tables.Product_Id.nunique()))\n",
    "display(\"Unique invoices: \" + str(merged_tables.InvoiceNo.nunique()))\n",
    "\n",
    "# display(merged_tables[merged_tables['Year'] == 2018].groupby(['InvoiceNo']).agg({'InvoiceNo':['nunique']}))\n",
    "# display(merged_tables[merged_tables['Year'] == 2019].groupby(['InvoiceNo']).agg({'InvoiceNo':['nunique']}))\n",
    "# display(merged_tables[merged_tables['Country'] == \"Lithuania\"].groupby(['InvoiceNo']).agg({'InvoiceNo':['nunique']}))\n",
    "\n",
    "\n"
   ]
  },
  {
   "cell_type": "code",
   "execution_count": 18,
   "metadata": {},
   "outputs": [
    {
     "data": {
      "text/plain": [
       "InvoiceNo       0\n",
       "Product_Id      0\n",
       "Quantity        0\n",
       "Price           0\n",
       "Total_Sales     0\n",
       "Customer_Id     0\n",
       "Product_Name    0\n",
       "Product_Type    0\n",
       "Country         0\n",
       "Rating          0\n",
       "Review_Count    0\n",
       "StockCode       0\n",
       "Hour            0\n",
       "Day             0\n",
       "Month           0\n",
       "Year            0\n",
       "Quarter         0\n",
       "Invoice_Date    0\n",
       "dtype: int64"
      ]
     },
     "metadata": {},
     "output_type": "display_data"
    },
    {
     "data": {
      "text/plain": [
       "False"
      ]
     },
     "metadata": {},
     "output_type": "display_data"
    }
   ],
   "source": [
    "display(merged_tables.isnull().sum())\n",
    "display(merged_tables.isnull().values.any())"
   ]
  },
  {
   "cell_type": "code",
   "execution_count": 19,
   "metadata": {},
   "outputs": [
    {
     "data": {
      "text/html": [
       "<div>\n",
       "<style scoped>\n",
       "    .dataframe tbody tr th:only-of-type {\n",
       "        vertical-align: middle;\n",
       "    }\n",
       "\n",
       "    .dataframe tbody tr th {\n",
       "        vertical-align: top;\n",
       "    }\n",
       "\n",
       "    .dataframe thead th {\n",
       "        text-align: right;\n",
       "    }\n",
       "</style>\n",
       "<table border=\"1\" class=\"dataframe\">\n",
       "  <thead>\n",
       "    <tr style=\"text-align: right;\">\n",
       "      <th></th>\n",
       "      <th>Product_Id</th>\n",
       "      <th>Product_Name</th>\n",
       "      <th>count</th>\n",
       "    </tr>\n",
       "  </thead>\n",
       "  <tbody>\n",
       "    <tr>\n",
       "      <th>3675</th>\n",
       "      <td>B07Y693ND1</td>\n",
       "      <td>Razer DeathAdder Essential Gaming Mouse: 6400 ...</td>\n",
       "      <td>3188</td>\n",
       "    </tr>\n",
       "    <tr>\n",
       "      <th>3891</th>\n",
       "      <td>B081TJ7B88</td>\n",
       "      <td>Apple iPhone X, 256GB, Silver - Fully Unlocked...</td>\n",
       "      <td>2327</td>\n",
       "    </tr>\n",
       "    <tr>\n",
       "      <th>283</th>\n",
       "      <td>B005EJH6Z4</td>\n",
       "      <td>AmazonBasics Wireless Computer Mouse with USB ...</td>\n",
       "      <td>2242</td>\n",
       "    </tr>\n",
       "    <tr>\n",
       "      <th>2052</th>\n",
       "      <td>B079JSZ1Z2</td>\n",
       "      <td>Samsung Galaxy S9 G960U 64GB Unlocked 4G LTE P...</td>\n",
       "      <td>2115</td>\n",
       "    </tr>\n",
       "    <tr>\n",
       "      <th>2872</th>\n",
       "      <td>B07NZX5BKH</td>\n",
       "      <td>Samsung Galaxy S10+ Plus 128GB+8GB RAM SM-G975...</td>\n",
       "      <td>2019</td>\n",
       "    </tr>\n",
       "    <tr>\n",
       "      <th>...</th>\n",
       "      <td>...</td>\n",
       "      <td>...</td>\n",
       "      <td>...</td>\n",
       "    </tr>\n",
       "    <tr>\n",
       "      <th>594</th>\n",
       "      <td>B00KLPIHS6</td>\n",
       "      <td>Neewer V shape Dual Mount Bracket Hot Shoe for...</td>\n",
       "      <td>1</td>\n",
       "    </tr>\n",
       "    <tr>\n",
       "      <th>1711</th>\n",
       "      <td>B074JL6RY2</td>\n",
       "      <td>TracFoneÂ Samsung GalaxyÂ S7 4GÂ LTE Prepaid S...</td>\n",
       "      <td>1</td>\n",
       "    </tr>\n",
       "    <tr>\n",
       "      <th>621</th>\n",
       "      <td>B00LG9JATG</td>\n",
       "      <td>JVC HASR185R On Ear Colorful Lightweight Folda...</td>\n",
       "      <td>1</td>\n",
       "    </tr>\n",
       "    <tr>\n",
       "      <th>3744</th>\n",
       "      <td>B07YWH1QMF</td>\n",
       "      <td>iVeze Keyboard Wrist Rest Pad and Mouse pad wi...</td>\n",
       "      <td>1</td>\n",
       "    </tr>\n",
       "    <tr>\n",
       "      <th>2294</th>\n",
       "      <td>B07F65MWT9</td>\n",
       "      <td>Galaxy J3 2018 Case, Samsung Galaxy J3 Eclipse...</td>\n",
       "      <td>1</td>\n",
       "    </tr>\n",
       "  </tbody>\n",
       "</table>\n",
       "<p>4198 rows × 3 columns</p>\n",
       "</div>"
      ],
      "text/plain": [
       "      Product_Id                                       Product_Name  count\n",
       "3675  B07Y693ND1  Razer DeathAdder Essential Gaming Mouse: 6400 ...   3188\n",
       "3891  B081TJ7B88  Apple iPhone X, 256GB, Silver - Fully Unlocked...   2327\n",
       "283   B005EJH6Z4  AmazonBasics Wireless Computer Mouse with USB ...   2242\n",
       "2052  B079JSZ1Z2  Samsung Galaxy S9 G960U 64GB Unlocked 4G LTE P...   2115\n",
       "2872  B07NZX5BKH  Samsung Galaxy S10+ Plus 128GB+8GB RAM SM-G975...   2019\n",
       "...          ...                                                ...    ...\n",
       "594   B00KLPIHS6  Neewer V shape Dual Mount Bracket Hot Shoe for...      1\n",
       "1711  B074JL6RY2  TracFoneÂ Samsung GalaxyÂ S7 4GÂ LTE Prepaid S...      1\n",
       "621   B00LG9JATG  JVC HASR185R On Ear Colorful Lightweight Folda...      1\n",
       "3744  B07YWH1QMF  iVeze Keyboard Wrist Rest Pad and Mouse pad wi...      1\n",
       "2294  B07F65MWT9  Galaxy J3 2018 Case, Samsung Galaxy J3 Eclipse...      1\n",
       "\n",
       "[4198 rows x 3 columns]"
      ]
     },
     "metadata": {},
     "output_type": "display_data"
    }
   ],
   "source": [
    "# Here I want to check how many unique combo of ASIN and product names are present in the dataset. \n",
    "# I created a new df called unique_combo where I've grouped by ASIN and product name to show unique number of ASIN and product name combo.\n",
    "\n",
    "unique_combo = merged_tables.groupby(['Product_Id','Product_Name']).size().reset_index().rename(columns={0 : 'count'}).sort_values('count', ascending = False)\n",
    "display(unique_combo)"
   ]
  },
  {
   "cell_type": "code",
   "execution_count": 20,
   "metadata": {},
   "outputs": [
    {
     "data": {
      "text/plain": [
       "'Unique number of Product_Name: 4188'"
      ]
     },
     "metadata": {},
     "output_type": "display_data"
    },
    {
     "data": {
      "text/plain": [
       "'Unique number of ASIN: 4134'"
      ]
     },
     "metadata": {},
     "output_type": "display_data"
    }
   ],
   "source": [
    "display(\"Unique number of Product_Name: \" + str(unique_combo.Product_Name.nunique()))\n",
    "display(\"Unique number of ASIN: \" + str(unique_combo.Product_Id.nunique()))"
   ]
  },
  {
   "cell_type": "code",
   "execution_count": 21,
   "metadata": {},
   "outputs": [
    {
     "data": {
      "text/html": [
       "<div>\n",
       "<style scoped>\n",
       "    .dataframe tbody tr th:only-of-type {\n",
       "        vertical-align: middle;\n",
       "    }\n",
       "\n",
       "    .dataframe tbody tr th {\n",
       "        vertical-align: top;\n",
       "    }\n",
       "\n",
       "    .dataframe thead th {\n",
       "        text-align: right;\n",
       "    }\n",
       "</style>\n",
       "<table border=\"1\" class=\"dataframe\">\n",
       "  <thead>\n",
       "    <tr style=\"text-align: right;\">\n",
       "      <th></th>\n",
       "      <th>Product_Id</th>\n",
       "      <th>Product_Name</th>\n",
       "      <th>count</th>\n",
       "    </tr>\n",
       "  </thead>\n",
       "  <tbody>\n",
       "    <tr>\n",
       "      <th>4139</th>\n",
       "      <td>Null</td>\n",
       "      <td>BONAOK Wireless Bluetooth Karaoke Microphone,3...</td>\n",
       "      <td>889</td>\n",
       "    </tr>\n",
       "    <tr>\n",
       "      <th>4167</th>\n",
       "      <td>Null</td>\n",
       "      <td>NPET T20 One-Handed Gaming Keyboard, RGB Backl...</td>\n",
       "      <td>376</td>\n",
       "    </tr>\n",
       "    <tr>\n",
       "      <th>4141</th>\n",
       "      <td>Null</td>\n",
       "      <td>Braun FP3020 12 Cup Food Processor Ultra Quiet...</td>\n",
       "      <td>273</td>\n",
       "    </tr>\n",
       "    <tr>\n",
       "      <th>4178</th>\n",
       "      <td>Null</td>\n",
       "      <td>Sense Energy Monitor with Solar â€“ Track Elec...</td>\n",
       "      <td>254</td>\n",
       "    </tr>\n",
       "    <tr>\n",
       "      <th>4134</th>\n",
       "      <td>Null</td>\n",
       "      <td>(2020 Upgraded Ver.) [4CH] Crystal Vision CVT8...</td>\n",
       "      <td>131</td>\n",
       "    </tr>\n",
       "    <tr>\n",
       "      <th>4177</th>\n",
       "      <td>Null</td>\n",
       "      <td>Samsung Galaxy S20 5G Factory Unlocked New And...</td>\n",
       "      <td>110</td>\n",
       "    </tr>\n",
       "    <tr>\n",
       "      <th>4170</th>\n",
       "      <td>Null</td>\n",
       "      <td>Portable Monitor - 15.6-Inch USB-C Portable Di...</td>\n",
       "      <td>53</td>\n",
       "    </tr>\n",
       "    <tr>\n",
       "      <th>4183</th>\n",
       "      <td>Null</td>\n",
       "      <td>UMIDIGI Power 3 6150mAh Monster Battery Unlock...</td>\n",
       "      <td>25</td>\n",
       "    </tr>\n",
       "    <tr>\n",
       "      <th>4152</th>\n",
       "      <td>Null</td>\n",
       "      <td>INEVIFIT EROS Bluetooth Body Fat Scale Smart B...</td>\n",
       "      <td>21</td>\n",
       "    </tr>\n",
       "    <tr>\n",
       "      <th>4188</th>\n",
       "      <td>Null</td>\n",
       "      <td>Vertical Wireless Mouse, Jelly Comb Ergonomic ...</td>\n",
       "      <td>21</td>\n",
       "    </tr>\n",
       "    <tr>\n",
       "      <th>4182</th>\n",
       "      <td>Null</td>\n",
       "      <td>UMIDIGI A3S Unlocked Smartphone 2020, 5.7\" Dou...</td>\n",
       "      <td>3</td>\n",
       "    </tr>\n",
       "    <tr>\n",
       "      <th>4168</th>\n",
       "      <td>Null</td>\n",
       "      <td>Osophter for LG V60 ThinQ Case,LG V60 Case Sho...</td>\n",
       "      <td>2</td>\n",
       "    </tr>\n",
       "    <tr>\n",
       "      <th>4196</th>\n",
       "      <td>Null</td>\n",
       "      <td>X3 Hurricane Variable Speed 260mph+ Cordless R...</td>\n",
       "      <td>1</td>\n",
       "    </tr>\n",
       "  </tbody>\n",
       "</table>\n",
       "</div>"
      ],
      "text/plain": [
       "     Product_Id                                       Product_Name  count\n",
       "4139       Null  BONAOK Wireless Bluetooth Karaoke Microphone,3...    889\n",
       "4167       Null  NPET T20 One-Handed Gaming Keyboard, RGB Backl...    376\n",
       "4141       Null  Braun FP3020 12 Cup Food Processor Ultra Quiet...    273\n",
       "4178       Null  Sense Energy Monitor with Solar â€“ Track Elec...    254\n",
       "4134       Null  (2020 Upgraded Ver.) [4CH] Crystal Vision CVT8...    131\n",
       "4177       Null  Samsung Galaxy S20 5G Factory Unlocked New And...    110\n",
       "4170       Null  Portable Monitor - 15.6-Inch USB-C Portable Di...     53\n",
       "4183       Null  UMIDIGI Power 3 6150mAh Monster Battery Unlock...     25\n",
       "4152       Null  INEVIFIT EROS Bluetooth Body Fat Scale Smart B...     21\n",
       "4188       Null  Vertical Wireless Mouse, Jelly Comb Ergonomic ...     21\n",
       "4182       Null  UMIDIGI A3S Unlocked Smartphone 2020, 5.7\" Dou...      3\n",
       "4168       Null  Osophter for LG V60 ThinQ Case,LG V60 Case Sho...      2\n",
       "4196       Null  X3 Hurricane Variable Speed 260mph+ Cordless R...      1"
      ]
     },
     "execution_count": 21,
     "metadata": {},
     "output_type": "execute_result"
    }
   ],
   "source": [
    "# Create a filter to show all the rows that meet the conditions. \n",
    "\n",
    "unique_combo[(unique_combo['Product_Name']).str.contains('Ne',case=False) & (unique_combo['Product_Id'] == \"Null\") ]"
   ]
  },
  {
   "cell_type": "code",
   "execution_count": 23,
   "metadata": {},
   "outputs": [],
   "source": [
    "# Extract date elements without creating a new column.\n",
    "\n",
    "\n",
    "# merged_tables[\"Weekday\"] = (str(merged_tables[\"Invoice_Date\"].dt.day_of_week) + merged_tables[\"Invoice_Date\"].dt.day_name())\n",
    "# merged_tables[\"Weekday\"]\n",
    "# \n",
    "# str(merged_tables[\"Invoice_Date\"].dt.day_of_week) \n",
    "# merged_tables[\"Invoice_DateTime\"].dt.day_of_week\n",
    "# merged_tables[\"Invoice_DateTime\"].dt.day_name()"
   ]
  },
  {
   "cell_type": "code",
   "execution_count": 24,
   "metadata": {},
   "outputs": [],
   "source": [
    "# Delete coloumn code\n",
    "# merged_tables = merged_tables.drop([\"Weekday\"], axis = 1).copy()\n"
   ]
  },
  {
   "cell_type": "code",
   "execution_count": 25,
   "metadata": {},
   "outputs": [
    {
     "data": {
      "text/html": [
       "<div>\n",
       "<style scoped>\n",
       "    .dataframe tbody tr th:only-of-type {\n",
       "        vertical-align: middle;\n",
       "    }\n",
       "\n",
       "    .dataframe tbody tr th {\n",
       "        vertical-align: top;\n",
       "    }\n",
       "\n",
       "    .dataframe thead th {\n",
       "        text-align: right;\n",
       "    }\n",
       "</style>\n",
       "<table border=\"1\" class=\"dataframe\">\n",
       "  <thead>\n",
       "    <tr style=\"text-align: right;\">\n",
       "      <th></th>\n",
       "      <th>InvoiceNo</th>\n",
       "      <th>Product_Id</th>\n",
       "      <th>Quantity</th>\n",
       "      <th>Price</th>\n",
       "      <th>Total_Sales</th>\n",
       "      <th>Customer_Id</th>\n",
       "      <th>Product_Name</th>\n",
       "      <th>Product_Type</th>\n",
       "      <th>Country</th>\n",
       "      <th>Rating</th>\n",
       "      <th>Review_Count</th>\n",
       "      <th>StockCode</th>\n",
       "      <th>Hour</th>\n",
       "      <th>Day</th>\n",
       "      <th>Month</th>\n",
       "      <th>Year</th>\n",
       "      <th>Quarter</th>\n",
       "      <th>Invoice_Date</th>\n",
       "    </tr>\n",
       "  </thead>\n",
       "  <tbody>\n",
       "    <tr>\n",
       "      <th>0</th>\n",
       "      <td>78536597</td>\n",
       "      <td>B07GWKDLGT</td>\n",
       "      <td>4</td>\n",
       "      <td>496.95</td>\n",
       "      <td>1987.80</td>\n",
       "      <td>18011</td>\n",
       "      <td>Nikon D3500 W/ AF-P DX NIKKOR 18-55mm f/3.5-5....</td>\n",
       "      <td>dslr camera</td>\n",
       "      <td>Germany</td>\n",
       "      <td>4.6</td>\n",
       "      <td>1399</td>\n",
       "      <td>21703</td>\n",
       "      <td>17</td>\n",
       "      <td>05 Saturday</td>\n",
       "      <td>12 December</td>\n",
       "      <td>2018</td>\n",
       "      <td>4</td>\n",
       "      <td>2018-12-01</td>\n",
       "    </tr>\n",
       "    <tr>\n",
       "      <th>1</th>\n",
       "      <td>78536597</td>\n",
       "      <td>B01MTLH408</td>\n",
       "      <td>4</td>\n",
       "      <td>39.99</td>\n",
       "      <td>159.96</td>\n",
       "      <td>18011</td>\n",
       "      <td>Manfrotto Element Aluminum 5-Section Monopod, ...</td>\n",
       "      <td>dslr camera</td>\n",
       "      <td>Germany</td>\n",
       "      <td>4.6</td>\n",
       "      <td>289</td>\n",
       "      <td>40001</td>\n",
       "      <td>17</td>\n",
       "      <td>05 Saturday</td>\n",
       "      <td>12 December</td>\n",
       "      <td>2018</td>\n",
       "      <td>4</td>\n",
       "      <td>2018-12-01</td>\n",
       "    </tr>\n",
       "    <tr>\n",
       "      <th>2</th>\n",
       "      <td>78536597</td>\n",
       "      <td>B0064FS7HI</td>\n",
       "      <td>1</td>\n",
       "      <td>12.99</td>\n",
       "      <td>12.99</td>\n",
       "      <td>18011</td>\n",
       "      <td>STK LP-E8 Battery for Canon Rebel T5i, T3i, T2...</td>\n",
       "      <td>dslr camera</td>\n",
       "      <td>Germany</td>\n",
       "      <td>4.4</td>\n",
       "      <td>333</td>\n",
       "      <td>85034A</td>\n",
       "      <td>17</td>\n",
       "      <td>05 Saturday</td>\n",
       "      <td>12 December</td>\n",
       "      <td>2018</td>\n",
       "      <td>4</td>\n",
       "      <td>2018-12-01</td>\n",
       "    </tr>\n",
       "    <tr>\n",
       "      <th>3</th>\n",
       "      <td>78536597</td>\n",
       "      <td>B013JHU5YG</td>\n",
       "      <td>1</td>\n",
       "      <td>199.99</td>\n",
       "      <td>199.99</td>\n",
       "      <td>18011</td>\n",
       "      <td>Lowepro Whistler BP 350 AW (Grey) . Profession...</td>\n",
       "      <td>dslr camera</td>\n",
       "      <td>Germany</td>\n",
       "      <td>4.3</td>\n",
       "      <td>86</td>\n",
       "      <td>72798C</td>\n",
       "      <td>17</td>\n",
       "      <td>05 Saturday</td>\n",
       "      <td>12 December</td>\n",
       "      <td>2018</td>\n",
       "      <td>4</td>\n",
       "      <td>2018-12-01</td>\n",
       "    </tr>\n",
       "    <tr>\n",
       "      <th>4</th>\n",
       "      <td>78536597</td>\n",
       "      <td>B06XWN9Q99</td>\n",
       "      <td>1</td>\n",
       "      <td>7.49</td>\n",
       "      <td>7.49</td>\n",
       "      <td>18011</td>\n",
       "      <td>Samsung (MB-ME32GA/AM) 32GB 95MB/s (U1) microS...</td>\n",
       "      <td>dslr camera</td>\n",
       "      <td>Germany</td>\n",
       "      <td>4.7</td>\n",
       "      <td>15717</td>\n",
       "      <td>20726</td>\n",
       "      <td>17</td>\n",
       "      <td>05 Saturday</td>\n",
       "      <td>12 December</td>\n",
       "      <td>2018</td>\n",
       "      <td>4</td>\n",
       "      <td>2018-12-01</td>\n",
       "    </tr>\n",
       "  </tbody>\n",
       "</table>\n",
       "</div>"
      ],
      "text/plain": [
       "  InvoiceNo  Product_Id  Quantity   Price  Total_Sales Customer_Id  \\\n",
       "0  78536597  B07GWKDLGT         4  496.95      1987.80       18011   \n",
       "1  78536597  B01MTLH408         4   39.99       159.96       18011   \n",
       "2  78536597  B0064FS7HI         1   12.99        12.99       18011   \n",
       "3  78536597  B013JHU5YG         1  199.99       199.99       18011   \n",
       "4  78536597  B06XWN9Q99         1    7.49         7.49       18011   \n",
       "\n",
       "                                        Product_Name Product_Type  Country  \\\n",
       "0  Nikon D3500 W/ AF-P DX NIKKOR 18-55mm f/3.5-5....  dslr camera  Germany   \n",
       "1  Manfrotto Element Aluminum 5-Section Monopod, ...  dslr camera  Germany   \n",
       "2  STK LP-E8 Battery for Canon Rebel T5i, T3i, T2...  dslr camera  Germany   \n",
       "3  Lowepro Whistler BP 350 AW (Grey) . Profession...  dslr camera  Germany   \n",
       "4  Samsung (MB-ME32GA/AM) 32GB 95MB/s (U1) microS...  dslr camera  Germany   \n",
       "\n",
       "   Rating  Review_Count StockCode  Hour          Day        Month  Year  \\\n",
       "0     4.6          1399     21703    17  05 Saturday  12 December  2018   \n",
       "1     4.6           289     40001    17  05 Saturday  12 December  2018   \n",
       "2     4.4           333    85034A    17  05 Saturday  12 December  2018   \n",
       "3     4.3            86    72798C    17  05 Saturday  12 December  2018   \n",
       "4     4.7         15717     20726    17  05 Saturday  12 December  2018   \n",
       "\n",
       "   Quarter Invoice_Date  \n",
       "0        4   2018-12-01  \n",
       "1        4   2018-12-01  \n",
       "2        4   2018-12-01  \n",
       "3        4   2018-12-01  \n",
       "4        4   2018-12-01  "
      ]
     },
     "execution_count": 25,
     "metadata": {},
     "output_type": "execute_result"
    }
   ],
   "source": [
    "merged_tables.head()"
   ]
  },
  {
   "cell_type": "code",
   "execution_count": 26,
   "metadata": {},
   "outputs": [
    {
     "data": {
      "text/plain": [
       "array(['dslr camera', 'keyboard', 'monitor', 'mouse', 'processor',\n",
       "       'smartphone'], dtype=object)"
      ]
     },
     "execution_count": 26,
     "metadata": {},
     "output_type": "execute_result"
    }
   ],
   "source": [
    "merged_tables['Product_Type'].unique()"
   ]
  },
  {
   "cell_type": "markdown",
   "metadata": {},
   "source": [
    "# EDA\n",
    "\n",
    "1. What is the customer buying pattern? Per day of the week, weekly, monthly, quaterly, yearly, etc.\n",
    "\n",
    "2. Are there any specific days when the sales have been unusually high / low and what could be the possible reasons?\n",
    "\n",
    "3. Which countries and which customers made the highest number of orders? Are they the same with the highest spending?\n",
    "\n",
    "4. Can you try to make a map showing the 5 countries generating the max sales revenue, excluding Germany?\n",
    "\n",
    "5. Can we see the quarterly revenue behaviour?\n",
    "\n",
    "6. Can you create a plot showing the growth rate of new customers over the months?\n",
    "\n",
    "7. What do you think about the customers? Are they individuals or wholesalers? Why would you say so?\n",
    "\n",
    "8. Are there any issues with the dataset?"
   ]
  },
  {
   "cell_type": "code",
   "execution_count": 27,
   "metadata": {},
   "outputs": [
    {
     "data": {
      "text/html": [
       "<div>\n",
       "<style scoped>\n",
       "    .dataframe tbody tr th:only-of-type {\n",
       "        vertical-align: middle;\n",
       "    }\n",
       "\n",
       "    .dataframe tbody tr th {\n",
       "        vertical-align: top;\n",
       "    }\n",
       "\n",
       "    .dataframe thead th {\n",
       "        text-align: right;\n",
       "    }\n",
       "</style>\n",
       "<table border=\"1\" class=\"dataframe\">\n",
       "  <thead>\n",
       "    <tr style=\"text-align: right;\">\n",
       "      <th></th>\n",
       "      <th>Country</th>\n",
       "      <th>Unique_orders</th>\n",
       "    </tr>\n",
       "  </thead>\n",
       "  <tbody>\n",
       "    <tr>\n",
       "      <th>0</th>\n",
       "      <td>Germany</td>\n",
       "      <td>18628</td>\n",
       "    </tr>\n",
       "    <tr>\n",
       "      <th>1</th>\n",
       "      <td>United Kingdom</td>\n",
       "      <td>475</td>\n",
       "    </tr>\n",
       "    <tr>\n",
       "      <th>2</th>\n",
       "      <td>France</td>\n",
       "      <td>387</td>\n",
       "    </tr>\n",
       "    <tr>\n",
       "      <th>3</th>\n",
       "      <td>Ireland</td>\n",
       "      <td>288</td>\n",
       "    </tr>\n",
       "    <tr>\n",
       "      <th>4</th>\n",
       "      <td>Belgium</td>\n",
       "      <td>98</td>\n",
       "    </tr>\n",
       "  </tbody>\n",
       "</table>\n",
       "</div>"
      ],
      "text/plain": [
       "          Country  Unique_orders\n",
       "0         Germany          18628\n",
       "1  United Kingdom            475\n",
       "2          France            387\n",
       "3         Ireland            288\n",
       "4         Belgium             98"
      ]
     },
     "metadata": {},
     "output_type": "display_data"
    },
    {
     "data": {
      "text/html": [
       "<div>\n",
       "<style scoped>\n",
       "    .dataframe tbody tr th:only-of-type {\n",
       "        vertical-align: middle;\n",
       "    }\n",
       "\n",
       "    .dataframe tbody tr th {\n",
       "        vertical-align: top;\n",
       "    }\n",
       "\n",
       "    .dataframe thead th {\n",
       "        text-align: right;\n",
       "    }\n",
       "</style>\n",
       "<table border=\"1\" class=\"dataframe\">\n",
       "  <thead>\n",
       "    <tr style=\"text-align: right;\">\n",
       "      <th></th>\n",
       "      <th>Country</th>\n",
       "      <th>Unique_orders</th>\n",
       "    </tr>\n",
       "  </thead>\n",
       "  <tbody>\n",
       "    <tr>\n",
       "      <th>0</th>\n",
       "      <td>Lebanon</td>\n",
       "      <td>1</td>\n",
       "    </tr>\n",
       "    <tr>\n",
       "      <th>1</th>\n",
       "      <td>South Africa</td>\n",
       "      <td>1</td>\n",
       "    </tr>\n",
       "    <tr>\n",
       "      <th>2</th>\n",
       "      <td>Brazil</td>\n",
       "      <td>1</td>\n",
       "    </tr>\n",
       "    <tr>\n",
       "      <th>3</th>\n",
       "      <td>Saudi Arabia</td>\n",
       "      <td>1</td>\n",
       "    </tr>\n",
       "    <tr>\n",
       "      <th>4</th>\n",
       "      <td>Czech Republic</td>\n",
       "      <td>2</td>\n",
       "    </tr>\n",
       "  </tbody>\n",
       "</table>\n",
       "</div>"
      ],
      "text/plain": [
       "          Country  Unique_orders\n",
       "0         Lebanon              1\n",
       "1    South Africa              1\n",
       "2          Brazil              1\n",
       "3    Saudi Arabia              1\n",
       "4  Czech Republic              2"
      ]
     },
     "metadata": {},
     "output_type": "display_data"
    }
   ],
   "source": [
    "# Show top and bottom 15 countries for number of unique orders.\n",
    "\n",
    "display(pd.DataFrame(merged_tables.groupby(['Country']).agg({'InvoiceNo':'nunique'}).sort_values(\"InvoiceNo\", ascending=False).head(5).reset_index().rename(columns={\"InvoiceNo\": \"Unique_orders\"})))\n",
    "display(pd.DataFrame(merged_tables.groupby(['Country']).agg({'InvoiceNo':'nunique'}).sort_values(\"InvoiceNo\", ascending=True).head(5).reset_index().rename(columns={\"InvoiceNo\": \"Unique_orders\"})))\n",
    "#display(pd.DataFrame(merged_tables[merged_tables['Year'] == 2019].groupby(['Country']).agg({'InvoiceNo':'nunique'}).sort_values(\"InvoiceNo\", ascending=False).head(15).reset_index().rename(columns={\"InvoiceNo\": \"Unique_orders\"})))\n",
    "\n"
   ]
  },
  {
   "cell_type": "markdown",
   "metadata": {},
   "source": [
    "# 1. What is the customer buying pattern? Per day of the week, weekly, monthly, quaterly, yearly, etc.\n"
   ]
  },
  {
   "cell_type": "code",
   "execution_count": 28,
   "metadata": {},
   "outputs": [
    {
     "data": {
      "text/plain": [
       "[134109, 128524, 101728, 96531, 71551, 21974]"
      ]
     },
     "metadata": {},
     "output_type": "display_data"
    },
    {
     "data": {
      "text/html": [
       "<div>\n",
       "<style scoped>\n",
       "    .dataframe tbody tr th:only-of-type {\n",
       "        vertical-align: middle;\n",
       "    }\n",
       "\n",
       "    .dataframe tbody tr th {\n",
       "        vertical-align: top;\n",
       "    }\n",
       "\n",
       "    .dataframe thead th {\n",
       "        text-align: right;\n",
       "    }\n",
       "</style>\n",
       "<table border=\"1\" class=\"dataframe\">\n",
       "  <thead>\n",
       "    <tr style=\"text-align: right;\">\n",
       "      <th></th>\n",
       "      <th>Product_Category</th>\n",
       "      <th>Product_Type</th>\n",
       "    </tr>\n",
       "  </thead>\n",
       "  <tbody>\n",
       "    <tr>\n",
       "      <th>0</th>\n",
       "      <td>smartphone</td>\n",
       "      <td>134109</td>\n",
       "    </tr>\n",
       "    <tr>\n",
       "      <th>1</th>\n",
       "      <td>keyboard</td>\n",
       "      <td>128524</td>\n",
       "    </tr>\n",
       "    <tr>\n",
       "      <th>2</th>\n",
       "      <td>mouse</td>\n",
       "      <td>101728</td>\n",
       "    </tr>\n",
       "    <tr>\n",
       "      <th>3</th>\n",
       "      <td>dslr camera</td>\n",
       "      <td>96531</td>\n",
       "    </tr>\n",
       "    <tr>\n",
       "      <th>4</th>\n",
       "      <td>processor</td>\n",
       "      <td>71551</td>\n",
       "    </tr>\n",
       "    <tr>\n",
       "      <th>5</th>\n",
       "      <td>monitor</td>\n",
       "      <td>21974</td>\n",
       "    </tr>\n",
       "  </tbody>\n",
       "</table>\n",
       "</div>"
      ],
      "text/plain": [
       "  Product_Category  Product_Type\n",
       "0       smartphone        134109\n",
       "1         keyboard        128524\n",
       "2            mouse        101728\n",
       "3      dslr camera         96531\n",
       "4        processor         71551\n",
       "5          monitor         21974"
      ]
     },
     "metadata": {},
     "output_type": "display_data"
    },
    {
     "data": {
      "text/plain": [
       "Product_Type\n",
       "smartphone     134109\n",
       "keyboard       128524\n",
       "mouse          101728\n",
       "dslr camera     96531\n",
       "processor       71551\n",
       "monitor         21974\n",
       "dtype: int64"
      ]
     },
     "metadata": {},
     "output_type": "display_data"
    },
    {
     "data": {
      "image/png": "[encoded data removed]",
      "text/plain": [
       "<Figure size 600x400 with 1 Axes>"
      ]
     },
     "metadata": {},
     "output_type": "display_data"
    }
   ],
   "source": [
    "# merged_tables['Product_Type'] = pd.Categorical(merged_tables['Product_Type'],\n",
    "# categories=['dslr camera', 'keyboard','monitor', 'mouse','processor', 'smartphone'])\n",
    "\n",
    "prod_type_dict = list(merged_tables.value_counts(\"Product_Type\"))\n",
    "display(prod_type_dict)\n",
    "\n",
    "prod_type_sum = pd.DataFrame(merged_tables.Product_Type.value_counts().rename_axis('Product_Category').reset_index())\n",
    "display(prod_type_sum)\n",
    "\n",
    "#Make function to display values instead of percentage on pie chart\n",
    "label=[i for i in prod_type_sum.Product_Category]\n",
    "label=[i.capitalize() for i in label]\n",
    "\n",
    "def make_autopct(prod_type):\n",
    "    def my_autopct(pct):\n",
    "        total = sum(prod_type)\n",
    "        val = int(round(pct*total/100.0))\n",
    "        return '{p:.0f}% \\n({v:d})'.format(p=pct,v=val)\n",
    "    return my_autopct\n",
    "\n",
    "def func(type_of_product):\n",
    "  return \"{:1.1f}%\".format(type_of_product)\n",
    "\n",
    "# Pie chart, where the slices will be ordered and plotted counter-clockwise:\n",
    "#labels = merged_tables[\"Product_Type\"].unique()\n",
    "sizes = merged_tables.value_counts(\"Product_Type\")\n",
    "display(sizes)\n",
    "#explode = (0, .05)  # only \"explode\" the 2nd slice \n",
    "sns.set(rc={'axes.facecolor':'white', 'figure.facecolor':'white'})\n",
    "sns.set_style(\"whitegrid\")\n",
    "fig1, ax1 = plt.subplots()\n",
    "ax1.pie(sizes, labels = label, autopct=make_autopct(prod_type_dict), center = (0,32342343231),\n",
    "        shadow=False, startangle=145, radius = 100 )\n",
    "#plt.title(\"Breakdown of product category\")\n",
    "ax1.axis('equal')  # Equal aspect ratio ensures that pie is drawn as a circle.\n",
    "ax1.set_aspect('equal', anchor='C')\n",
    "#ax1.anchor('SE')\n",
    "\n",
    "plt.show()\n"
   ]
  },
  {
   "cell_type": "code",
   "execution_count": 65,
   "metadata": {},
   "outputs": [
    {
     "data": {
      "text/html": [
       "<div>\n",
       "<style scoped>\n",
       "    .dataframe tbody tr th:only-of-type {\n",
       "        vertical-align: middle;\n",
       "    }\n",
       "\n",
       "    .dataframe tbody tr th {\n",
       "        vertical-align: top;\n",
       "    }\n",
       "\n",
       "    .dataframe thead th {\n",
       "        text-align: right;\n",
       "    }\n",
       "</style>\n",
       "<table border=\"1\" class=\"dataframe\">\n",
       "  <thead>\n",
       "    <tr style=\"text-align: right;\">\n",
       "      <th></th>\n",
       "      <th>index</th>\n",
       "      <th>Total_sold</th>\n",
       "      <th>1</th>\n",
       "    </tr>\n",
       "  </thead>\n",
       "  <tbody>\n",
       "    <tr>\n",
       "      <th>0</th>\n",
       "      <td>0</td>\n",
       "      <td>dslr camera</td>\n",
       "      <td>InvoiceNo  Product_Id  Quantity    Pric...</td>\n",
       "    </tr>\n",
       "    <tr>\n",
       "      <th>1</th>\n",
       "      <td>1</td>\n",
       "      <td>keyboard</td>\n",
       "      <td>InvoiceNo  Product_Id  Quantity  Price ...</td>\n",
       "    </tr>\n",
       "    <tr>\n",
       "      <th>2</th>\n",
       "      <td>2</td>\n",
       "      <td>monitor</td>\n",
       "      <td>InvoiceNo  Product_Id  Quantity   Price...</td>\n",
       "    </tr>\n",
       "    <tr>\n",
       "      <th>3</th>\n",
       "      <td>3</td>\n",
       "      <td>mouse</td>\n",
       "      <td>InvoiceNo  Product_Id  Quantity  Price ...</td>\n",
       "    </tr>\n",
       "    <tr>\n",
       "      <th>4</th>\n",
       "      <td>4</td>\n",
       "      <td>processor</td>\n",
       "      <td>InvoiceNo  Product_Id  Quantity    Pric...</td>\n",
       "    </tr>\n",
       "    <tr>\n",
       "      <th>5</th>\n",
       "      <td>5</td>\n",
       "      <td>smartphone</td>\n",
       "      <td>InvoiceNo  Product_Id  Quantity   Price...</td>\n",
       "    </tr>\n",
       "  </tbody>\n",
       "</table>\n",
       "</div>"
      ],
      "text/plain": [
       "   index   Total_sold                                                  1\n",
       "0      0  dslr camera         InvoiceNo  Product_Id  Quantity    Pric...\n",
       "1      1     keyboard         InvoiceNo  Product_Id  Quantity  Price ...\n",
       "2      2      monitor         InvoiceNo  Product_Id  Quantity   Price...\n",
       "3      3        mouse         InvoiceNo  Product_Id  Quantity  Price ...\n",
       "4      4    processor         InvoiceNo  Product_Id  Quantity    Pric...\n",
       "5      5   smartphone         InvoiceNo  Product_Id  Quantity   Price..."
      ]
     },
     "execution_count": 65,
     "metadata": {},
     "output_type": "execute_result"
    }
   ],
   "source": [
    "testing = pd.DataFrame(merged_tables.groupby(\"Product_Type\")).reset_index().rename({0:\"Total_sold\"}, axis=1)\n"
   ]
  },
  {
   "cell_type": "code",
   "execution_count": 29,
   "metadata": {},
   "outputs": [
    {
     "data": {
      "text/html": [
       "<div>\n",
       "<style scoped>\n",
       "    .dataframe tbody tr th:only-of-type {\n",
       "        vertical-align: middle;\n",
       "    }\n",
       "\n",
       "    .dataframe tbody tr th {\n",
       "        vertical-align: top;\n",
       "    }\n",
       "\n",
       "    .dataframe thead th {\n",
       "        text-align: right;\n",
       "    }\n",
       "</style>\n",
       "<table border=\"1\" class=\"dataframe\">\n",
       "  <thead>\n",
       "    <tr style=\"text-align: right;\">\n",
       "      <th></th>\n",
       "      <th>Product_Type</th>\n",
       "      <th>Total_sold</th>\n",
       "    </tr>\n",
       "  </thead>\n",
       "  <tbody>\n",
       "    <tr>\n",
       "      <th>0</th>\n",
       "      <td>smartphone</td>\n",
       "      <td>134109</td>\n",
       "    </tr>\n",
       "    <tr>\n",
       "      <th>1</th>\n",
       "      <td>keyboard</td>\n",
       "      <td>128524</td>\n",
       "    </tr>\n",
       "    <tr>\n",
       "      <th>2</th>\n",
       "      <td>mouse</td>\n",
       "      <td>101728</td>\n",
       "    </tr>\n",
       "    <tr>\n",
       "      <th>3</th>\n",
       "      <td>dslr camera</td>\n",
       "      <td>96531</td>\n",
       "    </tr>\n",
       "    <tr>\n",
       "      <th>4</th>\n",
       "      <td>processor</td>\n",
       "      <td>71551</td>\n",
       "    </tr>\n",
       "    <tr>\n",
       "      <th>5</th>\n",
       "      <td>monitor</td>\n",
       "      <td>21974</td>\n",
       "    </tr>\n",
       "  </tbody>\n",
       "</table>\n",
       "</div>"
      ],
      "text/plain": [
       "  Product_Type  Total_sold\n",
       "0   smartphone      134109\n",
       "1     keyboard      128524\n",
       "2        mouse      101728\n",
       "3  dslr camera       96531\n",
       "4    processor       71551\n",
       "5      monitor       21974"
      ]
     },
     "metadata": {},
     "output_type": "display_data"
    },
    {
     "data": {
      "application/vnd.plotly.v1+json": {
       "config": {
        "plotlyServerURL": "https://plot.ly"
       },
       "data": [
        {
         "domain": {
          "x": [
           0,
           1
          ],
          "y": [
           0,
           1
          ]
         },
         "hole": 0.3,
         "hovertemplate": "Product_Type=%{label}<br>Total_sold=%{value}<extra></extra>",
         "labels": [
          "smartphone",
          "keyboard",
          "mouse",
          "dslr camera",
          "processor",
          "monitor"
         ],
         "legendgroup": "",
         "name": "",
         "showlegend": true,
         "type": "pie",
         "values": [
          134109,
          128524,
          101728,
          96531,
          71551,
          21974
         ]
        }
       ],
       "layout": {
        "legend": {
         "tracegroupgap": 0
        },
        "template": {
         "data": {
          "bar": [
           {
            "error_x": {
             "color": "#2a3f5f"
            },
            "error_y": {
             "color": "#2a3f5f"
            },
            "marker": {
             "line": {
              "color": "#E5ECF6",
              "width": 0.5
             },
             "pattern": {
              "fillmode": "overlay",
              "size": 10,
              "solidity": 0.2
             }
            },
            "type": "bar"
           }
          ],
          "barpolar": [
           {
            "marker": {
             "line": {
              "color": "#E5ECF6",
              "width": 0.5
             },
             "pattern": {
              "fillmode": "overlay",
              "size": 10,
              "solidity": 0.2
             }
            },
            "type": "barpolar"
           }
          ],
          "carpet": [
           {
            "aaxis": {
             "endlinecolor": "#2a3f5f",
             "gridcolor": "white",
             "linecolor": "white",
             "minorgridcolor": "white",
             "startlinecolor": "#2a3f5f"
            },
            "baxis": {
             "endlinecolor": "#2a3f5f",
             "gridcolor": "white",
             "linecolor": "white",
             "minorgridcolor": "white",
             "startlinecolor": "#2a3f5f"
            },
            "type": "carpet"
           }
          ],
          "choropleth": [
           {
            "colorbar": {
             "outlinewidth": 0,
             "ticks": ""
            },
            "type": "choropleth"
           }
          ],
          "contour": [
           {
            "colorbar": {
             "outlinewidth": 0,
             "ticks": ""
            },
            "colorscale": [
             [
              0,
              "#0d0887"
             ],
             [
              0.1111111111111111,
              "#46039f"
             ],
             [
              0.2222222222222222,
              "#7201a8"
             ],
             [
              0.3333333333333333,
              "#9c179e"
             ],
             [
              0.4444444444444444,
              "#bd3786"
             ],
             [
              0.5555555555555556,
              "#d8576b"
             ],
             [
              0.6666666666666666,
              "#ed7953"
             ],
             [
              0.7777777777777778,
              "#fb9f3a"
             ],
             [
              0.8888888888888888,
              "#fdca26"
             ],
             [
              1,
              "#f0f921"
             ]
            ],
            "type": "contour"
           }
          ],
          "contourcarpet": [
           {
            "colorbar": {
             "outlinewidth": 0,
             "ticks": ""
            },
            "type": "contourcarpet"
           }
          ],
          "heatmap": [
           {
            "colorbar": {
             "outlinewidth": 0,
             "ticks": ""
            },
            "colorscale": [
             [
              0,
              "#0d0887"
             ],
             [
              0.1111111111111111,
              "#46039f"
             ],
             [
              0.2222222222222222,
              "#7201a8"
             ],
             [
              0.3333333333333333,
              "#9c179e"
             ],
             [
              0.4444444444444444,
              "#bd3786"
             ],
             [
              0.5555555555555556,
              "#d8576b"
             ],
             [
              0.6666666666666666,
              "#ed7953"
             ],
             [
              0.7777777777777778,
              "#fb9f3a"
             ],
             [
              0.8888888888888888,
              "#fdca26"
             ],
             [
              1,
              "#f0f921"
             ]
            ],
            "type": "heatmap"
           }
          ],
          "heatmapgl": [
           {
            "colorbar": {
             "outlinewidth": 0,
             "ticks": ""
            },
            "colorscale": [
             [
              0,
              "#0d0887"
             ],
             [
              0.1111111111111111,
              "#46039f"
             ],
             [
              0.2222222222222222,
              "#7201a8"
             ],
             [
              0.3333333333333333,
              "#9c179e"
             ],
             [
              0.4444444444444444,
              "#bd3786"
             ],
             [
              0.5555555555555556,
              "#d8576b"
             ],
             [
              0.6666666666666666,
              "#ed7953"
             ],
             [
              0.7777777777777778,
              "#fb9f3a"
             ],
             [
              0.8888888888888888,
              "#fdca26"
             ],
             [
              1,
              "#f0f921"
             ]
            ],
            "type": "heatmapgl"
           }
          ],
          "histogram": [
           {
            "marker": {
             "pattern": {
              "fillmode": "overlay",
              "size": 10,
              "solidity": 0.2
             }
            },
            "type": "histogram"
           }
          ],
          "histogram2d": [
           {
            "colorbar": {
             "outlinewidth": 0,
             "ticks": ""
            },
            "colorscale": [
             [
              0,
              "#0d0887"
             ],
             [
              0.1111111111111111,
              "#46039f"
             ],
             [
              0.2222222222222222,
              "#7201a8"
             ],
             [
              0.3333333333333333,
              "#9c179e"
             ],
             [
              0.4444444444444444,
              "#bd3786"
             ],
             [
              0.5555555555555556,
              "#d8576b"
             ],
             [
              0.6666666666666666,
              "#ed7953"
             ],
             [
              0.7777777777777778,
              "#fb9f3a"
             ],
             [
              0.8888888888888888,
              "#fdca26"
             ],
             [
              1,
              "#f0f921"
             ]
            ],
            "type": "histogram2d"
           }
          ],
          "histogram2dcontour": [
           {
            "colorbar": {
             "outlinewidth": 0,
             "ticks": ""
            },
            "colorscale": [
             [
              0,
              "#0d0887"
             ],
             [
              0.1111111111111111,
              "#46039f"
             ],
             [
              0.2222222222222222,
              "#7201a8"
             ],
             [
              0.3333333333333333,
              "#9c179e"
             ],
             [
              0.4444444444444444,
              "#bd3786"
             ],
             [
              0.5555555555555556,
              "#d8576b"
             ],
             [
              0.6666666666666666,
              "#ed7953"
             ],
             [
              0.7777777777777778,
              "#fb9f3a"
             ],
             [
              0.8888888888888888,
              "#fdca26"
             ],
             [
              1,
              "#f0f921"
             ]
            ],
            "type": "histogram2dcontour"
           }
          ],
          "mesh3d": [
           {
            "colorbar": {
             "outlinewidth": 0,
             "ticks": ""
            },
            "type": "mesh3d"
           }
          ],
          "parcoords": [
           {
            "line": {
             "colorbar": {
              "outlinewidth": 0,
              "ticks": ""
             }
            },
            "type": "parcoords"
           }
          ],
          "pie": [
           {
            "automargin": true,
            "type": "pie"
           }
          ],
          "scatter": [
           {
            "marker": {
             "colorbar": {
              "outlinewidth": 0,
              "ticks": ""
             }
            },
            "type": "scatter"
           }
          ],
          "scatter3d": [
           {
            "line": {
             "colorbar": {
              "outlinewidth": 0,
              "ticks": ""
             }
            },
            "marker": {
             "colorbar": {
              "outlinewidth": 0,
              "ticks": ""
             }
            },
            "type": "scatter3d"
           }
          ],
          "scattercarpet": [
           {
            "marker": {
             "colorbar": {
              "outlinewidth": 0,
              "ticks": ""
             }
            },
            "type": "scattercarpet"
           }
          ],
          "scattergeo": [
           {
            "marker": {
             "colorbar": {
              "outlinewidth": 0,
              "ticks": ""
             }
            },
            "type": "scattergeo"
           }
          ],
          "scattergl": [
           {
            "marker": {
             "colorbar": {
              "outlinewidth": 0,
              "ticks": ""
             }
            },
            "type": "scattergl"
           }
          ],
          "scattermapbox": [
           {
            "marker": {
             "colorbar": {
              "outlinewidth": 0,
              "ticks": ""
             }
            },
            "type": "scattermapbox"
           }
          ],
          "scatterpolar": [
           {
            "marker": {
             "colorbar": {
              "outlinewidth": 0,
              "ticks": ""
             }
            },
            "type": "scatterpolar"
           }
          ],
          "scatterpolargl": [
           {
            "marker": {
             "colorbar": {
              "outlinewidth": 0,
              "ticks": ""
             }
            },
            "type": "scatterpolargl"
           }
          ],
          "scatterternary": [
           {
            "marker": {
             "colorbar": {
              "outlinewidth": 0,
              "ticks": ""
             }
            },
            "type": "scatterternary"
           }
          ],
          "surface": [
           {
            "colorbar": {
             "outlinewidth": 0,
             "ticks": ""
            },
            "colorscale": [
             [
              0,
              "#0d0887"
             ],
             [
              0.1111111111111111,
              "#46039f"
             ],
             [
              0.2222222222222222,
              "#7201a8"
             ],
             [
              0.3333333333333333,
              "#9c179e"
             ],
             [
              0.4444444444444444,
              "#bd3786"
             ],
             [
              0.5555555555555556,
              "#d8576b"
             ],
             [
              0.6666666666666666,
              "#ed7953"
             ],
             [
              0.7777777777777778,
              "#fb9f3a"
             ],
             [
              0.8888888888888888,
              "#fdca26"
             ],
             [
              1,
              "#f0f921"
             ]
            ],
            "type": "surface"
           }
          ],
          "table": [
           {
            "cells": {
             "fill": {
              "color": "#EBF0F8"
             },
             "line": {
              "color": "white"
             }
            },
            "header": {
             "fill": {
              "color": "#C8D4E3"
             },
             "line": {
              "color": "white"
             }
            },
            "type": "table"
           }
          ]
         },
         "layout": {
          "annotationdefaults": {
           "arrowcolor": "#2a3f5f",
           "arrowhead": 0,
           "arrowwidth": 1
          },
          "autotypenumbers": "strict",
          "coloraxis": {
           "colorbar": {
            "outlinewidth": 0,
            "ticks": ""
           }
          },
          "colorscale": {
           "diverging": [
            [
             0,
             "#8e0152"
            ],
            [
             0.1,
             "#c51b7d"
            ],
            [
             0.2,
             "#de77ae"
            ],
            [
             0.3,
             "#f1b6da"
            ],
            [
             0.4,
             "#fde0ef"
            ],
            [
             0.5,
             "#f7f7f7"
            ],
            [
             0.6,
             "#e6f5d0"
            ],
            [
             0.7,
             "#b8e186"
            ],
            [
             0.8,
             "#7fbc41"
            ],
            [
             0.9,
             "#4d9221"
            ],
            [
             1,
             "#276419"
            ]
           ],
           "sequential": [
            [
             0,
             "#0d0887"
            ],
            [
             0.1111111111111111,
             "#46039f"
            ],
            [
             0.2222222222222222,
             "#7201a8"
            ],
            [
             0.3333333333333333,
             "#9c179e"
            ],
            [
             0.4444444444444444,
             "#bd3786"
            ],
            [
             0.5555555555555556,
             "#d8576b"
            ],
            [
             0.6666666666666666,
             "#ed7953"
            ],
            [
             0.7777777777777778,
             "#fb9f3a"
            ],
            [
             0.8888888888888888,
             "#fdca26"
            ],
            [
             1,
             "#f0f921"
            ]
           ],
           "sequentialminus": [
            [
             0,
             "#0d0887"
            ],
            [
             0.1111111111111111,
             "#46039f"
            ],
            [
             0.2222222222222222,
             "#7201a8"
            ],
            [
             0.3333333333333333,
             "#9c179e"
            ],
            [
             0.4444444444444444,
             "#bd3786"
            ],
            [
             0.5555555555555556,
             "#d8576b"
            ],
            [
             0.6666666666666666,
             "#ed7953"
            ],
            [
             0.7777777777777778,
             "#fb9f3a"
            ],
            [
             0.8888888888888888,
             "#fdca26"
            ],
            [
             1,
             "#f0f921"
            ]
           ]
          },
          "colorway": [
           "#636efa",
           "#EF553B",
           "#00cc96",
           "#ab63fa",
           "#FFA15A",
           "#19d3f3",
           "#FF6692",
           "#B6E880",
           "#FF97FF",
           "#FECB52"
          ],
          "font": {
           "color": "#2a3f5f"
          },
          "geo": {
           "bgcolor": "white",
           "lakecolor": "white",
           "landcolor": "#E5ECF6",
           "showlakes": true,
           "showland": true,
           "subunitcolor": "white"
          },
          "hoverlabel": {
           "align": "left"
          },
          "hovermode": "closest",
          "mapbox": {
           "style": "light"
          },
          "paper_bgcolor": "white",
          "plot_bgcolor": "#E5ECF6",
          "polar": {
           "angularaxis": {
            "gridcolor": "white",
            "linecolor": "white",
            "ticks": ""
           },
           "bgcolor": "#E5ECF6",
           "radialaxis": {
            "gridcolor": "white",
            "linecolor": "white",
            "ticks": ""
           }
          },
          "scene": {
           "xaxis": {
            "backgroundcolor": "#E5ECF6",
            "gridcolor": "white",
            "gridwidth": 2,
            "linecolor": "white",
            "showbackground": true,
            "ticks": "",
            "zerolinecolor": "white"
           },
           "yaxis": {
            "backgroundcolor": "#E5ECF6",
            "gridcolor": "white",
            "gridwidth": 2,
            "linecolor": "white",
            "showbackground": true,
            "ticks": "",
            "zerolinecolor": "white"
           },
           "zaxis": {
            "backgroundcolor": "#E5ECF6",
            "gridcolor": "white",
            "gridwidth": 2,
            "linecolor": "white",
            "showbackground": true,
            "ticks": "",
            "zerolinecolor": "white"
           }
          },
          "shapedefaults": {
           "line": {
            "color": "#2a3f5f"
           }
          },
          "ternary": {
           "aaxis": {
            "gridcolor": "white",
            "linecolor": "white",
            "ticks": ""
           },
           "baxis": {
            "gridcolor": "white",
            "linecolor": "white",
            "ticks": ""
           },
           "bgcolor": "#E5ECF6",
           "caxis": {
            "gridcolor": "white",
            "linecolor": "white",
            "ticks": ""
           }
          },
          "title": {
           "x": 0.05
          },
          "xaxis": {
           "automargin": true,
           "gridcolor": "white",
           "linecolor": "white",
           "ticks": "",
           "title": {
            "standoff": 15
           },
           "zerolinecolor": "white",
           "zerolinewidth": 2
          },
          "yaxis": {
           "automargin": true,
           "gridcolor": "white",
           "linecolor": "white",
           "ticks": "",
           "title": {
            "standoff": 15
           },
           "zerolinecolor": "white",
           "zerolinewidth": 2
          }
         }
        },
        "title": {
         "text": "Units sold per Product type"
        }
       }
      }
     },
     "metadata": {},
     "output_type": "display_data"
    },
    {
     "data": {
      "application/vnd.plotly.v1+json": {
       "config": {
        "plotlyServerURL": "https://plot.ly"
       },
       "data": [
        {
         "alignmentgroup": "True",
         "hovertemplate": "Product_Type=%{x}<br>Total_sold=%{y}<extra></extra>",
         "legendgroup": "",
         "marker": {
          "color": "#636efa",
          "pattern": {
           "shape": ""
          }
         },
         "name": "",
         "offsetgroup": "",
         "orientation": "v",
         "showlegend": false,
         "textposition": "auto",
         "type": "bar",
         "x": [
          "smartphone",
          "keyboard",
          "mouse",
          "dslr camera",
          "processor",
          "monitor"
         ],
         "xaxis": "x",
         "y": [
          134109,
          128524,
          101728,
          96531,
          71551,
          21974
         ],
         "yaxis": "y"
        }
       ],
       "layout": {
        "barmode": "relative",
        "legend": {
         "tracegroupgap": 0
        },
        "template": {
         "data": {
          "bar": [
           {
            "error_x": {
             "color": "#2a3f5f"
            },
            "error_y": {
             "color": "#2a3f5f"
            },
            "marker": {
             "line": {
              "color": "#E5ECF6",
              "width": 0.5
             },
             "pattern": {
              "fillmode": "overlay",
              "size": 10,
              "solidity": 0.2
             }
            },
            "type": "bar"
           }
          ],
          "barpolar": [
           {
            "marker": {
             "line": {
              "color": "#E5ECF6",
              "width": 0.5
             },
             "pattern": {
              "fillmode": "overlay",
              "size": 10,
              "solidity": 0.2
             }
            },
            "type": "barpolar"
           }
          ],
          "carpet": [
           {
            "aaxis": {
             "endlinecolor": "#2a3f5f",
             "gridcolor": "white",
             "linecolor": "white",
             "minorgridcolor": "white",
             "startlinecolor": "#2a3f5f"
            },
            "baxis": {
             "endlinecolor": "#2a3f5f",
             "gridcolor": "white",
             "linecolor": "white",
             "minorgridcolor": "white",
             "startlinecolor": "#2a3f5f"
            },
            "type": "carpet"
           }
          ],
          "choropleth": [
           {
            "colorbar": {
             "outlinewidth": 0,
             "ticks": ""
            },
            "type": "choropleth"
           }
          ],
          "contour": [
           {
            "colorbar": {
             "outlinewidth": 0,
             "ticks": ""
            },
            "colorscale": [
             [
              0,
              "#0d0887"
             ],
             [
              0.1111111111111111,
              "#46039f"
             ],
             [
              0.2222222222222222,
              "#7201a8"
             ],
             [
              0.3333333333333333,
              "#9c179e"
             ],
             [
              0.4444444444444444,
              "#bd3786"
             ],
             [
              0.5555555555555556,
              "#d8576b"
             ],
             [
              0.6666666666666666,
              "#ed7953"
             ],
             [
              0.7777777777777778,
              "#fb9f3a"
             ],
             [
              0.8888888888888888,
              "#fdca26"
             ],
             [
              1,
              "#f0f921"
             ]
            ],
            "type": "contour"
           }
          ],
          "contourcarpet": [
           {
            "colorbar": {
             "outlinewidth": 0,
             "ticks": ""
            },
            "type": "contourcarpet"
           }
          ],
          "heatmap": [
           {
            "colorbar": {
             "outlinewidth": 0,
             "ticks": ""
            },
            "colorscale": [
             [
              0,
              "#0d0887"
             ],
             [
              0.1111111111111111,
              "#46039f"
             ],
             [
              0.2222222222222222,
              "#7201a8"
             ],
             [
              0.3333333333333333,
              "#9c179e"
             ],
             [
              0.4444444444444444,
              "#bd3786"
             ],
             [
              0.5555555555555556,
              "#d8576b"
             ],
             [
              0.6666666666666666,
              "#ed7953"
             ],
             [
              0.7777777777777778,
              "#fb9f3a"
             ],
             [
              0.8888888888888888,
              "#fdca26"
             ],
             [
              1,
              "#f0f921"
             ]
            ],
            "type": "heatmap"
           }
          ],
          "heatmapgl": [
           {
            "colorbar": {
             "outlinewidth": 0,
             "ticks": ""
            },
            "colorscale": [
             [
              0,
              "#0d0887"
             ],
             [
              0.1111111111111111,
              "#46039f"
             ],
             [
              0.2222222222222222,
              "#7201a8"
             ],
             [
              0.3333333333333333,
              "#9c179e"
             ],
             [
              0.4444444444444444,
              "#bd3786"
             ],
             [
              0.5555555555555556,
              "#d8576b"
             ],
             [
              0.6666666666666666,
              "#ed7953"
             ],
             [
              0.7777777777777778,
              "#fb9f3a"
             ],
             [
              0.8888888888888888,
              "#fdca26"
             ],
             [
              1,
              "#f0f921"
             ]
            ],
            "type": "heatmapgl"
           }
          ],
          "histogram": [
           {
            "marker": {
             "pattern": {
              "fillmode": "overlay",
              "size": 10,
              "solidity": 0.2
             }
            },
            "type": "histogram"
           }
          ],
          "histogram2d": [
           {
            "colorbar": {
             "outlinewidth": 0,
             "ticks": ""
            },
            "colorscale": [
             [
              0,
              "#0d0887"
             ],
             [
              0.1111111111111111,
              "#46039f"
             ],
             [
              0.2222222222222222,
              "#7201a8"
             ],
             [
              0.3333333333333333,
              "#9c179e"
             ],
             [
              0.4444444444444444,
              "#bd3786"
             ],
             [
              0.5555555555555556,
              "#d8576b"
             ],
             [
              0.6666666666666666,
              "#ed7953"
             ],
             [
              0.7777777777777778,
              "#fb9f3a"
             ],
             [
              0.8888888888888888,
              "#fdca26"
             ],
             [
              1,
              "#f0f921"
             ]
            ],
            "type": "histogram2d"
           }
          ],
          "histogram2dcontour": [
           {
            "colorbar": {
             "outlinewidth": 0,
             "ticks": ""
            },
            "colorscale": [
             [
              0,
              "#0d0887"
             ],
             [
              0.1111111111111111,
              "#46039f"
             ],
             [
              0.2222222222222222,
              "#7201a8"
             ],
             [
              0.3333333333333333,
              "#9c179e"
             ],
             [
              0.4444444444444444,
              "#bd3786"
             ],
             [
              0.5555555555555556,
              "#d8576b"
             ],
             [
              0.6666666666666666,
              "#ed7953"
             ],
             [
              0.7777777777777778,
              "#fb9f3a"
             ],
             [
              0.8888888888888888,
              "#fdca26"
             ],
             [
              1,
              "#f0f921"
             ]
            ],
            "type": "histogram2dcontour"
           }
          ],
          "mesh3d": [
           {
            "colorbar": {
             "outlinewidth": 0,
             "ticks": ""
            },
            "type": "mesh3d"
           }
          ],
          "parcoords": [
           {
            "line": {
             "colorbar": {
              "outlinewidth": 0,
              "ticks": ""
             }
            },
            "type": "parcoords"
           }
          ],
          "pie": [
           {
            "automargin": true,
            "type": "pie"
           }
          ],
          "scatter": [
           {
            "marker": {
             "colorbar": {
              "outlinewidth": 0,
              "ticks": ""
             }
            },
            "type": "scatter"
           }
          ],
          "scatter3d": [
           {
            "line": {
             "colorbar": {
              "outlinewidth": 0,
              "ticks": ""
             }
            },
            "marker": {
             "colorbar": {
              "outlinewidth": 0,
              "ticks": ""
             }
            },
            "type": "scatter3d"
           }
          ],
          "scattercarpet": [
           {
            "marker": {
             "colorbar": {
              "outlinewidth": 0,
              "ticks": ""
             }
            },
            "type": "scattercarpet"
           }
          ],
          "scattergeo": [
           {
            "marker": {
             "colorbar": {
              "outlinewidth": 0,
              "ticks": ""
             }
            },
            "type": "scattergeo"
           }
          ],
          "scattergl": [
           {
            "marker": {
             "colorbar": {
              "outlinewidth": 0,
              "ticks": ""
             }
            },
            "type": "scattergl"
           }
          ],
          "scattermapbox": [
           {
            "marker": {
             "colorbar": {
              "outlinewidth": 0,
              "ticks": ""
             }
            },
            "type": "scattermapbox"
           }
          ],
          "scatterpolar": [
           {
            "marker": {
             "colorbar": {
              "outlinewidth": 0,
              "ticks": ""
             }
            },
            "type": "scatterpolar"
           }
          ],
          "scatterpolargl": [
           {
            "marker": {
             "colorbar": {
              "outlinewidth": 0,
              "ticks": ""
             }
            },
            "type": "scatterpolargl"
           }
          ],
          "scatterternary": [
           {
            "marker": {
             "colorbar": {
              "outlinewidth": 0,
              "ticks": ""
             }
            },
            "type": "scatterternary"
           }
          ],
          "surface": [
           {
            "colorbar": {
             "outlinewidth": 0,
             "ticks": ""
            },
            "colorscale": [
             [
              0,
              "#0d0887"
             ],
             [
              0.1111111111111111,
              "#46039f"
             ],
             [
              0.2222222222222222,
              "#7201a8"
             ],
             [
              0.3333333333333333,
              "#9c179e"
             ],
             [
              0.4444444444444444,
              "#bd3786"
             ],
             [
              0.5555555555555556,
              "#d8576b"
             ],
             [
              0.6666666666666666,
              "#ed7953"
             ],
             [
              0.7777777777777778,
              "#fb9f3a"
             ],
             [
              0.8888888888888888,
              "#fdca26"
             ],
             [
              1,
              "#f0f921"
             ]
            ],
            "type": "surface"
           }
          ],
          "table": [
           {
            "cells": {
             "fill": {
              "color": "#EBF0F8"
             },
             "line": {
              "color": "white"
             }
            },
            "header": {
             "fill": {
              "color": "#C8D4E3"
             },
             "line": {
              "color": "white"
             }
            },
            "type": "table"
           }
          ]
         },
         "layout": {
          "annotationdefaults": {
           "arrowcolor": "#2a3f5f",
           "arrowhead": 0,
           "arrowwidth": 1
          },
          "autotypenumbers": "strict",
          "coloraxis": {
           "colorbar": {
            "outlinewidth": 0,
            "ticks": ""
           }
          },
          "colorscale": {
           "diverging": [
            [
             0,
             "#8e0152"
            ],
            [
             0.1,
             "#c51b7d"
            ],
            [
             0.2,
             "#de77ae"
            ],
            [
             0.3,
             "#f1b6da"
            ],
            [
             0.4,
             "#fde0ef"
            ],
            [
             0.5,
             "#f7f7f7"
            ],
            [
             0.6,
             "#e6f5d0"
            ],
            [
             0.7,
             "#b8e186"
            ],
            [
             0.8,
             "#7fbc41"
            ],
            [
             0.9,
             "#4d9221"
            ],
            [
             1,
             "#276419"
            ]
           ],
           "sequential": [
            [
             0,
             "#0d0887"
            ],
            [
             0.1111111111111111,
             "#46039f"
            ],
            [
             0.2222222222222222,
             "#7201a8"
            ],
            [
             0.3333333333333333,
             "#9c179e"
            ],
            [
             0.4444444444444444,
             "#bd3786"
            ],
            [
             0.5555555555555556,
             "#d8576b"
            ],
            [
             0.6666666666666666,
             "#ed7953"
            ],
            [
             0.7777777777777778,
             "#fb9f3a"
            ],
            [
             0.8888888888888888,
             "#fdca26"
            ],
            [
             1,
             "#f0f921"
            ]
           ],
           "sequentialminus": [
            [
             0,
             "#0d0887"
            ],
            [
             0.1111111111111111,
             "#46039f"
            ],
            [
             0.2222222222222222,
             "#7201a8"
            ],
            [
             0.3333333333333333,
             "#9c179e"
            ],
            [
             0.4444444444444444,
             "#bd3786"
            ],
            [
             0.5555555555555556,
             "#d8576b"
            ],
            [
             0.6666666666666666,
             "#ed7953"
            ],
            [
             0.7777777777777778,
             "#fb9f3a"
            ],
            [
             0.8888888888888888,
             "#fdca26"
            ],
            [
             1,
             "#f0f921"
            ]
           ]
          },
          "colorway": [
           "#636efa",
           "#EF553B",
           "#00cc96",
           "#ab63fa",
           "#FFA15A",
           "#19d3f3",
           "#FF6692",
           "#B6E880",
           "#FF97FF",
           "#FECB52"
          ],
          "font": {
           "color": "#2a3f5f"
          },
          "geo": {
           "bgcolor": "white",
           "lakecolor": "white",
           "landcolor": "#E5ECF6",
           "showlakes": true,
           "showland": true,
           "subunitcolor": "white"
          },
          "hoverlabel": {
           "align": "left"
          },
          "hovermode": "closest",
          "mapbox": {
           "style": "light"
          },
          "paper_bgcolor": "white",
          "plot_bgcolor": "#E5ECF6",
          "polar": {
           "angularaxis": {
            "gridcolor": "white",
            "linecolor": "white",
            "ticks": ""
           },
           "bgcolor": "#E5ECF6",
           "radialaxis": {
            "gridcolor": "white",
            "linecolor": "white",
            "ticks": ""
           }
          },
          "scene": {
           "xaxis": {
            "backgroundcolor": "#E5ECF6",
            "gridcolor": "white",
            "gridwidth": 2,
            "linecolor": "white",
            "showbackground": true,
            "ticks": "",
            "zerolinecolor": "white"
           },
           "yaxis": {
            "backgroundcolor": "#E5ECF6",
            "gridcolor": "white",
            "gridwidth": 2,
            "linecolor": "white",
            "showbackground": true,
            "ticks": "",
            "zerolinecolor": "white"
           },
           "zaxis": {
            "backgroundcolor": "#E5ECF6",
            "gridcolor": "white",
            "gridwidth": 2,
            "linecolor": "white",
            "showbackground": true,
            "ticks": "",
            "zerolinecolor": "white"
           }
          },
          "shapedefaults": {
           "line": {
            "color": "#2a3f5f"
           }
          },
          "ternary": {
           "aaxis": {
            "gridcolor": "white",
            "linecolor": "white",
            "ticks": ""
           },
           "baxis": {
            "gridcolor": "white",
            "linecolor": "white",
            "ticks": ""
           },
           "bgcolor": "#E5ECF6",
           "caxis": {
            "gridcolor": "white",
            "linecolor": "white",
            "ticks": ""
           }
          },
          "title": {
           "x": 0.05
          },
          "xaxis": {
           "automargin": true,
           "gridcolor": "white",
           "linecolor": "white",
           "ticks": "",
           "title": {
            "standoff": 15
           },
           "zerolinecolor": "white",
           "zerolinewidth": 2
          },
          "yaxis": {
           "automargin": true,
           "gridcolor": "white",
           "linecolor": "white",
           "ticks": "",
           "title": {
            "standoff": 15
           },
           "zerolinecolor": "white",
           "zerolinewidth": 2
          }
         }
        },
        "title": {
         "text": "Units sold per Product type"
        },
        "xaxis": {
         "anchor": "y",
         "domain": [
          0,
          1
         ],
         "title": {
          "text": "Product_Type"
         }
        },
        "yaxis": {
         "anchor": "x",
         "domain": [
          0,
          1
         ],
         "title": {
          "text": "Total_sold"
         }
        }
       }
      }
     },
     "metadata": {},
     "output_type": "display_data"
    }
   ],
   "source": [
    "sizes = pd.DataFrame(merged_tables.value_counts(\"Product_Type\")).reset_index().rename({0:\"Total_sold\"}, axis=1)\n",
    "\n",
    "\n",
    "display(sizes)\n",
    "display(px.pie(sizes, values='Total_sold', names='Product_Type', hole=.3, title=\"Units sold per Product type\"))\n",
    "\n",
    "fig = px.bar(sizes, x=\"Product_Type\", y=\"Total_sold\",  title=\"Units sold per Product type\")\n",
    "fig.show()"
   ]
  },
  {
   "cell_type": "code",
   "execution_count": 30,
   "metadata": {},
   "outputs": [
    {
     "data": {
      "text/html": [
       "<div>\n",
       "<style scoped>\n",
       "    .dataframe tbody tr th:only-of-type {\n",
       "        vertical-align: middle;\n",
       "    }\n",
       "\n",
       "    .dataframe tbody tr th {\n",
       "        vertical-align: top;\n",
       "    }\n",
       "\n",
       "    .dataframe thead tr th {\n",
       "        text-align: left;\n",
       "    }\n",
       "</style>\n",
       "<table border=\"1\" class=\"dataframe\">\n",
       "  <thead>\n",
       "    <tr>\n",
       "      <th></th>\n",
       "      <th>Customer_Id</th>\n",
       "      <th>Country</th>\n",
       "      <th>Total_Orders</th>\n",
       "      <th>Average_Sale</th>\n",
       "      <th>Total_Revenue</th>\n",
       "      <th>Average_Units_Sold</th>\n",
       "      <th>Total_Units_Sold</th>\n",
       "    </tr>\n",
       "    <tr>\n",
       "      <th></th>\n",
       "      <th></th>\n",
       "      <th>unique</th>\n",
       "      <th></th>\n",
       "      <th></th>\n",
       "      <th></th>\n",
       "      <th></th>\n",
       "      <th></th>\n",
       "    </tr>\n",
       "  </thead>\n",
       "  <tbody>\n",
       "    <tr>\n",
       "      <th>395</th>\n",
       "      <td>14911</td>\n",
       "      <td>[Ireland]</td>\n",
       "      <td>201</td>\n",
       "      <td>1565.6</td>\n",
       "      <td>9340224.3</td>\n",
       "      <td>14.0</td>\n",
       "      <td>83711</td>\n",
       "    </tr>\n",
       "    <tr>\n",
       "      <th>394</th>\n",
       "      <td>14646</td>\n",
       "      <td>[Netherlands]</td>\n",
       "      <td>73</td>\n",
       "      <td>9997.6</td>\n",
       "      <td>21664738.3</td>\n",
       "      <td>94.8</td>\n",
       "      <td>205535</td>\n",
       "    </tr>\n",
       "    <tr>\n",
       "      <th>387</th>\n",
       "      <td>14156</td>\n",
       "      <td>[Ireland]</td>\n",
       "      <td>55</td>\n",
       "      <td>3887.2</td>\n",
       "      <td>5725778.9</td>\n",
       "      <td>41.1</td>\n",
       "      <td>60602</td>\n",
       "    </tr>\n",
       "    <tr>\n",
       "      <th>176</th>\n",
       "      <td>12569</td>\n",
       "      <td>[United Kingdom]</td>\n",
       "      <td>32</td>\n",
       "      <td>960.2</td>\n",
       "      <td>160355.4</td>\n",
       "      <td>11.4</td>\n",
       "      <td>1911</td>\n",
       "    </tr>\n",
       "    <tr>\n",
       "      <th>272</th>\n",
       "      <td>12682</td>\n",
       "      <td>[France]</td>\n",
       "      <td>31</td>\n",
       "      <td>938.0</td>\n",
       "      <td>487763.4</td>\n",
       "      <td>11.1</td>\n",
       "      <td>5781</td>\n",
       "    </tr>\n",
       "    <tr>\n",
       "      <th>99</th>\n",
       "      <td>12471</td>\n",
       "      <td>[United Kingdom]</td>\n",
       "      <td>28</td>\n",
       "      <td>1888.4</td>\n",
       "      <td>885666.3</td>\n",
       "      <td>18.5</td>\n",
       "      <td>8699</td>\n",
       "    </tr>\n",
       "    <tr>\n",
       "      <th>303</th>\n",
       "      <td>12720</td>\n",
       "      <td>[United Kingdom]</td>\n",
       "      <td>25</td>\n",
       "      <td>1146.9</td>\n",
       "      <td>406008.3</td>\n",
       "      <td>13.6</td>\n",
       "      <td>4819</td>\n",
       "    </tr>\n",
       "    <tr>\n",
       "      <th>271</th>\n",
       "      <td>12681</td>\n",
       "      <td>[France]</td>\n",
       "      <td>22</td>\n",
       "      <td>962.1</td>\n",
       "      <td>630162.6</td>\n",
       "      <td>12.1</td>\n",
       "      <td>7899</td>\n",
       "    </tr>\n",
       "    <tr>\n",
       "      <th>54</th>\n",
       "      <td>12415</td>\n",
       "      <td>[Australia]</td>\n",
       "      <td>20</td>\n",
       "      <td>12509.3</td>\n",
       "      <td>9244349.2</td>\n",
       "      <td>108.4</td>\n",
       "      <td>80119</td>\n",
       "    </tr>\n",
       "    <tr>\n",
       "      <th>222</th>\n",
       "      <td>12621</td>\n",
       "      <td>[United Kingdom]</td>\n",
       "      <td>20</td>\n",
       "      <td>1430.4</td>\n",
       "      <td>676571.0</td>\n",
       "      <td>16.6</td>\n",
       "      <td>7873</td>\n",
       "    </tr>\n",
       "  </tbody>\n",
       "</table>\n",
       "</div>"
      ],
      "text/plain": [
       "    Customer_Id           Country Total_Orders Average_Sale Total_Revenue  \\\n",
       "                           unique                                           \n",
       "395       14911         [Ireland]          201       1565.6     9340224.3   \n",
       "394       14646     [Netherlands]           73       9997.6    21664738.3   \n",
       "387       14156         [Ireland]           55       3887.2     5725778.9   \n",
       "176       12569  [United Kingdom]           32        960.2      160355.4   \n",
       "272       12682          [France]           31        938.0      487763.4   \n",
       "99        12471  [United Kingdom]           28       1888.4      885666.3   \n",
       "303       12720  [United Kingdom]           25       1146.9      406008.3   \n",
       "271       12681          [France]           22        962.1      630162.6   \n",
       "54        12415       [Australia]           20      12509.3     9244349.2   \n",
       "222       12621  [United Kingdom]           20       1430.4      676571.0   \n",
       "\n",
       "    Average_Units_Sold Total_Units_Sold  \n",
       "                                         \n",
       "395               14.0            83711  \n",
       "394               94.8           205535  \n",
       "387               41.1            60602  \n",
       "176               11.4             1911  \n",
       "272               11.1             5781  \n",
       "99                18.5             8699  \n",
       "303               13.6             4819  \n",
       "271               12.1             7899  \n",
       "54               108.4            80119  \n",
       "222               16.6             7873  "
      ]
     },
     "execution_count": 30,
     "metadata": {},
     "output_type": "execute_result"
    }
   ],
   "source": [
    "cust_count = merged_tables[merged_tables['Year'] == 2019] \n",
    "\n",
    "\n",
    "cust_count = merged_tables[merged_tables['Country'] != \"Germany\"].groupby(['Customer_Id']).agg({'Country':'unique', 'InvoiceNo':'nunique', 'Total_Sales':['mean', 'sum'], \n",
    "                                                 'Quantity': ['mean', 'sum']}).round(1).reset_index()#.rename(columns={0 : 'count'}).sort_values('count', ascending = False)\n",
    "cust_count['Total_Orders']=cust_count['InvoiceNo']['nunique']\n",
    "cust_count['Average_Sale']=cust_count['Total_Sales']['mean']\n",
    "cust_count['Total_Revenue']=cust_count['Total_Sales']['sum']\n",
    "cust_count['Country'] = cust_count['Country']['unique']\n",
    "cust_count['Average_Units_Sold'] = cust_count['Quantity']['mean']\n",
    "cust_count['Total_Units_Sold'] = cust_count['Quantity']['sum']\n",
    "cust_count.head()\n",
    "\n",
    "cust_count = cust_count.sort_values('Total_Orders', ascending = False)\n",
    "cust_count.drop(418, axis = 0,inplace = True) # drop row where Customer_Id = Null\n",
    "cust_count = cust_count[['Customer_Id', 'Country', 'Total_Orders', \"Average_Sale\", 'Total_Revenue',\"Average_Units_Sold\", 'Total_Units_Sold']]\n",
    "\n",
    "\n",
    "cust_count.head(10)"
   ]
  },
  {
   "cell_type": "code",
   "execution_count": 31,
   "metadata": {},
   "outputs": [
    {
     "name": "stdout",
     "output_type": "stream",
     "text": [
      "<class 'pandas.core.frame.DataFrame'>\n",
      "Int64Index: 418 entries, 395 to 209\n",
      "Data columns (total 7 columns):\n",
      " #   Column                  Non-Null Count  Dtype  \n",
      "---  ------                  --------------  -----  \n",
      " 0   (Customer_Id, )         418 non-null    object \n",
      " 1   (Country, unique)       418 non-null    object \n",
      " 2   (Total_Orders, )        418 non-null    int64  \n",
      " 3   (Average_Sale, )        418 non-null    float64\n",
      " 4   (Total_Revenue, )       418 non-null    float64\n",
      " 5   (Average_Units_Sold, )  418 non-null    float64\n",
      " 6   (Total_Units_Sold, )    418 non-null    int64  \n",
      "dtypes: float64(3), int64(2), object(2)\n",
      "memory usage: 26.1+ KB\n"
     ]
    }
   ],
   "source": [
    "cust_count.info()"
   ]
  },
  {
   "cell_type": "code",
   "execution_count": 32,
   "metadata": {},
   "outputs": [],
   "source": [
    "# cust_count = px.bar(sizes, x=\"Customer_Id\", y=\"Total_Orders\",  title=\"Units sold per Product type\")\n",
    "# fig.show()"
   ]
  },
  {
   "cell_type": "code",
   "execution_count": 33,
   "metadata": {},
   "outputs": [
    {
     "data": {
      "text/plain": [
       "18962"
      ]
     },
     "metadata": {},
     "output_type": "display_data"
    },
    {
     "data": {
      "text/html": [
       "<div>\n",
       "<style scoped>\n",
       "    .dataframe tbody tr th:only-of-type {\n",
       "        vertical-align: middle;\n",
       "    }\n",
       "\n",
       "    .dataframe tbody tr th {\n",
       "        vertical-align: top;\n",
       "    }\n",
       "\n",
       "    .dataframe thead tr th {\n",
       "        text-align: left;\n",
       "    }\n",
       "</style>\n",
       "<table border=\"1\" class=\"dataframe\">\n",
       "  <thead>\n",
       "    <tr>\n",
       "      <th></th>\n",
       "      <th>Day</th>\n",
       "      <th>Total_Orders</th>\n",
       "      <th>Average_Sale</th>\n",
       "      <th>Total_Revenue</th>\n",
       "      <th>Unique_Customers</th>\n",
       "      <th>Average_Units_Sold</th>\n",
       "      <th>Total_Units_Sold</th>\n",
       "    </tr>\n",
       "    <tr>\n",
       "      <th></th>\n",
       "      <th></th>\n",
       "      <th></th>\n",
       "      <th></th>\n",
       "      <th></th>\n",
       "      <th></th>\n",
       "      <th></th>\n",
       "      <th></th>\n",
       "    </tr>\n",
       "  </thead>\n",
       "  <tbody>\n",
       "    <tr>\n",
       "      <th>0</th>\n",
       "      <td>00 Monday</td>\n",
       "      <td>3047</td>\n",
       "      <td>1166.2</td>\n",
       "      <td>88330069.7</td>\n",
       "      <td>1497</td>\n",
       "      <td>12.0</td>\n",
       "      <td>906148</td>\n",
       "    </tr>\n",
       "    <tr>\n",
       "      <th>1</th>\n",
       "      <td>01 Tuesday</td>\n",
       "      <td>0</td>\n",
       "      <td>0.0</td>\n",
       "      <td>0.0</td>\n",
       "      <td>0</td>\n",
       "      <td>0.0</td>\n",
       "      <td>0</td>\n",
       "    </tr>\n",
       "    <tr>\n",
       "      <th>2</th>\n",
       "      <td>02 Wednesday</td>\n",
       "      <td>2052</td>\n",
       "      <td>784.5</td>\n",
       "      <td>48485380.6</td>\n",
       "      <td>1181</td>\n",
       "      <td>7.4</td>\n",
       "      <td>459617</td>\n",
       "    </tr>\n",
       "    <tr>\n",
       "      <th>3</th>\n",
       "      <td>03 Thursday</td>\n",
       "      <td>2993</td>\n",
       "      <td>1004.4</td>\n",
       "      <td>89819435.1</td>\n",
       "      <td>1525</td>\n",
       "      <td>10.0</td>\n",
       "      <td>894923</td>\n",
       "    </tr>\n",
       "    <tr>\n",
       "      <th>4</th>\n",
       "      <td>04 Friday</td>\n",
       "      <td>3430</td>\n",
       "      <td>1174.9</td>\n",
       "      <td>114301948.9</td>\n",
       "      <td>1649</td>\n",
       "      <td>11.9</td>\n",
       "      <td>1154448</td>\n",
       "    </tr>\n",
       "    <tr>\n",
       "      <th>5</th>\n",
       "      <td>05 Saturday</td>\n",
       "      <td>3477</td>\n",
       "      <td>1181.5</td>\n",
       "      <td>105295667.4</td>\n",
       "      <td>1652</td>\n",
       "      <td>11.6</td>\n",
       "      <td>1034159</td>\n",
       "    </tr>\n",
       "    <tr>\n",
       "      <th>6</th>\n",
       "      <td>06 Sunday</td>\n",
       "      <td>3963</td>\n",
       "      <td>1320.6</td>\n",
       "      <td>129034351.3</td>\n",
       "      <td>1901</td>\n",
       "      <td>12.3</td>\n",
       "      <td>1200525</td>\n",
       "    </tr>\n",
       "  </tbody>\n",
       "</table>\n",
       "</div>"
      ],
      "text/plain": [
       "            Day Total_Orders Average_Sale Total_Revenue Unique_Customers  \\\n",
       "                                                                           \n",
       "0     00 Monday         3047       1166.2    88330069.7             1497   \n",
       "1    01 Tuesday            0          0.0           0.0                0   \n",
       "2  02 Wednesday         2052        784.5    48485380.6             1181   \n",
       "3   03 Thursday         2993       1004.4    89819435.1             1525   \n",
       "4     04 Friday         3430       1174.9   114301948.9             1649   \n",
       "5   05 Saturday         3477       1181.5   105295667.4             1652   \n",
       "6     06 Sunday         3963       1320.6   129034351.3             1901   \n",
       "\n",
       "  Average_Units_Sold Total_Units_Sold  \n",
       "                                       \n",
       "0               12.0           906148  \n",
       "1                0.0                0  \n",
       "2                7.4           459617  \n",
       "3               10.0           894923  \n",
       "4               11.9          1154448  \n",
       "5               11.6          1034159  \n",
       "6               12.3          1200525  "
      ]
     },
     "execution_count": 33,
     "metadata": {},
     "output_type": "execute_result"
    }
   ],
   "source": [
    "# Group by day of week\n",
    "df_dow = merged_tables[merged_tables['Year'] == 2019].groupby(['Day']).agg({'InvoiceNo':'nunique', 'Total_Sales':['mean', 'sum'], \n",
    "                                                'Customer_Id':'nunique', 'Quantity': ['mean', 'sum']}).round(1)\n",
    "\n",
    "df_dow['Total_Orders']=df_dow['InvoiceNo']['nunique']\n",
    "df_dow['Average_Sale']=df_dow['Total_Sales']['mean']\n",
    "df_dow['Total_Revenue']=df_dow['Total_Sales']['sum']\n",
    "df_dow['Unique_Customers']= df_dow['Customer_Id']['nunique']\n",
    "df_dow['Average_Units_Sold'] = df_dow['Quantity']['mean']\n",
    "df_dow['Total_Units_Sold'] = df_dow['Quantity']['sum']\n",
    "\n",
    "\n",
    "df_dow = df_dow[['Total_Orders', \"Average_Sale\", 'Total_Revenue', 'Unique_Customers',\"Average_Units_Sold\", 'Total_Units_Sold']]\n",
    "df_dow = df_dow.reset_index()\n",
    "# Tuesday data is missing, so add zero values.\n",
    "df_dow.loc['6'] = [\"01 Tuesday\",0,0,0,0,0,0]\n",
    "\n",
    "df_dow = df_dow.sort_values(['Day'])\n",
    "df_dow.index = [0,1,2,3,4,5,6]\n",
    "df_dow = df_dow[['Day', 'Total_Orders', \"Average_Sale\", 'Total_Revenue', 'Unique_Customers',\"Average_Units_Sold\", 'Total_Units_Sold']]\n",
    "display(df_dow[\"Total_Orders\"].sum())\n",
    "df_dow"
   ]
  },
  {
   "cell_type": "code",
   "execution_count": 34,
   "metadata": {},
   "outputs": [
    {
     "data": {
      "text/html": [
       "<div>\n",
       "<style scoped>\n",
       "    .dataframe tbody tr th:only-of-type {\n",
       "        vertical-align: middle;\n",
       "    }\n",
       "\n",
       "    .dataframe tbody tr th {\n",
       "        vertical-align: top;\n",
       "    }\n",
       "\n",
       "    .dataframe thead tr th {\n",
       "        text-align: left;\n",
       "    }\n",
       "</style>\n",
       "<table border=\"1\" class=\"dataframe\">\n",
       "  <thead>\n",
       "    <tr>\n",
       "      <th></th>\n",
       "      <th>Hour</th>\n",
       "      <th>Total_Orders</th>\n",
       "      <th>Average_Sale</th>\n",
       "      <th>Total_Revenue</th>\n",
       "      <th>Unique_Customers</th>\n",
       "      <th>Average_Units_Sold</th>\n",
       "      <th>Total_Units_Sold</th>\n",
       "    </tr>\n",
       "    <tr>\n",
       "      <th></th>\n",
       "      <th></th>\n",
       "      <th></th>\n",
       "      <th></th>\n",
       "      <th></th>\n",
       "      <th></th>\n",
       "      <th></th>\n",
       "      <th></th>\n",
       "    </tr>\n",
       "  </thead>\n",
       "  <tbody>\n",
       "    <tr>\n",
       "      <th>0</th>\n",
       "      <td>6</td>\n",
       "      <td>1</td>\n",
       "      <td>279.0</td>\n",
       "      <td>279.0</td>\n",
       "      <td>1</td>\n",
       "      <td>1.0</td>\n",
       "      <td>1</td>\n",
       "    </tr>\n",
       "    <tr>\n",
       "      <th>1</th>\n",
       "      <td>7</td>\n",
       "      <td>27</td>\n",
       "      <td>3657.5</td>\n",
       "      <td>1411814.1</td>\n",
       "      <td>26</td>\n",
       "      <td>40.9</td>\n",
       "      <td>15773</td>\n",
       "    </tr>\n",
       "    <tr>\n",
       "      <th>2</th>\n",
       "      <td>8</td>\n",
       "      <td>540</td>\n",
       "      <td>1899.8</td>\n",
       "      <td>16959489.2</td>\n",
       "      <td>415</td>\n",
       "      <td>18.2</td>\n",
       "      <td>162761</td>\n",
       "    </tr>\n",
       "  </tbody>\n",
       "</table>\n",
       "</div>"
      ],
      "text/plain": [
       "  Hour Total_Orders Average_Sale Total_Revenue Unique_Customers  \\\n",
       "                                                                  \n",
       "0    6            1        279.0         279.0                1   \n",
       "1    7           27       3657.5     1411814.1               26   \n",
       "2    8          540       1899.8    16959489.2              415   \n",
       "\n",
       "  Average_Units_Sold Total_Units_Sold  \n",
       "                                       \n",
       "0                1.0                1  \n",
       "1               40.9            15773  \n",
       "2               18.2           162761  "
      ]
     },
     "execution_count": 34,
     "metadata": {},
     "output_type": "execute_result"
    }
   ],
   "source": [
    "# Group by Hour\n",
    "df_Hour = merged_tables[merged_tables['Year'] == 2019].groupby(['Hour']).agg({'InvoiceNo':'nunique', 'Total_Sales':['mean', 'sum'], \n",
    "                                                'Customer_Id':'nunique', 'Quantity': ['mean', 'sum']}).round(1)\n",
    "df_Hour['Total_Orders']=df_Hour['InvoiceNo']['nunique']\n",
    "df_Hour['Average_Sale']=df_Hour['Total_Sales']['mean']\n",
    "df_Hour['Total_Revenue']=df_Hour['Total_Sales']['sum']\n",
    "df_Hour['Unique_Customers']= df_Hour['Customer_Id']['nunique']\n",
    "df_Hour['Average_Units_Sold'] = df_Hour['Quantity']['mean']\n",
    "df_Hour['Total_Units_Sold'] = df_Hour['Quantity']['sum']\n",
    "\n",
    "df_Hour = df_Hour[['Total_Orders', 'Average_Sale', 'Total_Revenue', 'Unique_Customers', 'Average_Units_Sold', 'Total_Units_Sold']]\n",
    "df_Hour = df_Hour.reset_index()\n",
    "df_Hour.head(3)"
   ]
  },
  {
   "cell_type": "code",
   "execution_count": 35,
   "metadata": {},
   "outputs": [
    {
     "data": {
      "text/html": [
       "<div>\n",
       "<style scoped>\n",
       "    .dataframe tbody tr th:only-of-type {\n",
       "        vertical-align: middle;\n",
       "    }\n",
       "\n",
       "    .dataframe tbody tr th {\n",
       "        vertical-align: top;\n",
       "    }\n",
       "\n",
       "    .dataframe thead tr th {\n",
       "        text-align: left;\n",
       "    }\n",
       "</style>\n",
       "<table border=\"1\" class=\"dataframe\">\n",
       "  <thead>\n",
       "    <tr>\n",
       "      <th></th>\n",
       "      <th>Month</th>\n",
       "      <th>Total_Orders</th>\n",
       "      <th>Average_Sale</th>\n",
       "      <th>Total_Revenue</th>\n",
       "      <th>Unique_Customers</th>\n",
       "      <th>Average_Units_Sold</th>\n",
       "      <th>Total_Units_Sold</th>\n",
       "    </tr>\n",
       "    <tr>\n",
       "      <th></th>\n",
       "      <th></th>\n",
       "      <th></th>\n",
       "      <th></th>\n",
       "      <th></th>\n",
       "      <th></th>\n",
       "      <th></th>\n",
       "      <th></th>\n",
       "    </tr>\n",
       "  </thead>\n",
       "  <tbody>\n",
       "    <tr>\n",
       "      <th>0</th>\n",
       "      <td>01 January</td>\n",
       "      <td>1100</td>\n",
       "      <td>1063.1</td>\n",
       "      <td>38126912.3</td>\n",
       "      <td>742</td>\n",
       "      <td>11.4</td>\n",
       "      <td>407747</td>\n",
       "    </tr>\n",
       "    <tr>\n",
       "      <th>1</th>\n",
       "      <td>02 February</td>\n",
       "      <td>1108</td>\n",
       "      <td>1032.9</td>\n",
       "      <td>29315803.0</td>\n",
       "      <td>759</td>\n",
       "      <td>10.6</td>\n",
       "      <td>300844</td>\n",
       "    </tr>\n",
       "  </tbody>\n",
       "</table>\n",
       "</div>"
      ],
      "text/plain": [
       "         Month Total_Orders Average_Sale Total_Revenue Unique_Customers  \\\n",
       "                                                                          \n",
       "0   01 January         1100       1063.1    38126912.3              742   \n",
       "1  02 February         1108       1032.9    29315803.0              759   \n",
       "\n",
       "  Average_Units_Sold Total_Units_Sold  \n",
       "                                       \n",
       "0               11.4           407747  \n",
       "1               10.6           300844  "
      ]
     },
     "execution_count": 35,
     "metadata": {},
     "output_type": "execute_result"
    }
   ],
   "source": [
    "# Group by Month\n",
    "df_Month = merged_tables[merged_tables['Year'] == 2019].groupby(['Month']).agg({'InvoiceNo':'nunique', 'Total_Sales':['mean', 'sum'], \n",
    "                                                'Customer_Id':'nunique', 'Quantity': ['mean', 'sum']}).round(1)\n",
    "df_Month['Total_Orders']=df_Month['InvoiceNo']['nunique']\n",
    "df_Month['Average_Sale']=df_Month['Total_Sales']['mean']\n",
    "df_Month['Total_Revenue']=df_Month['Total_Sales']['sum']\n",
    "df_Month['Unique_Customers']= df_Month['Customer_Id']['nunique']\n",
    "df_Month['Average_Units_Sold'] = df_Month['Quantity']['mean']\n",
    "df_Month['Total_Units_Sold'] = df_Month['Quantity']['sum']\n",
    "\n",
    "df_Month = df_Month[['Total_Orders', 'Average_Sale', 'Total_Revenue', 'Unique_Customers', 'Average_Units_Sold', 'Total_Units_Sold']].sort_values(\"Month\")\n",
    "df_Month = df_Month.reset_index()\n",
    "df_Month.head(2)"
   ]
  },
  {
   "cell_type": "code",
   "execution_count": 36,
   "metadata": {},
   "outputs": [
    {
     "data": {
      "text/html": [
       "<div>\n",
       "<style scoped>\n",
       "    .dataframe tbody tr th:only-of-type {\n",
       "        vertical-align: middle;\n",
       "    }\n",
       "\n",
       "    .dataframe tbody tr th {\n",
       "        vertical-align: top;\n",
       "    }\n",
       "\n",
       "    .dataframe thead tr th {\n",
       "        text-align: left;\n",
       "    }\n",
       "</style>\n",
       "<table border=\"1\" class=\"dataframe\">\n",
       "  <thead>\n",
       "    <tr>\n",
       "      <th></th>\n",
       "      <th>Invoice_Date</th>\n",
       "      <th>Total_Orders</th>\n",
       "      <th>Average_Sale</th>\n",
       "      <th>Total_Revenue</th>\n",
       "      <th>Unique_Customers</th>\n",
       "      <th>Average_Units_Sold</th>\n",
       "      <th>Total_Units_Sold</th>\n",
       "    </tr>\n",
       "    <tr>\n",
       "      <th></th>\n",
       "      <th></th>\n",
       "      <th></th>\n",
       "      <th></th>\n",
       "      <th></th>\n",
       "      <th></th>\n",
       "      <th></th>\n",
       "      <th></th>\n",
       "    </tr>\n",
       "  </thead>\n",
       "  <tbody>\n",
       "    <tr>\n",
       "      <th>0</th>\n",
       "      <td>2019-01-04</td>\n",
       "      <td>39</td>\n",
       "      <td>830.3</td>\n",
       "      <td>1002201.6</td>\n",
       "      <td>35</td>\n",
       "      <td>7.7</td>\n",
       "      <td>9256</td>\n",
       "    </tr>\n",
       "    <tr>\n",
       "      <th>1</th>\n",
       "      <td>2019-01-05</td>\n",
       "      <td>55</td>\n",
       "      <td>1023.9</td>\n",
       "      <td>1786655.0</td>\n",
       "      <td>46</td>\n",
       "      <td>11.8</td>\n",
       "      <td>20504</td>\n",
       "    </tr>\n",
       "  </tbody>\n",
       "</table>\n",
       "</div>"
      ],
      "text/plain": [
       "  Invoice_Date Total_Orders Average_Sale Total_Revenue Unique_Customers  \\\n",
       "                                                                          \n",
       "0   2019-01-04           39        830.3     1002201.6               35   \n",
       "1   2019-01-05           55       1023.9     1786655.0               46   \n",
       "\n",
       "  Average_Units_Sold Total_Units_Sold  \n",
       "                                       \n",
       "0                7.7             9256  \n",
       "1               11.8            20504  "
      ]
     },
     "execution_count": 36,
     "metadata": {},
     "output_type": "execute_result"
    }
   ],
   "source": [
    "# Group by Invoice_Date\n",
    "df_date = merged_tables[merged_tables['Year'] == 2019].groupby(['Invoice_Date']).agg({'InvoiceNo':'nunique', 'Total_Sales':['mean', 'sum'], \n",
    "                                                'Customer_Id':'nunique', 'Quantity': ['mean', 'sum']}).round(1)\n",
    "df_date['Total_Orders']=df_date['InvoiceNo']['nunique']\n",
    "df_date['Average_Sale']=df_date['Total_Sales']['mean']\n",
    "df_date['Total_Revenue']=df_date['Total_Sales']['sum']\n",
    "df_date['Unique_Customers']= df_date['Customer_Id']['nunique']\n",
    "df_date['Average_Units_Sold'] = df_date['Quantity']['mean']\n",
    "df_date['Total_Units_Sold'] = df_date['Quantity']['sum']\n",
    "\n",
    "df_date = df_date[['Total_Orders', 'Average_Sale', 'Total_Revenue', 'Unique_Customers', 'Average_Units_Sold', 'Total_Units_Sold']]\n",
    "df_date = df_date.reset_index()\n",
    "df_date.head(2)"
   ]
  },
  {
   "cell_type": "code",
   "execution_count": 37,
   "metadata": {},
   "outputs": [
    {
     "data": {
      "text/html": [
       "<div>\n",
       "<style scoped>\n",
       "    .dataframe tbody tr th:only-of-type {\n",
       "        vertical-align: middle;\n",
       "    }\n",
       "\n",
       "    .dataframe tbody tr th {\n",
       "        vertical-align: top;\n",
       "    }\n",
       "\n",
       "    .dataframe thead tr th {\n",
       "        text-align: left;\n",
       "    }\n",
       "</style>\n",
       "<table border=\"1\" class=\"dataframe\">\n",
       "  <thead>\n",
       "    <tr>\n",
       "      <th></th>\n",
       "      <th>Country</th>\n",
       "      <th>Total_Orders</th>\n",
       "      <th>Average_Sale</th>\n",
       "      <th>Total_Revenue</th>\n",
       "      <th>Unique_Customers</th>\n",
       "      <th>Average_Units_Sold</th>\n",
       "      <th>Total_Units_Sold</th>\n",
       "      <th>Average_Order_Value</th>\n",
       "    </tr>\n",
       "    <tr>\n",
       "      <th></th>\n",
       "      <th></th>\n",
       "      <th></th>\n",
       "      <th></th>\n",
       "      <th></th>\n",
       "      <th></th>\n",
       "      <th></th>\n",
       "      <th></th>\n",
       "      <th></th>\n",
       "    </tr>\n",
       "  </thead>\n",
       "  <tbody>\n",
       "    <tr>\n",
       "      <th>0</th>\n",
       "      <td>Germany</td>\n",
       "      <td>17167</td>\n",
       "      <td>1028.9</td>\n",
       "      <td>480882971.2</td>\n",
       "      <td>3815</td>\n",
       "      <td>10.1</td>\n",
       "      <td>4731881</td>\n",
       "      <td>28012.1</td>\n",
       "    </tr>\n",
       "    <tr>\n",
       "      <th>1</th>\n",
       "      <td>Netherlands</td>\n",
       "      <td>91</td>\n",
       "      <td>8969.7</td>\n",
       "      <td>21302953.4</td>\n",
       "      <td>8</td>\n",
       "      <td>85.1</td>\n",
       "      <td>202159</td>\n",
       "      <td>234098.4</td>\n",
       "    </tr>\n",
       "  </tbody>\n",
       "</table>\n",
       "</div>"
      ],
      "text/plain": [
       "       Country Total_Orders Average_Sale Total_Revenue Unique_Customers  \\\n",
       "                                                                          \n",
       "0      Germany        17167       1028.9   480882971.2             3815   \n",
       "1  Netherlands           91       8969.7    21302953.4                8   \n",
       "\n",
       "  Average_Units_Sold Total_Units_Sold Average_Order_Value  \n",
       "                                                           \n",
       "0               10.1          4731881             28012.1  \n",
       "1               85.1           202159            234098.4  "
      ]
     },
     "execution_count": 37,
     "metadata": {},
     "output_type": "execute_result"
    }
   ],
   "source": [
    "# Group by Country\n",
    "df_country = merged_tables[merged_tables['Year'] == 2019].groupby(['Country']).agg({'InvoiceNo':'nunique', 'Total_Sales':['mean', 'sum'], \n",
    "                                                'Customer_Id':'nunique', 'Quantity': ['mean', 'sum']}).round(1)\n",
    "df_country['Total_Orders']=df_country['InvoiceNo']['nunique']\n",
    "df_country['Average_Sale']=df_country['Total_Sales']['mean']\n",
    "df_country['Total_Revenue']=df_country['Total_Sales']['sum']\n",
    "df_country['Unique_Customers']= df_country['Customer_Id']['nunique']\n",
    "df_country['Average_Units_Sold'] = df_country['Quantity']['mean']\n",
    "df_country['Total_Units_Sold'] = df_country['Quantity']['sum']\n",
    "\n",
    "df_country = df_country[['Total_Orders', 'Average_Sale', 'Total_Revenue', 'Unique_Customers', 'Average_Units_Sold', 'Total_Units_Sold']]\n",
    "df_country.sort_values(by = ['Total_Revenue', 'Total_Orders', 'Unique_Customers'],ascending = False, inplace = True)\n",
    "#df_country['revenue_per_customer'] = df_country['Total_Revenue'] / df_country['Unique_Customers']\n",
    "df_country['Average_Order_Value'] = (df_country['Total_Revenue'] / df_country['Total_Orders']).round(1)\n",
    "df_country = df_country.reset_index()\n",
    "df_country.head(2)"
   ]
  },
  {
   "cell_type": "code",
   "execution_count": 38,
   "metadata": {},
   "outputs": [
    {
     "data": {
      "text/html": [
       "<div>\n",
       "<style scoped>\n",
       "    .dataframe tbody tr th:only-of-type {\n",
       "        vertical-align: middle;\n",
       "    }\n",
       "\n",
       "    .dataframe tbody tr th {\n",
       "        vertical-align: top;\n",
       "    }\n",
       "\n",
       "    .dataframe thead th {\n",
       "        text-align: right;\n",
       "    }\n",
       "</style>\n",
       "<table border=\"1\" class=\"dataframe\">\n",
       "  <thead>\n",
       "    <tr style=\"text-align: right;\">\n",
       "      <th></th>\n",
       "      <th>Customer_Id</th>\n",
       "      <th>Total_Orders</th>\n",
       "      <th>Total_Revenue</th>\n",
       "      <th>Unique_Products</th>\n",
       "      <th>Average_Unit_Price</th>\n",
       "      <th>Total_Units_Sold</th>\n",
       "      <th>Country</th>\n",
       "    </tr>\n",
       "  </thead>\n",
       "  <tbody>\n",
       "    <tr>\n",
       "      <th>0</th>\n",
       "      <td>14646</td>\n",
       "      <td>73</td>\n",
       "      <td>21664738.3</td>\n",
       "      <td>707</td>\n",
       "      <td>96.9</td>\n",
       "      <td>205535</td>\n",
       "      <td>Netherlands</td>\n",
       "    </tr>\n",
       "    <tr>\n",
       "      <th>1</th>\n",
       "      <td>14911</td>\n",
       "      <td>201</td>\n",
       "      <td>9340224.3</td>\n",
       "      <td>1790</td>\n",
       "      <td>97.5</td>\n",
       "      <td>83711</td>\n",
       "      <td>Ireland</td>\n",
       "    </tr>\n",
       "  </tbody>\n",
       "</table>\n",
       "</div>"
      ],
      "text/plain": [
       "  Customer_Id  Total_Orders  Total_Revenue  Unique_Products  \\\n",
       "0       14646            73     21664738.3              707   \n",
       "1       14911           201      9340224.3             1790   \n",
       "\n",
       "   Average_Unit_Price  Total_Units_Sold      Country  \n",
       "0                96.9            205535  Netherlands  \n",
       "1                97.5             83711      Ireland  "
      ]
     },
     "execution_count": 38,
     "metadata": {},
     "output_type": "execute_result"
    }
   ],
   "source": [
    "# Group by customer\n",
    "\n",
    "df_customer = merged_tables.groupby(['Customer_Id']).agg({'InvoiceNo':'nunique', 'Total_Sales':'sum', \n",
    "                                                    'Product_Id': 'nunique', 'Price':'mean',\n",
    "                                                     'Quantity': ['mean', 'sum']}).round(1)\n",
    "\n",
    "df_customer['Total_Orders'] = df_customer['InvoiceNo']['nunique']\n",
    "df_customer['Total_Revenue'] = df_customer['Total_Sales']['sum']\n",
    "df_customer['Unique_Products'] = df_customer['Product_Id']['nunique']\n",
    "df_customer['Average_Unit_Price'] = df_customer['Price']['mean']\n",
    "df_customer['Total_Units_Sold'] = df_customer['Quantity']['sum']\n",
    "\n",
    "\n",
    "df_customer = df_customer[['Total_Orders','Total_Revenue','Unique_Products','Average_Unit_Price','Total_Units_Sold']].reset_index().sort_values(by='Total_Revenue',ascending=False)\n",
    "df_customer.drop(4339, axis = 0,inplace = True) # drop row where Customer_Id = Null\n",
    "df_customer.columns = [tup[0] for tup in df_customer.columns]\n",
    "df_customer.columns\n",
    "# We also want to add the customer Country to df_customer. Do a left join.\n",
    "dummy = merged_tables[['Customer_Id', 'Country']].drop_duplicates()\n",
    "df_customer = pd.merge(df_customer, dummy, on = 'Customer_Id', how = 'left', copy = False)\n",
    "df_customer.head(2)"
   ]
  },
  {
   "cell_type": "code",
   "execution_count": 39,
   "metadata": {},
   "outputs": [
    {
     "data": {
      "text/plain": [
       "18962"
      ]
     },
     "metadata": {},
     "output_type": "display_data"
    },
    {
     "data": {
      "text/html": [
       "<div>\n",
       "<style scoped>\n",
       "    .dataframe tbody tr th:only-of-type {\n",
       "        vertical-align: middle;\n",
       "    }\n",
       "\n",
       "    .dataframe tbody tr th {\n",
       "        vertical-align: top;\n",
       "    }\n",
       "\n",
       "    .dataframe thead tr th {\n",
       "        text-align: left;\n",
       "    }\n",
       "</style>\n",
       "<table border=\"1\" class=\"dataframe\">\n",
       "  <thead>\n",
       "    <tr>\n",
       "      <th></th>\n",
       "      <th>Day</th>\n",
       "      <th>Month</th>\n",
       "      <th>Total_Orders</th>\n",
       "      <th>Average_Sale</th>\n",
       "      <th>Total_Revenue</th>\n",
       "      <th>Unique_Customers</th>\n",
       "      <th>Average_Units_Sold</th>\n",
       "      <th>Total_Units_Sold</th>\n",
       "    </tr>\n",
       "    <tr>\n",
       "      <th></th>\n",
       "      <th></th>\n",
       "      <th></th>\n",
       "      <th></th>\n",
       "      <th></th>\n",
       "      <th></th>\n",
       "      <th></th>\n",
       "      <th></th>\n",
       "      <th></th>\n",
       "    </tr>\n",
       "  </thead>\n",
       "  <tbody>\n",
       "    <tr>\n",
       "      <th>0</th>\n",
       "      <td>00 Monday</td>\n",
       "      <td>01 January</td>\n",
       "      <td>179</td>\n",
       "      <td>1225.3</td>\n",
       "      <td>7236550.8</td>\n",
       "      <td>144</td>\n",
       "      <td>11.5</td>\n",
       "      <td>67892</td>\n",
       "    </tr>\n",
       "    <tr>\n",
       "      <th>1</th>\n",
       "      <td>02 Wednesday</td>\n",
       "      <td>01 January</td>\n",
       "      <td>124</td>\n",
       "      <td>656.4</td>\n",
       "      <td>2267133.8</td>\n",
       "      <td>108</td>\n",
       "      <td>6.4</td>\n",
       "      <td>22086</td>\n",
       "    </tr>\n",
       "    <tr>\n",
       "      <th>2</th>\n",
       "      <td>03 Thursday</td>\n",
       "      <td>01 January</td>\n",
       "      <td>213</td>\n",
       "      <td>699.3</td>\n",
       "      <td>5458648.4</td>\n",
       "      <td>163</td>\n",
       "      <td>7.5</td>\n",
       "      <td>58704</td>\n",
       "    </tr>\n",
       "    <tr>\n",
       "      <th>3</th>\n",
       "      <td>04 Friday</td>\n",
       "      <td>01 January</td>\n",
       "      <td>204</td>\n",
       "      <td>2011.0</td>\n",
       "      <td>11728432.2</td>\n",
       "      <td>162</td>\n",
       "      <td>23.7</td>\n",
       "      <td>138023</td>\n",
       "    </tr>\n",
       "    <tr>\n",
       "      <th>4</th>\n",
       "      <td>05 Saturday</td>\n",
       "      <td>01 January</td>\n",
       "      <td>193</td>\n",
       "      <td>912.9</td>\n",
       "      <td>5839731.0</td>\n",
       "      <td>153</td>\n",
       "      <td>9.6</td>\n",
       "      <td>61727</td>\n",
       "    </tr>\n",
       "    <tr>\n",
       "      <th>...</th>\n",
       "      <td>...</td>\n",
       "      <td>...</td>\n",
       "      <td>...</td>\n",
       "      <td>...</td>\n",
       "      <td>...</td>\n",
       "      <td>...</td>\n",
       "      <td>...</td>\n",
       "      <td>...</td>\n",
       "    </tr>\n",
       "    <tr>\n",
       "      <th>67</th>\n",
       "      <td>02 Wednesday</td>\n",
       "      <td>12 December</td>\n",
       "      <td>68</td>\n",
       "      <td>592.3</td>\n",
       "      <td>1249856.7</td>\n",
       "      <td>59</td>\n",
       "      <td>6.0</td>\n",
       "      <td>12744</td>\n",
       "    </tr>\n",
       "    <tr>\n",
       "      <th>68</th>\n",
       "      <td>03 Thursday</td>\n",
       "      <td>12 December</td>\n",
       "      <td>132</td>\n",
       "      <td>799.3</td>\n",
       "      <td>4406557.6</td>\n",
       "      <td>106</td>\n",
       "      <td>8.4</td>\n",
       "      <td>46490</td>\n",
       "    </tr>\n",
       "    <tr>\n",
       "      <th>69</th>\n",
       "      <td>04 Friday</td>\n",
       "      <td>12 December</td>\n",
       "      <td>116</td>\n",
       "      <td>1019.2</td>\n",
       "      <td>3438948.4</td>\n",
       "      <td>104</td>\n",
       "      <td>9.5</td>\n",
       "      <td>31926</td>\n",
       "    </tr>\n",
       "    <tr>\n",
       "      <th>70</th>\n",
       "      <td>05 Saturday</td>\n",
       "      <td>12 December</td>\n",
       "      <td>120</td>\n",
       "      <td>1694.4</td>\n",
       "      <td>4239346.6</td>\n",
       "      <td>95</td>\n",
       "      <td>18.5</td>\n",
       "      <td>46171</td>\n",
       "    </tr>\n",
       "    <tr>\n",
       "      <th>71</th>\n",
       "      <td>06 Sunday</td>\n",
       "      <td>12 December</td>\n",
       "      <td>244</td>\n",
       "      <td>924.6</td>\n",
       "      <td>7372363.3</td>\n",
       "      <td>203</td>\n",
       "      <td>8.2</td>\n",
       "      <td>65654</td>\n",
       "    </tr>\n",
       "  </tbody>\n",
       "</table>\n",
       "<p>72 rows × 8 columns</p>\n",
       "</div>"
      ],
      "text/plain": [
       "             Day        Month Total_Orders Average_Sale Total_Revenue  \\\n",
       "                                                                        \n",
       "0      00 Monday   01 January          179       1225.3     7236550.8   \n",
       "1   02 Wednesday   01 January          124        656.4     2267133.8   \n",
       "2    03 Thursday   01 January          213        699.3     5458648.4   \n",
       "3      04 Friday   01 January          204       2011.0    11728432.2   \n",
       "4    05 Saturday   01 January          193        912.9     5839731.0   \n",
       "..           ...          ...          ...          ...           ...   \n",
       "67  02 Wednesday  12 December           68        592.3     1249856.7   \n",
       "68   03 Thursday  12 December          132        799.3     4406557.6   \n",
       "69     04 Friday  12 December          116       1019.2     3438948.4   \n",
       "70   05 Saturday  12 December          120       1694.4     4239346.6   \n",
       "71     06 Sunday  12 December          244        924.6     7372363.3   \n",
       "\n",
       "   Unique_Customers Average_Units_Sold Total_Units_Sold  \n",
       "                                                         \n",
       "0               144               11.5            67892  \n",
       "1               108                6.4            22086  \n",
       "2               163                7.5            58704  \n",
       "3               162               23.7           138023  \n",
       "4               153                9.6            61727  \n",
       "..              ...                ...              ...  \n",
       "67               59                6.0            12744  \n",
       "68              106                8.4            46490  \n",
       "69              104                9.5            31926  \n",
       "70               95               18.5            46171  \n",
       "71              203                8.2            65654  \n",
       "\n",
       "[72 rows x 8 columns]"
      ]
     },
     "execution_count": 39,
     "metadata": {},
     "output_type": "execute_result"
    }
   ],
   "source": [
    "# Group by day of week\n",
    "df_month_week = merged_tables[merged_tables['Year'] == 2019].groupby(['Month','Day']).agg({'InvoiceNo':'nunique', 'Total_Sales':['mean', 'sum'], \n",
    "                                                'Customer_Id':'nunique', 'Quantity': ['mean', 'sum']}).round(1)\n",
    "\n",
    "df_month_week['Total_Orders']=df_month_week['InvoiceNo']['nunique']\n",
    "df_month_week['Average_Sale']=df_month_week['Total_Sales']['mean']\n",
    "df_month_week['Total_Revenue']=df_month_week['Total_Sales']['sum']\n",
    "df_month_week['Unique_Customers']= df_month_week['Customer_Id']['nunique']\n",
    "df_month_week['Average_Units_Sold'] = df_month_week['Quantity']['mean']\n",
    "df_month_week['Total_Units_Sold'] = df_month_week['Quantity']['sum']\n",
    "\n",
    "\n",
    "df_month_week = df_month_week[['Total_Orders', \"Average_Sale\", 'Total_Revenue', 'Unique_Customers',\"Average_Units_Sold\", 'Total_Units_Sold']]\n",
    "df_month_week = df_month_week.reset_index()\n",
    "# Tuesday data is missing, so add zero values.\n",
    "#df_month_week.loc['6'] = [\"01 Tuesday\",0,0,0,0,0,0]\n",
    "\n",
    "df_month_week = df_month_week.sort_values(['Month','Day'])\n",
    "#df_month_week.index = [0,1,2,3,4,5,6]\n",
    "df_month_week = df_month_week[['Day', 'Month', 'Total_Orders', \"Average_Sale\", 'Total_Revenue', 'Unique_Customers',\"Average_Units_Sold\", 'Total_Units_Sold']]\n",
    "display(df_month_week[\"Total_Orders\"].sum())\n",
    "df_month_week"
   ]
  },
  {
   "cell_type": "code",
   "execution_count": 41,
   "metadata": {},
   "outputs": [
    {
     "data": {
      "application/vnd.plotly.v1+json": {
       "config": {
        "plotlyServerURL": "https://plot.ly"
       },
       "data": [
        {
         "domain": {
          "x": [
           0,
           1
          ],
          "y": [
           0,
           1
          ]
         },
         "hole": 0.3,
         "hovertemplate": "Day=%{label}<br>Total_Orders=%{value}<extra></extra>",
         "labels": [
          "00 Monday",
          "01 Tuesday",
          "02 Wednesday",
          "03 Thursday",
          "04 Friday",
          "05 Saturday",
          "06 Sunday"
         ],
         "legendgroup": "",
         "name": "",
         "showlegend": true,
         "type": "pie",
         "values": [
          3047,
          0,
          2052,
          2993,
          3430,
          3477,
          3963
         ]
        }
       ],
       "layout": {
        "legend": {
         "tracegroupgap": 0
        },
        "template": {
         "data": {
          "bar": [
           {
            "error_x": {
             "color": "#2a3f5f"
            },
            "error_y": {
             "color": "#2a3f5f"
            },
            "marker": {
             "line": {
              "color": "#E5ECF6",
              "width": 0.5
             },
             "pattern": {
              "fillmode": "overlay",
              "size": 10,
              "solidity": 0.2
             }
            },
            "type": "bar"
           }
          ],
          "barpolar": [
           {
            "marker": {
             "line": {
              "color": "#E5ECF6",
              "width": 0.5
             },
             "pattern": {
              "fillmode": "overlay",
              "size": 10,
              "solidity": 0.2
             }
            },
            "type": "barpolar"
           }
          ],
          "carpet": [
           {
            "aaxis": {
             "endlinecolor": "#2a3f5f",
             "gridcolor": "white",
             "linecolor": "white",
             "minorgridcolor": "white",
             "startlinecolor": "#2a3f5f"
            },
            "baxis": {
             "endlinecolor": "#2a3f5f",
             "gridcolor": "white",
             "linecolor": "white",
             "minorgridcolor": "white",
             "startlinecolor": "#2a3f5f"
            },
            "type": "carpet"
           }
          ],
          "choropleth": [
           {
            "colorbar": {
             "outlinewidth": 0,
             "ticks": ""
            },
            "type": "choropleth"
           }
          ],
          "contour": [
           {
            "colorbar": {
             "outlinewidth": 0,
             "ticks": ""
            },
            "colorscale": [
             [
              0,
              "#0d0887"
             ],
             [
              0.1111111111111111,
              "#46039f"
             ],
             [
              0.2222222222222222,
              "#7201a8"
             ],
             [
              0.3333333333333333,
              "#9c179e"
             ],
             [
              0.4444444444444444,
              "#bd3786"
             ],
             [
              0.5555555555555556,
              "#d8576b"
             ],
             [
              0.6666666666666666,
              "#ed7953"
             ],
             [
              0.7777777777777778,
              "#fb9f3a"
             ],
             [
              0.8888888888888888,
              "#fdca26"
             ],
             [
              1,
              "#f0f921"
             ]
            ],
            "type": "contour"
           }
          ],
          "contourcarpet": [
           {
            "colorbar": {
             "outlinewidth": 0,
             "ticks": ""
            },
            "type": "contourcarpet"
           }
          ],
          "heatmap": [
           {
            "colorbar": {
             "outlinewidth": 0,
             "ticks": ""
            },
            "colorscale": [
             [
              0,
              "#0d0887"
             ],
             [
              0.1111111111111111,
              "#46039f"
             ],
             [
              0.2222222222222222,
              "#7201a8"
             ],
             [
              0.3333333333333333,
              "#9c179e"
             ],
             [
              0.4444444444444444,
              "#bd3786"
             ],
             [
              0.5555555555555556,
              "#d8576b"
             ],
             [
              0.6666666666666666,
              "#ed7953"
             ],
             [
              0.7777777777777778,
              "#fb9f3a"
             ],
             [
              0.8888888888888888,
              "#fdca26"
             ],
             [
              1,
              "#f0f921"
             ]
            ],
            "type": "heatmap"
           }
          ],
          "heatmapgl": [
           {
            "colorbar": {
             "outlinewidth": 0,
             "ticks": ""
            },
            "colorscale": [
             [
              0,
              "#0d0887"
             ],
             [
              0.1111111111111111,
              "#46039f"
             ],
             [
              0.2222222222222222,
              "#7201a8"
             ],
             [
              0.3333333333333333,
              "#9c179e"
             ],
             [
              0.4444444444444444,
              "#bd3786"
             ],
             [
              0.5555555555555556,
              "#d8576b"
             ],
             [
              0.6666666666666666,
              "#ed7953"
             ],
             [
              0.7777777777777778,
              "#fb9f3a"
             ],
             [
              0.8888888888888888,
              "#fdca26"
             ],
             [
              1,
              "#f0f921"
             ]
            ],
            "type": "heatmapgl"
           }
          ],
          "histogram": [
           {
            "marker": {
             "pattern": {
              "fillmode": "overlay",
              "size": 10,
              "solidity": 0.2
             }
            },
            "type": "histogram"
           }
          ],
          "histogram2d": [
           {
            "colorbar": {
             "outlinewidth": 0,
             "ticks": ""
            },
            "colorscale": [
             [
              0,
              "#0d0887"
             ],
             [
              0.1111111111111111,
              "#46039f"
             ],
             [
              0.2222222222222222,
              "#7201a8"
             ],
             [
              0.3333333333333333,
              "#9c179e"
             ],
             [
              0.4444444444444444,
              "#bd3786"
             ],
             [
              0.5555555555555556,
              "#d8576b"
             ],
             [
              0.6666666666666666,
              "#ed7953"
             ],
             [
              0.7777777777777778,
              "#fb9f3a"
             ],
             [
              0.8888888888888888,
              "#fdca26"
             ],
             [
              1,
              "#f0f921"
             ]
            ],
            "type": "histogram2d"
           }
          ],
          "histogram2dcontour": [
           {
            "colorbar": {
             "outlinewidth": 0,
             "ticks": ""
            },
            "colorscale": [
             [
              0,
              "#0d0887"
             ],
             [
              0.1111111111111111,
              "#46039f"
             ],
             [
              0.2222222222222222,
              "#7201a8"
             ],
             [
              0.3333333333333333,
              "#9c179e"
             ],
             [
              0.4444444444444444,
              "#bd3786"
             ],
             [
              0.5555555555555556,
              "#d8576b"
             ],
             [
              0.6666666666666666,
              "#ed7953"
             ],
             [
              0.7777777777777778,
              "#fb9f3a"
             ],
             [
              0.8888888888888888,
              "#fdca26"
             ],
             [
              1,
              "#f0f921"
             ]
            ],
            "type": "histogram2dcontour"
           }
          ],
          "mesh3d": [
           {
            "colorbar": {
             "outlinewidth": 0,
             "ticks": ""
            },
            "type": "mesh3d"
           }
          ],
          "parcoords": [
           {
            "line": {
             "colorbar": {
              "outlinewidth": 0,
              "ticks": ""
             }
            },
            "type": "parcoords"
           }
          ],
          "pie": [
           {
            "automargin": true,
            "type": "pie"
           }
          ],
          "scatter": [
           {
            "marker": {
             "colorbar": {
              "outlinewidth": 0,
              "ticks": ""
             }
            },
            "type": "scatter"
           }
          ],
          "scatter3d": [
           {
            "line": {
             "colorbar": {
              "outlinewidth": 0,
              "ticks": ""
             }
            },
            "marker": {
             "colorbar": {
              "outlinewidth": 0,
              "ticks": ""
             }
            },
            "type": "scatter3d"
           }
          ],
          "scattercarpet": [
           {
            "marker": {
             "colorbar": {
              "outlinewidth": 0,
              "ticks": ""
             }
            },
            "type": "scattercarpet"
           }
          ],
          "scattergeo": [
           {
            "marker": {
             "colorbar": {
              "outlinewidth": 0,
              "ticks": ""
             }
            },
            "type": "scattergeo"
           }
          ],
          "scattergl": [
           {
            "marker": {
             "colorbar": {
              "outlinewidth": 0,
              "ticks": ""
             }
            },
            "type": "scattergl"
           }
          ],
          "scattermapbox": [
           {
            "marker": {
             "colorbar": {
              "outlinewidth": 0,
              "ticks": ""
             }
            },
            "type": "scattermapbox"
           }
          ],
          "scatterpolar": [
           {
            "marker": {
             "colorbar": {
              "outlinewidth": 0,
              "ticks": ""
             }
            },
            "type": "scatterpolar"
           }
          ],
          "scatterpolargl": [
           {
            "marker": {
             "colorbar": {
              "outlinewidth": 0,
              "ticks": ""
             }
            },
            "type": "scatterpolargl"
           }
          ],
          "scatterternary": [
           {
            "marker": {
             "colorbar": {
              "outlinewidth": 0,
              "ticks": ""
             }
            },
            "type": "scatterternary"
           }
          ],
          "surface": [
           {
            "colorbar": {
             "outlinewidth": 0,
             "ticks": ""
            },
            "colorscale": [
             [
              0,
              "#0d0887"
             ],
             [
              0.1111111111111111,
              "#46039f"
             ],
             [
              0.2222222222222222,
              "#7201a8"
             ],
             [
              0.3333333333333333,
              "#9c179e"
             ],
             [
              0.4444444444444444,
              "#bd3786"
             ],
             [
              0.5555555555555556,
              "#d8576b"
             ],
             [
              0.6666666666666666,
              "#ed7953"
             ],
             [
              0.7777777777777778,
              "#fb9f3a"
             ],
             [
              0.8888888888888888,
              "#fdca26"
             ],
             [
              1,
              "#f0f921"
             ]
            ],
            "type": "surface"
           }
          ],
          "table": [
           {
            "cells": {
             "fill": {
              "color": "#EBF0F8"
             },
             "line": {
              "color": "white"
             }
            },
            "header": {
             "fill": {
              "color": "#C8D4E3"
             },
             "line": {
              "color": "white"
             }
            },
            "type": "table"
           }
          ]
         },
         "layout": {
          "annotationdefaults": {
           "arrowcolor": "#2a3f5f",
           "arrowhead": 0,
           "arrowwidth": 1
          },
          "autotypenumbers": "strict",
          "coloraxis": {
           "colorbar": {
            "outlinewidth": 0,
            "ticks": ""
           }
          },
          "colorscale": {
           "diverging": [
            [
             0,
             "#8e0152"
            ],
            [
             0.1,
             "#c51b7d"
            ],
            [
             0.2,
             "#de77ae"
            ],
            [
             0.3,
             "#f1b6da"
            ],
            [
             0.4,
             "#fde0ef"
            ],
            [
             0.5,
             "#f7f7f7"
            ],
            [
             0.6,
             "#e6f5d0"
            ],
            [
             0.7,
             "#b8e186"
            ],
            [
             0.8,
             "#7fbc41"
            ],
            [
             0.9,
             "#4d9221"
            ],
            [
             1,
             "#276419"
            ]
           ],
           "sequential": [
            [
             0,
             "#0d0887"
            ],
            [
             0.1111111111111111,
             "#46039f"
            ],
            [
             0.2222222222222222,
             "#7201a8"
            ],
            [
             0.3333333333333333,
             "#9c179e"
            ],
            [
             0.4444444444444444,
             "#bd3786"
            ],
            [
             0.5555555555555556,
             "#d8576b"
            ],
            [
             0.6666666666666666,
             "#ed7953"
            ],
            [
             0.7777777777777778,
             "#fb9f3a"
            ],
            [
             0.8888888888888888,
             "#fdca26"
            ],
            [
             1,
             "#f0f921"
            ]
           ],
           "sequentialminus": [
            [
             0,
             "#0d0887"
            ],
            [
             0.1111111111111111,
             "#46039f"
            ],
            [
             0.2222222222222222,
             "#7201a8"
            ],
            [
             0.3333333333333333,
             "#9c179e"
            ],
            [
             0.4444444444444444,
             "#bd3786"
            ],
            [
             0.5555555555555556,
             "#d8576b"
            ],
            [
             0.6666666666666666,
             "#ed7953"
            ],
            [
             0.7777777777777778,
             "#fb9f3a"
            ],
            [
             0.8888888888888888,
             "#fdca26"
            ],
            [
             1,
             "#f0f921"
            ]
           ]
          },
          "colorway": [
           "#636efa",
           "#EF553B",
           "#00cc96",
           "#ab63fa",
           "#FFA15A",
           "#19d3f3",
           "#FF6692",
           "#B6E880",
           "#FF97FF",
           "#FECB52"
          ],
          "font": {
           "color": "#2a3f5f"
          },
          "geo": {
           "bgcolor": "white",
           "lakecolor": "white",
           "landcolor": "#E5ECF6",
           "showlakes": true,
           "showland": true,
           "subunitcolor": "white"
          },
          "hoverlabel": {
           "align": "left"
          },
          "hovermode": "closest",
          "mapbox": {
           "style": "light"
          },
          "paper_bgcolor": "white",
          "plot_bgcolor": "#E5ECF6",
          "polar": {
           "angularaxis": {
            "gridcolor": "white",
            "linecolor": "white",
            "ticks": ""
           },
           "bgcolor": "#E5ECF6",
           "radialaxis": {
            "gridcolor": "white",
            "linecolor": "white",
            "ticks": ""
           }
          },
          "scene": {
           "xaxis": {
            "backgroundcolor": "#E5ECF6",
            "gridcolor": "white",
            "gridwidth": 2,
            "linecolor": "white",
            "showbackground": true,
            "ticks": "",
            "zerolinecolor": "white"
           },
           "yaxis": {
            "backgroundcolor": "#E5ECF6",
            "gridcolor": "white",
            "gridwidth": 2,
            "linecolor": "white",
            "showbackground": true,
            "ticks": "",
            "zerolinecolor": "white"
           },
           "zaxis": {
            "backgroundcolor": "#E5ECF6",
            "gridcolor": "white",
            "gridwidth": 2,
            "linecolor": "white",
            "showbackground": true,
            "ticks": "",
            "zerolinecolor": "white"
           }
          },
          "shapedefaults": {
           "line": {
            "color": "#2a3f5f"
           }
          },
          "ternary": {
           "aaxis": {
            "gridcolor": "white",
            "linecolor": "white",
            "ticks": ""
           },
           "baxis": {
            "gridcolor": "white",
            "linecolor": "white",
            "ticks": ""
           },
           "bgcolor": "#E5ECF6",
           "caxis": {
            "gridcolor": "white",
            "linecolor": "white",
            "ticks": ""
           }
          },
          "title": {
           "x": 0.05
          },
          "xaxis": {
           "automargin": true,
           "gridcolor": "white",
           "linecolor": "white",
           "ticks": "",
           "title": {
            "standoff": 15
           },
           "zerolinecolor": "white",
           "zerolinewidth": 2
          },
          "yaxis": {
           "automargin": true,
           "gridcolor": "white",
           "linecolor": "white",
           "ticks": "",
           "title": {
            "standoff": 15
           },
           "zerolinecolor": "white",
           "zerolinewidth": 2
          }
         }
        },
        "title": {
         "text": "Number of unique orders by weekday"
        }
       }
      }
     },
     "metadata": {},
     "output_type": "display_data"
    },
    {
     "data": {
      "application/vnd.plotly.v1+json": {
       "config": {
        "plotlyServerURL": "https://plot.ly"
       },
       "data": [
        {
         "domain": {
          "x": [
           0,
           1
          ],
          "y": [
           0,
           1
          ]
         },
         "hole": 0.3,
         "hovertemplate": "Day=%{label}<br>Average_Sale=%{value}<extra></extra>",
         "labels": [
          "00 Monday",
          "01 Tuesday",
          "02 Wednesday",
          "03 Thursday",
          "04 Friday",
          "05 Saturday",
          "06 Sunday"
         ],
         "legendgroup": "",
         "name": "",
         "showlegend": true,
         "type": "pie",
         "values": [
          1166.2,
          0,
          784.5,
          1004.4,
          1174.9,
          1181.5,
          1320.6
         ]
        }
       ],
       "layout": {
        "legend": {
         "tracegroupgap": 0
        },
        "template": {
         "data": {
          "bar": [
           {
            "error_x": {
             "color": "#2a3f5f"
            },
            "error_y": {
             "color": "#2a3f5f"
            },
            "marker": {
             "line": {
              "color": "#E5ECF6",
              "width": 0.5
             },
             "pattern": {
              "fillmode": "overlay",
              "size": 10,
              "solidity": 0.2
             }
            },
            "type": "bar"
           }
          ],
          "barpolar": [
           {
            "marker": {
             "line": {
              "color": "#E5ECF6",
              "width": 0.5
             },
             "pattern": {
              "fillmode": "overlay",
              "size": 10,
              "solidity": 0.2
             }
            },
            "type": "barpolar"
           }
          ],
          "carpet": [
           {
            "aaxis": {
             "endlinecolor": "#2a3f5f",
             "gridcolor": "white",
             "linecolor": "white",
             "minorgridcolor": "white",
             "startlinecolor": "#2a3f5f"
            },
            "baxis": {
             "endlinecolor": "#2a3f5f",
             "gridcolor": "white",
             "linecolor": "white",
             "minorgridcolor": "white",
             "startlinecolor": "#2a3f5f"
            },
            "type": "carpet"
           }
          ],
          "choropleth": [
           {
            "colorbar": {
             "outlinewidth": 0,
             "ticks": ""
            },
            "type": "choropleth"
           }
          ],
          "contour": [
           {
            "colorbar": {
             "outlinewidth": 0,
             "ticks": ""
            },
            "colorscale": [
             [
              0,
              "#0d0887"
             ],
             [
              0.1111111111111111,
              "#46039f"
             ],
             [
              0.2222222222222222,
              "#7201a8"
             ],
             [
              0.3333333333333333,
              "#9c179e"
             ],
             [
              0.4444444444444444,
              "#bd3786"
             ],
             [
              0.5555555555555556,
              "#d8576b"
             ],
             [
              0.6666666666666666,
              "#ed7953"
             ],
             [
              0.7777777777777778,
              "#fb9f3a"
             ],
             [
              0.8888888888888888,
              "#fdca26"
             ],
             [
              1,
              "#f0f921"
             ]
            ],
            "type": "contour"
           }
          ],
          "contourcarpet": [
           {
            "colorbar": {
             "outlinewidth": 0,
             "ticks": ""
            },
            "type": "contourcarpet"
           }
          ],
          "heatmap": [
           {
            "colorbar": {
             "outlinewidth": 0,
             "ticks": ""
            },
            "colorscale": [
             [
              0,
              "#0d0887"
             ],
             [
              0.1111111111111111,
              "#46039f"
             ],
             [
              0.2222222222222222,
              "#7201a8"
             ],
             [
              0.3333333333333333,
              "#9c179e"
             ],
             [
              0.4444444444444444,
              "#bd3786"
             ],
             [
              0.5555555555555556,
              "#d8576b"
             ],
             [
              0.6666666666666666,
              "#ed7953"
             ],
             [
              0.7777777777777778,
              "#fb9f3a"
             ],
             [
              0.8888888888888888,
              "#fdca26"
             ],
             [
              1,
              "#f0f921"
             ]
            ],
            "type": "heatmap"
           }
          ],
          "heatmapgl": [
           {
            "colorbar": {
             "outlinewidth": 0,
             "ticks": ""
            },
            "colorscale": [
             [
              0,
              "#0d0887"
             ],
             [
              0.1111111111111111,
              "#46039f"
             ],
             [
              0.2222222222222222,
              "#7201a8"
             ],
             [
              0.3333333333333333,
              "#9c179e"
             ],
             [
              0.4444444444444444,
              "#bd3786"
             ],
             [
              0.5555555555555556,
              "#d8576b"
             ],
             [
              0.6666666666666666,
              "#ed7953"
             ],
             [
              0.7777777777777778,
              "#fb9f3a"
             ],
             [
              0.8888888888888888,
              "#fdca26"
             ],
             [
              1,
              "#f0f921"
             ]
            ],
            "type": "heatmapgl"
           }
          ],
          "histogram": [
           {
            "marker": {
             "pattern": {
              "fillmode": "overlay",
              "size": 10,
              "solidity": 0.2
             }
            },
            "type": "histogram"
           }
          ],
          "histogram2d": [
           {
            "colorbar": {
             "outlinewidth": 0,
             "ticks": ""
            },
            "colorscale": [
             [
              0,
              "#0d0887"
             ],
             [
              0.1111111111111111,
              "#46039f"
             ],
             [
              0.2222222222222222,
              "#7201a8"
             ],
             [
              0.3333333333333333,
              "#9c179e"
             ],
             [
              0.4444444444444444,
              "#bd3786"
             ],
             [
              0.5555555555555556,
              "#d8576b"
             ],
             [
              0.6666666666666666,
              "#ed7953"
             ],
             [
              0.7777777777777778,
              "#fb9f3a"
             ],
             [
              0.8888888888888888,
              "#fdca26"
             ],
             [
              1,
              "#f0f921"
             ]
            ],
            "type": "histogram2d"
           }
          ],
          "histogram2dcontour": [
           {
            "colorbar": {
             "outlinewidth": 0,
             "ticks": ""
            },
            "colorscale": [
             [
              0,
              "#0d0887"
             ],
             [
              0.1111111111111111,
              "#46039f"
             ],
             [
              0.2222222222222222,
              "#7201a8"
             ],
             [
              0.3333333333333333,
              "#9c179e"
             ],
             [
              0.4444444444444444,
              "#bd3786"
             ],
             [
              0.5555555555555556,
              "#d8576b"
             ],
             [
              0.6666666666666666,
              "#ed7953"
             ],
             [
              0.7777777777777778,
              "#fb9f3a"
             ],
             [
              0.8888888888888888,
              "#fdca26"
             ],
             [
              1,
              "#f0f921"
             ]
            ],
            "type": "histogram2dcontour"
           }
          ],
          "mesh3d": [
           {
            "colorbar": {
             "outlinewidth": 0,
             "ticks": ""
            },
            "type": "mesh3d"
           }
          ],
          "parcoords": [
           {
            "line": {
             "colorbar": {
              "outlinewidth": 0,
              "ticks": ""
             }
            },
            "type": "parcoords"
           }
          ],
          "pie": [
           {
            "automargin": true,
            "type": "pie"
           }
          ],
          "scatter": [
           {
            "marker": {
             "colorbar": {
              "outlinewidth": 0,
              "ticks": ""
             }
            },
            "type": "scatter"
           }
          ],
          "scatter3d": [
           {
            "line": {
             "colorbar": {
              "outlinewidth": 0,
              "ticks": ""
             }
            },
            "marker": {
             "colorbar": {
              "outlinewidth": 0,
              "ticks": ""
             }
            },
            "type": "scatter3d"
           }
          ],
          "scattercarpet": [
           {
            "marker": {
             "colorbar": {
              "outlinewidth": 0,
              "ticks": ""
             }
            },
            "type": "scattercarpet"
           }
          ],
          "scattergeo": [
           {
            "marker": {
             "colorbar": {
              "outlinewidth": 0,
              "ticks": ""
             }
            },
            "type": "scattergeo"
           }
          ],
          "scattergl": [
           {
            "marker": {
             "colorbar": {
              "outlinewidth": 0,
              "ticks": ""
             }
            },
            "type": "scattergl"
           }
          ],
          "scattermapbox": [
           {
            "marker": {
             "colorbar": {
              "outlinewidth": 0,
              "ticks": ""
             }
            },
            "type": "scattermapbox"
           }
          ],
          "scatterpolar": [
           {
            "marker": {
             "colorbar": {
              "outlinewidth": 0,
              "ticks": ""
             }
            },
            "type": "scatterpolar"
           }
          ],
          "scatterpolargl": [
           {
            "marker": {
             "colorbar": {
              "outlinewidth": 0,
              "ticks": ""
             }
            },
            "type": "scatterpolargl"
           }
          ],
          "scatterternary": [
           {
            "marker": {
             "colorbar": {
              "outlinewidth": 0,
              "ticks": ""
             }
            },
            "type": "scatterternary"
           }
          ],
          "surface": [
           {
            "colorbar": {
             "outlinewidth": 0,
             "ticks": ""
            },
            "colorscale": [
             [
              0,
              "#0d0887"
             ],
             [
              0.1111111111111111,
              "#46039f"
             ],
             [
              0.2222222222222222,
              "#7201a8"
             ],
             [
              0.3333333333333333,
              "#9c179e"
             ],
             [
              0.4444444444444444,
              "#bd3786"
             ],
             [
              0.5555555555555556,
              "#d8576b"
             ],
             [
              0.6666666666666666,
              "#ed7953"
             ],
             [
              0.7777777777777778,
              "#fb9f3a"
             ],
             [
              0.8888888888888888,
              "#fdca26"
             ],
             [
              1,
              "#f0f921"
             ]
            ],
            "type": "surface"
           }
          ],
          "table": [
           {
            "cells": {
             "fill": {
              "color": "#EBF0F8"
             },
             "line": {
              "color": "white"
             }
            },
            "header": {
             "fill": {
              "color": "#C8D4E3"
             },
             "line": {
              "color": "white"
             }
            },
            "type": "table"
           }
          ]
         },
         "layout": {
          "annotationdefaults": {
           "arrowcolor": "#2a3f5f",
           "arrowhead": 0,
           "arrowwidth": 1
          },
          "autotypenumbers": "strict",
          "coloraxis": {
           "colorbar": {
            "outlinewidth": 0,
            "ticks": ""
           }
          },
          "colorscale": {
           "diverging": [
            [
             0,
             "#8e0152"
            ],
            [
             0.1,
             "#c51b7d"
            ],
            [
             0.2,
             "#de77ae"
            ],
            [
             0.3,
             "#f1b6da"
            ],
            [
             0.4,
             "#fde0ef"
            ],
            [
             0.5,
             "#f7f7f7"
            ],
            [
             0.6,
             "#e6f5d0"
            ],
            [
             0.7,
             "#b8e186"
            ],
            [
             0.8,
             "#7fbc41"
            ],
            [
             0.9,
             "#4d9221"
            ],
            [
             1,
             "#276419"
            ]
           ],
           "sequential": [
            [
             0,
             "#0d0887"
            ],
            [
             0.1111111111111111,
             "#46039f"
            ],
            [
             0.2222222222222222,
             "#7201a8"
            ],
            [
             0.3333333333333333,
             "#9c179e"
            ],
            [
             0.4444444444444444,
             "#bd3786"
            ],
            [
             0.5555555555555556,
             "#d8576b"
            ],
            [
             0.6666666666666666,
             "#ed7953"
            ],
            [
             0.7777777777777778,
             "#fb9f3a"
            ],
            [
             0.8888888888888888,
             "#fdca26"
            ],
            [
             1,
             "#f0f921"
            ]
           ],
           "sequentialminus": [
            [
             0,
             "#0d0887"
            ],
            [
             0.1111111111111111,
             "#46039f"
            ],
            [
             0.2222222222222222,
             "#7201a8"
            ],
            [
             0.3333333333333333,
             "#9c179e"
            ],
            [
             0.4444444444444444,
             "#bd3786"
            ],
            [
             0.5555555555555556,
             "#d8576b"
            ],
            [
             0.6666666666666666,
             "#ed7953"
            ],
            [
             0.7777777777777778,
             "#fb9f3a"
            ],
            [
             0.8888888888888888,
             "#fdca26"
            ],
            [
             1,
             "#f0f921"
            ]
           ]
          },
          "colorway": [
           "#636efa",
           "#EF553B",
           "#00cc96",
           "#ab63fa",
           "#FFA15A",
           "#19d3f3",
           "#FF6692",
           "#B6E880",
           "#FF97FF",
           "#FECB52"
          ],
          "font": {
           "color": "#2a3f5f"
          },
          "geo": {
           "bgcolor": "white",
           "lakecolor": "white",
           "landcolor": "#E5ECF6",
           "showlakes": true,
           "showland": true,
           "subunitcolor": "white"
          },
          "hoverlabel": {
           "align": "left"
          },
          "hovermode": "closest",
          "mapbox": {
           "style": "light"
          },
          "paper_bgcolor": "white",
          "plot_bgcolor": "#E5ECF6",
          "polar": {
           "angularaxis": {
            "gridcolor": "white",
            "linecolor": "white",
            "ticks": ""
           },
           "bgcolor": "#E5ECF6",
           "radialaxis": {
            "gridcolor": "white",
            "linecolor": "white",
            "ticks": ""
           }
          },
          "scene": {
           "xaxis": {
            "backgroundcolor": "#E5ECF6",
            "gridcolor": "white",
            "gridwidth": 2,
            "linecolor": "white",
            "showbackground": true,
            "ticks": "",
            "zerolinecolor": "white"
           },
           "yaxis": {
            "backgroundcolor": "#E5ECF6",
            "gridcolor": "white",
            "gridwidth": 2,
            "linecolor": "white",
            "showbackground": true,
            "ticks": "",
            "zerolinecolor": "white"
           },
           "zaxis": {
            "backgroundcolor": "#E5ECF6",
            "gridcolor": "white",
            "gridwidth": 2,
            "linecolor": "white",
            "showbackground": true,
            "ticks": "",
            "zerolinecolor": "white"
           }
          },
          "shapedefaults": {
           "line": {
            "color": "#2a3f5f"
           }
          },
          "ternary": {
           "aaxis": {
            "gridcolor": "white",
            "linecolor": "white",
            "ticks": ""
           },
           "baxis": {
            "gridcolor": "white",
            "linecolor": "white",
            "ticks": ""
           },
           "bgcolor": "#E5ECF6",
           "caxis": {
            "gridcolor": "white",
            "linecolor": "white",
            "ticks": ""
           }
          },
          "title": {
           "x": 0.05
          },
          "xaxis": {
           "automargin": true,
           "gridcolor": "white",
           "linecolor": "white",
           "ticks": "",
           "title": {
            "standoff": 15
           },
           "zerolinecolor": "white",
           "zerolinewidth": 2
          },
          "yaxis": {
           "automargin": true,
           "gridcolor": "white",
           "linecolor": "white",
           "ticks": "",
           "title": {
            "standoff": 15
           },
           "zerolinecolor": "white",
           "zerolinewidth": 2
          }
         }
        },
        "title": {
         "text": "Average sale per weekday"
        }
       }
      }
     },
     "metadata": {},
     "output_type": "display_data"
    }
   ],
   "source": [
    "\n",
    "display(px.pie(df_dow, values='Total_Orders', names='Day', hole=.3, title=\"Number of unique orders by weekday\"))\n",
    "display(px.pie(df_dow, values='Average_Sale', names='Day', hole=.3, title=\"Average sale per weekday\"))\n"
   ]
  },
  {
   "cell_type": "code",
   "execution_count": 42,
   "metadata": {},
   "outputs": [
    {
     "data": {
      "text/html": [
       "<div>\n",
       "<style scoped>\n",
       "    .dataframe tbody tr th:only-of-type {\n",
       "        vertical-align: middle;\n",
       "    }\n",
       "\n",
       "    .dataframe tbody tr th {\n",
       "        vertical-align: top;\n",
       "    }\n",
       "\n",
       "    .dataframe thead tr th {\n",
       "        text-align: left;\n",
       "    }\n",
       "</style>\n",
       "<table border=\"1\" class=\"dataframe\">\n",
       "  <thead>\n",
       "    <tr>\n",
       "      <th></th>\n",
       "      <th>Country</th>\n",
       "      <th>Total_Orders</th>\n",
       "      <th>Average_Sale</th>\n",
       "      <th>Total_Revenue</th>\n",
       "      <th>Unique_Customers</th>\n",
       "      <th>Average_Units_Sold</th>\n",
       "      <th>Total_Units_Sold</th>\n",
       "      <th>Average_Order_Value</th>\n",
       "    </tr>\n",
       "    <tr>\n",
       "      <th></th>\n",
       "      <th></th>\n",
       "      <th></th>\n",
       "      <th></th>\n",
       "      <th></th>\n",
       "      <th></th>\n",
       "      <th></th>\n",
       "      <th></th>\n",
       "      <th></th>\n",
       "    </tr>\n",
       "  </thead>\n",
       "  <tbody>\n",
       "    <tr>\n",
       "      <th>0</th>\n",
       "      <td>Germany</td>\n",
       "      <td>17167</td>\n",
       "      <td>1028.9</td>\n",
       "      <td>480882971.2</td>\n",
       "      <td>3815</td>\n",
       "      <td>10.1</td>\n",
       "      <td>4731881</td>\n",
       "      <td>28012.1</td>\n",
       "    </tr>\n",
       "    <tr>\n",
       "      <th>3</th>\n",
       "      <td>United Kingdom</td>\n",
       "      <td>445</td>\n",
       "      <td>1267.5</td>\n",
       "      <td>11787916.0</td>\n",
       "      <td>101</td>\n",
       "      <td>13.6</td>\n",
       "      <td>126310</td>\n",
       "      <td>26489.7</td>\n",
       "    </tr>\n",
       "    <tr>\n",
       "      <th>4</th>\n",
       "      <td>France</td>\n",
       "      <td>366</td>\n",
       "      <td>1376.4</td>\n",
       "      <td>11095393.0</td>\n",
       "      <td>85</td>\n",
       "      <td>13.8</td>\n",
       "      <td>111131</td>\n",
       "      <td>30315.3</td>\n",
       "    </tr>\n",
       "    <tr>\n",
       "      <th>2</th>\n",
       "      <td>Ireland</td>\n",
       "      <td>271</td>\n",
       "      <td>1947.0</td>\n",
       "      <td>15390867.6</td>\n",
       "      <td>4</td>\n",
       "      <td>18.7</td>\n",
       "      <td>147902</td>\n",
       "      <td>56792.9</td>\n",
       "    </tr>\n",
       "    <tr>\n",
       "      <th>10</th>\n",
       "      <td>Belgium</td>\n",
       "      <td>93</td>\n",
       "      <td>1192.5</td>\n",
       "      <td>2280107.1</td>\n",
       "      <td>25</td>\n",
       "      <td>11.5</td>\n",
       "      <td>21917</td>\n",
       "      <td>24517.3</td>\n",
       "    </tr>\n",
       "    <tr>\n",
       "      <th>1</th>\n",
       "      <td>Netherlands</td>\n",
       "      <td>91</td>\n",
       "      <td>8969.7</td>\n",
       "      <td>21302953.4</td>\n",
       "      <td>8</td>\n",
       "      <td>85.1</td>\n",
       "      <td>202159</td>\n",
       "      <td>234098.4</td>\n",
       "    </tr>\n",
       "    <tr>\n",
       "      <th>9</th>\n",
       "      <td>Spain</td>\n",
       "      <td>84</td>\n",
       "      <td>1087.4</td>\n",
       "      <td>2691363.7</td>\n",
       "      <td>29</td>\n",
       "      <td>11.8</td>\n",
       "      <td>29128</td>\n",
       "      <td>32040.0</td>\n",
       "    </tr>\n",
       "    <tr>\n",
       "      <th>5</th>\n",
       "      <td>Australia</td>\n",
       "      <td>53</td>\n",
       "      <td>8156.6</td>\n",
       "      <td>9804245.9</td>\n",
       "      <td>9</td>\n",
       "      <td>72.0</td>\n",
       "      <td>86520</td>\n",
       "      <td>184985.8</td>\n",
       "    </tr>\n",
       "    <tr>\n",
       "      <th>11</th>\n",
       "      <td>Portugal</td>\n",
       "      <td>50</td>\n",
       "      <td>1115.5</td>\n",
       "      <td>1622999.0</td>\n",
       "      <td>18</td>\n",
       "      <td>11.2</td>\n",
       "      <td>16270</td>\n",
       "      <td>32460.0</td>\n",
       "    </tr>\n",
       "    <tr>\n",
       "      <th>8</th>\n",
       "      <td>Switzerland</td>\n",
       "      <td>48</td>\n",
       "      <td>1379.3</td>\n",
       "      <td>2717170.4</td>\n",
       "      <td>22</td>\n",
       "      <td>15.8</td>\n",
       "      <td>31169</td>\n",
       "      <td>56607.7</td>\n",
       "    </tr>\n",
       "    <tr>\n",
       "      <th>13</th>\n",
       "      <td>Finland</td>\n",
       "      <td>40</td>\n",
       "      <td>1532.8</td>\n",
       "      <td>1033078.0</td>\n",
       "      <td>12</td>\n",
       "      <td>15.4</td>\n",
       "      <td>10395</td>\n",
       "      <td>25827.0</td>\n",
       "    </tr>\n",
       "    <tr>\n",
       "      <th>14</th>\n",
       "      <td>Italy</td>\n",
       "      <td>33</td>\n",
       "      <td>1306.9</td>\n",
       "      <td>948826.1</td>\n",
       "      <td>12</td>\n",
       "      <td>11.1</td>\n",
       "      <td>8032</td>\n",
       "      <td>28752.3</td>\n",
       "    </tr>\n",
       "    <tr>\n",
       "      <th>6</th>\n",
       "      <td>Sweden</td>\n",
       "      <td>32</td>\n",
       "      <td>9418.1</td>\n",
       "      <td>3936760.6</td>\n",
       "      <td>8</td>\n",
       "      <td>78.1</td>\n",
       "      <td>32662</td>\n",
       "      <td>123023.8</td>\n",
       "    </tr>\n",
       "    <tr>\n",
       "      <th>12</th>\n",
       "      <td>Norway</td>\n",
       "      <td>31</td>\n",
       "      <td>1528.3</td>\n",
       "      <td>1432056.1</td>\n",
       "      <td>10</td>\n",
       "      <td>17.3</td>\n",
       "      <td>16225</td>\n",
       "      <td>46195.4</td>\n",
       "    </tr>\n",
       "    <tr>\n",
       "      <th>21</th>\n",
       "      <td>Poland</td>\n",
       "      <td>18</td>\n",
       "      <td>1144.5</td>\n",
       "      <td>382271.7</td>\n",
       "      <td>6</td>\n",
       "      <td>11.4</td>\n",
       "      <td>3799</td>\n",
       "      <td>21237.3</td>\n",
       "    </tr>\n",
       "    <tr>\n",
       "      <th>17</th>\n",
       "      <td>Denmark</td>\n",
       "      <td>17</td>\n",
       "      <td>1675.7</td>\n",
       "      <td>625032.2</td>\n",
       "      <td>9</td>\n",
       "      <td>22.1</td>\n",
       "      <td>8239</td>\n",
       "      <td>36766.6</td>\n",
       "    </tr>\n",
       "    <tr>\n",
       "      <th>7</th>\n",
       "      <td>Japan</td>\n",
       "      <td>16</td>\n",
       "      <td>10251.6</td>\n",
       "      <td>2747436.0</td>\n",
       "      <td>8</td>\n",
       "      <td>84.2</td>\n",
       "      <td>22555</td>\n",
       "      <td>171714.8</td>\n",
       "    </tr>\n",
       "    <tr>\n",
       "      <th>19</th>\n",
       "      <td>Austria</td>\n",
       "      <td>16</td>\n",
       "      <td>1127.0</td>\n",
       "      <td>444046.1</td>\n",
       "      <td>10</td>\n",
       "      <td>12.7</td>\n",
       "      <td>5015</td>\n",
       "      <td>27752.9</td>\n",
       "    </tr>\n",
       "    <tr>\n",
       "      <th>15</th>\n",
       "      <td>Cyprus</td>\n",
       "      <td>14</td>\n",
       "      <td>1402.4</td>\n",
       "      <td>776928.1</td>\n",
       "      <td>8</td>\n",
       "      <td>10.6</td>\n",
       "      <td>5860</td>\n",
       "      <td>55494.9</td>\n",
       "    </tr>\n",
       "    <tr>\n",
       "      <th>22</th>\n",
       "      <td>Unknown</td>\n",
       "      <td>13</td>\n",
       "      <td>698.4</td>\n",
       "      <td>322679.4</td>\n",
       "      <td>5</td>\n",
       "      <td>7.5</td>\n",
       "      <td>3450</td>\n",
       "      <td>24821.5</td>\n",
       "    </tr>\n",
       "    <tr>\n",
       "      <th>20</th>\n",
       "      <td>Hong Kong</td>\n",
       "      <td>10</td>\n",
       "      <td>1504.6</td>\n",
       "      <td>443845.1</td>\n",
       "      <td>1</td>\n",
       "      <td>16.8</td>\n",
       "      <td>4961</td>\n",
       "      <td>44384.5</td>\n",
       "    </tr>\n",
       "    <tr>\n",
       "      <th>18</th>\n",
       "      <td>Israel</td>\n",
       "      <td>8</td>\n",
       "      <td>1696.5</td>\n",
       "      <td>517444.5</td>\n",
       "      <td>4</td>\n",
       "      <td>15.0</td>\n",
       "      <td>4574</td>\n",
       "      <td>64680.6</td>\n",
       "    </tr>\n",
       "    <tr>\n",
       "      <th>16</th>\n",
       "      <td>Singapore</td>\n",
       "      <td>7</td>\n",
       "      <td>3164.0</td>\n",
       "      <td>753034.7</td>\n",
       "      <td>1</td>\n",
       "      <td>23.7</td>\n",
       "      <td>5629</td>\n",
       "      <td>107576.4</td>\n",
       "    </tr>\n",
       "    <tr>\n",
       "      <th>25</th>\n",
       "      <td>Iceland</td>\n",
       "      <td>6</td>\n",
       "      <td>1152.1</td>\n",
       "      <td>178581.6</td>\n",
       "      <td>1</td>\n",
       "      <td>14.2</td>\n",
       "      <td>2199</td>\n",
       "      <td>29763.6</td>\n",
       "    </tr>\n",
       "    <tr>\n",
       "      <th>23</th>\n",
       "      <td>United States</td>\n",
       "      <td>5</td>\n",
       "      <td>1404.8</td>\n",
       "      <td>272538.2</td>\n",
       "      <td>4</td>\n",
       "      <td>13.4</td>\n",
       "      <td>2607</td>\n",
       "      <td>54507.6</td>\n",
       "    </tr>\n",
       "    <tr>\n",
       "      <th>24</th>\n",
       "      <td>Canada</td>\n",
       "      <td>5</td>\n",
       "      <td>1460.0</td>\n",
       "      <td>227755.6</td>\n",
       "      <td>4</td>\n",
       "      <td>18.2</td>\n",
       "      <td>2839</td>\n",
       "      <td>45551.1</td>\n",
       "    </tr>\n",
       "    <tr>\n",
       "      <th>26</th>\n",
       "      <td>Greece</td>\n",
       "      <td>5</td>\n",
       "      <td>920.7</td>\n",
       "      <td>138109.2</td>\n",
       "      <td>4</td>\n",
       "      <td>11.0</td>\n",
       "      <td>1651</td>\n",
       "      <td>27621.8</td>\n",
       "    </tr>\n",
       "    <tr>\n",
       "      <th>27</th>\n",
       "      <td>Malta</td>\n",
       "      <td>5</td>\n",
       "      <td>1135.6</td>\n",
       "      <td>134001.1</td>\n",
       "      <td>2</td>\n",
       "      <td>8.8</td>\n",
       "      <td>1036</td>\n",
       "      <td>26800.2</td>\n",
       "    </tr>\n",
       "    <tr>\n",
       "      <th>30</th>\n",
       "      <td>European Community</td>\n",
       "      <td>3</td>\n",
       "      <td>1014.5</td>\n",
       "      <td>61885.1</td>\n",
       "      <td>1</td>\n",
       "      <td>8.5</td>\n",
       "      <td>520</td>\n",
       "      <td>20628.4</td>\n",
       "    </tr>\n",
       "    <tr>\n",
       "      <th>28</th>\n",
       "      <td>Czech Republic</td>\n",
       "      <td>2</td>\n",
       "      <td>3541.9</td>\n",
       "      <td>88547.9</td>\n",
       "      <td>1</td>\n",
       "      <td>27.3</td>\n",
       "      <td>682</td>\n",
       "      <td>44274.0</td>\n",
       "    </tr>\n",
       "    <tr>\n",
       "      <th>29</th>\n",
       "      <td>United Arab Emirates</td>\n",
       "      <td>2</td>\n",
       "      <td>1161.1</td>\n",
       "      <td>82435.6</td>\n",
       "      <td>2</td>\n",
       "      <td>14.6</td>\n",
       "      <td>1035</td>\n",
       "      <td>41217.8</td>\n",
       "    </tr>\n",
       "    <tr>\n",
       "      <th>34</th>\n",
       "      <td>Bahrain</td>\n",
       "      <td>2</td>\n",
       "      <td>1059.0</td>\n",
       "      <td>19061.5</td>\n",
       "      <td>2</td>\n",
       "      <td>14.9</td>\n",
       "      <td>268</td>\n",
       "      <td>9530.8</td>\n",
       "    </tr>\n",
       "    <tr>\n",
       "      <th>31</th>\n",
       "      <td>Brazil</td>\n",
       "      <td>1</td>\n",
       "      <td>1411.9</td>\n",
       "      <td>45180.1</td>\n",
       "      <td>1</td>\n",
       "      <td>11.1</td>\n",
       "      <td>356</td>\n",
       "      <td>45180.1</td>\n",
       "    </tr>\n",
       "    <tr>\n",
       "      <th>32</th>\n",
       "      <td>Lebanon</td>\n",
       "      <td>1</td>\n",
       "      <td>952.4</td>\n",
       "      <td>44764.2</td>\n",
       "      <td>1</td>\n",
       "      <td>8.6</td>\n",
       "      <td>402</td>\n",
       "      <td>44764.2</td>\n",
       "    </tr>\n",
       "    <tr>\n",
       "      <th>33</th>\n",
       "      <td>South Africa</td>\n",
       "      <td>1</td>\n",
       "      <td>461.4</td>\n",
       "      <td>27220.4</td>\n",
       "      <td>1</td>\n",
       "      <td>6.1</td>\n",
       "      <td>362</td>\n",
       "      <td>27220.4</td>\n",
       "    </tr>\n",
       "    <tr>\n",
       "      <th>35</th>\n",
       "      <td>Saudi Arabia</td>\n",
       "      <td>1</td>\n",
       "      <td>816.3</td>\n",
       "      <td>7346.6</td>\n",
       "      <td>1</td>\n",
       "      <td>8.9</td>\n",
       "      <td>80</td>\n",
       "      <td>7346.6</td>\n",
       "    </tr>\n",
       "  </tbody>\n",
       "</table>\n",
       "</div>"
      ],
      "text/plain": [
       "                 Country Total_Orders Average_Sale Total_Revenue  \\\n",
       "                                                                   \n",
       "0                Germany        17167       1028.9   480882971.2   \n",
       "3         United Kingdom          445       1267.5    11787916.0   \n",
       "4                 France          366       1376.4    11095393.0   \n",
       "2                Ireland          271       1947.0    15390867.6   \n",
       "10               Belgium           93       1192.5     2280107.1   \n",
       "1            Netherlands           91       8969.7    21302953.4   \n",
       "9                  Spain           84       1087.4     2691363.7   \n",
       "5              Australia           53       8156.6     9804245.9   \n",
       "11              Portugal           50       1115.5     1622999.0   \n",
       "8            Switzerland           48       1379.3     2717170.4   \n",
       "13               Finland           40       1532.8     1033078.0   \n",
       "14                 Italy           33       1306.9      948826.1   \n",
       "6                 Sweden           32       9418.1     3936760.6   \n",
       "12                Norway           31       1528.3     1432056.1   \n",
       "21                Poland           18       1144.5      382271.7   \n",
       "17               Denmark           17       1675.7      625032.2   \n",
       "7                  Japan           16      10251.6     2747436.0   \n",
       "19               Austria           16       1127.0      444046.1   \n",
       "15                Cyprus           14       1402.4      776928.1   \n",
       "22               Unknown           13        698.4      322679.4   \n",
       "20             Hong Kong           10       1504.6      443845.1   \n",
       "18                Israel            8       1696.5      517444.5   \n",
       "16             Singapore            7       3164.0      753034.7   \n",
       "25               Iceland            6       1152.1      178581.6   \n",
       "23         United States            5       1404.8      272538.2   \n",
       "24                Canada            5       1460.0      227755.6   \n",
       "26                Greece            5        920.7      138109.2   \n",
       "27                 Malta            5       1135.6      134001.1   \n",
       "30    European Community            3       1014.5       61885.1   \n",
       "28        Czech Republic            2       3541.9       88547.9   \n",
       "29  United Arab Emirates            2       1161.1       82435.6   \n",
       "34               Bahrain            2       1059.0       19061.5   \n",
       "31                Brazil            1       1411.9       45180.1   \n",
       "32               Lebanon            1        952.4       44764.2   \n",
       "33          South Africa            1        461.4       27220.4   \n",
       "35          Saudi Arabia            1        816.3        7346.6   \n",
       "\n",
       "   Unique_Customers Average_Units_Sold Total_Units_Sold Average_Order_Value  \n",
       "                                                                             \n",
       "0              3815               10.1          4731881             28012.1  \n",
       "3               101               13.6           126310             26489.7  \n",
       "4                85               13.8           111131             30315.3  \n",
       "2                 4               18.7           147902             56792.9  \n",
       "10               25               11.5            21917             24517.3  \n",
       "1                 8               85.1           202159            234098.4  \n",
       "9                29               11.8            29128             32040.0  \n",
       "5                 9               72.0            86520            184985.8  \n",
       "11               18               11.2            16270             32460.0  \n",
       "8                22               15.8            31169             56607.7  \n",
       "13               12               15.4            10395             25827.0  \n",
       "14               12               11.1             8032             28752.3  \n",
       "6                 8               78.1            32662            123023.8  \n",
       "12               10               17.3            16225             46195.4  \n",
       "21                6               11.4             3799             21237.3  \n",
       "17                9               22.1             8239             36766.6  \n",
       "7                 8               84.2            22555            171714.8  \n",
       "19               10               12.7             5015             27752.9  \n",
       "15                8               10.6             5860             55494.9  \n",
       "22                5                7.5             3450             24821.5  \n",
       "20                1               16.8             4961             44384.5  \n",
       "18                4               15.0             4574             64680.6  \n",
       "16                1               23.7             5629            107576.4  \n",
       "25                1               14.2             2199             29763.6  \n",
       "23                4               13.4             2607             54507.6  \n",
       "24                4               18.2             2839             45551.1  \n",
       "26                4               11.0             1651             27621.8  \n",
       "27                2                8.8             1036             26800.2  \n",
       "30                1                8.5              520             20628.4  \n",
       "28                1               27.3              682             44274.0  \n",
       "29                2               14.6             1035             41217.8  \n",
       "34                2               14.9              268              9530.8  \n",
       "31                1               11.1              356             45180.1  \n",
       "32                1                8.6              402             44764.2  \n",
       "33                1                6.1              362             27220.4  \n",
       "35                1                8.9               80              7346.6  "
      ]
     },
     "metadata": {},
     "output_type": "display_data"
    },
    {
     "data": {
      "text/html": [
       "<div>\n",
       "<style scoped>\n",
       "    .dataframe tbody tr th:only-of-type {\n",
       "        vertical-align: middle;\n",
       "    }\n",
       "\n",
       "    .dataframe tbody tr th {\n",
       "        vertical-align: top;\n",
       "    }\n",
       "\n",
       "    .dataframe thead tr th {\n",
       "        text-align: left;\n",
       "    }\n",
       "</style>\n",
       "<table border=\"1\" class=\"dataframe\">\n",
       "  <thead>\n",
       "    <tr>\n",
       "      <th></th>\n",
       "      <th>Country</th>\n",
       "      <th>Total_Orders</th>\n",
       "      <th>Average_Sale</th>\n",
       "      <th>Total_Revenue</th>\n",
       "      <th>Unique_Customers</th>\n",
       "      <th>Average_Units_Sold</th>\n",
       "      <th>Total_Units_Sold</th>\n",
       "      <th>Average_Order_Value</th>\n",
       "    </tr>\n",
       "    <tr>\n",
       "      <th></th>\n",
       "      <th></th>\n",
       "      <th></th>\n",
       "      <th></th>\n",
       "      <th></th>\n",
       "      <th></th>\n",
       "      <th></th>\n",
       "      <th></th>\n",
       "      <th></th>\n",
       "    </tr>\n",
       "  </thead>\n",
       "  <tbody>\n",
       "    <tr>\n",
       "      <th>1</th>\n",
       "      <td>United Kingdom</td>\n",
       "      <td>445</td>\n",
       "      <td>1267.5</td>\n",
       "      <td>11787916.0</td>\n",
       "      <td>101</td>\n",
       "      <td>13.6</td>\n",
       "      <td>126310</td>\n",
       "      <td>26489.7</td>\n",
       "    </tr>\n",
       "    <tr>\n",
       "      <th>2</th>\n",
       "      <td>France</td>\n",
       "      <td>366</td>\n",
       "      <td>1376.4</td>\n",
       "      <td>11095393.0</td>\n",
       "      <td>85</td>\n",
       "      <td>13.8</td>\n",
       "      <td>111131</td>\n",
       "      <td>30315.3</td>\n",
       "    </tr>\n",
       "    <tr>\n",
       "      <th>3</th>\n",
       "      <td>Ireland</td>\n",
       "      <td>271</td>\n",
       "      <td>1947.0</td>\n",
       "      <td>15390867.6</td>\n",
       "      <td>4</td>\n",
       "      <td>18.7</td>\n",
       "      <td>147902</td>\n",
       "      <td>56792.9</td>\n",
       "    </tr>\n",
       "    <tr>\n",
       "      <th>4</th>\n",
       "      <td>Belgium</td>\n",
       "      <td>93</td>\n",
       "      <td>1192.5</td>\n",
       "      <td>2280107.1</td>\n",
       "      <td>25</td>\n",
       "      <td>11.5</td>\n",
       "      <td>21917</td>\n",
       "      <td>24517.3</td>\n",
       "    </tr>\n",
       "    <tr>\n",
       "      <th>5</th>\n",
       "      <td>Netherlands</td>\n",
       "      <td>91</td>\n",
       "      <td>8969.7</td>\n",
       "      <td>21302953.4</td>\n",
       "      <td>8</td>\n",
       "      <td>85.1</td>\n",
       "      <td>202159</td>\n",
       "      <td>234098.4</td>\n",
       "    </tr>\n",
       "  </tbody>\n",
       "</table>\n",
       "</div>"
      ],
      "text/plain": [
       "          Country Total_Orders Average_Sale Total_Revenue Unique_Customers  \\\n",
       "                                                                             \n",
       "1  United Kingdom          445       1267.5    11787916.0              101   \n",
       "2          France          366       1376.4    11095393.0               85   \n",
       "3         Ireland          271       1947.0    15390867.6                4   \n",
       "4         Belgium           93       1192.5     2280107.1               25   \n",
       "5     Netherlands           91       8969.7    21302953.4                8   \n",
       "\n",
       "  Average_Units_Sold Total_Units_Sold Average_Order_Value  \n",
       "                                                           \n",
       "1               13.6           126310             26489.7  \n",
       "2               13.8           111131             30315.3  \n",
       "3               18.7           147902             56792.9  \n",
       "4               11.5            21917             24517.3  \n",
       "5               85.1           202159            234098.4  "
      ]
     },
     "execution_count": 42,
     "metadata": {},
     "output_type": "execute_result"
    }
   ],
   "source": [
    "display(df_country.sort_values(by='Total_Orders', ascending=False))\n",
    "df_top5_Count = df_country.sort_values(by='Total_Orders', ascending=False).reset_index(drop=True)\n",
    "df_top5_Count = df_top5_Count[1:6]\n",
    "df_top5_Count\n",
    "\n",
    "# \"Total_Orders\", \"Total_Revenue\", \"Unique_Customers\", \"Total_Units_Sold\", \"Average_Order_Value\""
   ]
  },
  {
   "cell_type": "code",
   "execution_count": 43,
   "metadata": {},
   "outputs": [
    {
     "data": {
      "text/plain": [
       "<AxesSubplot:xlabel='Country', ylabel='Total_Orders'>"
      ]
     },
     "execution_count": 43,
     "metadata": {},
     "output_type": "execute_result"
    },
    {
     "data": {
      "image/png": "[encoded data removed]",
      "text/plain": [
       "<Figure size 600x400 with 1 Axes>"
      ]
     },
     "metadata": {},
     "output_type": "display_data"
    }
   ],
   "source": [
    "sns.lineplot(x=\"Country\", y=\"Total_Orders\",data=df_top5_Count, label=\"Total_Orders\")\n",
    "sns.lineplot(x=\"Country\", y=\"Average_Sale\",data=df_top5_Count, label=\"Average_Sale\")\n",
    "\n"
   ]
  },
  {
   "cell_type": "code",
   "execution_count": 44,
   "metadata": {},
   "outputs": [
    {
     "data": {
      "application/vnd.plotly.v1+json": {
       "config": {
        "plotlyServerURL": "https://plot.ly"
       },
       "data": [
        {
         "branchvalues": "total",
         "customdata": [
          [
           13,
           "Unknown"
          ],
          [
           2,
           "United Arab Emirates"
          ],
          [
           53,
           "Australia"
          ],
          [
           5,
           "Greece"
          ],
          [
           7,
           "Singapore"
          ],
          [
           5,
           "Canada"
          ],
          [
           366,
           "France"
          ],
          [
           48,
           "Switzerland"
          ],
          [
           50,
           "Portugal"
          ],
          [
           8,
           "Israel"
          ],
          [
           33,
           "Italy"
          ],
          [
           93,
           "Belgium"
          ],
          [
           1,
           "Saudi Arabia"
          ],
          [
           5,
           "United States"
          ],
          [
           2,
           "Czech Republic"
          ],
          [
           31,
           "Norway"
          ],
          [
           3,
           "European Community"
          ],
          [
           17,
           "Denmark"
          ],
          [
           6,
           "Iceland"
          ],
          [
           445,
           "United Kingdom"
          ],
          [
           32,
           "Sweden"
          ],
          [
           14,
           "Cyprus"
          ],
          [
           2,
           "Bahrain"
          ],
          [
           17167,
           "Germany"
          ],
          [
           10,
           "Hong Kong"
          ],
          [
           16,
           "Austria"
          ],
          [
           91,
           "Netherlands"
          ],
          [
           84,
           "Spain"
          ],
          [
           16,
           "Japan"
          ],
          [
           1,
           "South Africa"
          ],
          [
           40,
           "Finland"
          ],
          [
           5,
           "Malta"
          ],
          [
           271,
           "Ireland"
          ],
          [
           18,
           "Poland"
          ],
          [
           1,
           "Brazil"
          ],
          [
           1,
           "Lebanon"
          ],
          [
           1,
           "Saudi Arabia"
          ],
          [
           2,
           "Bahrain"
          ],
          [
           1,
           "Brazil"
          ],
          [
           1,
           "South Africa"
          ],
          [
           1,
           "Lebanon"
          ],
          [
           3,
           "European Community"
          ],
          [
           2,
           "Czech Republic"
          ],
          [
           2,
           "United Arab Emirates"
          ],
          [
           5,
           "Malta"
          ],
          [
           5,
           "Greece"
          ],
          [
           6,
           "Iceland"
          ],
          [
           5,
           "United States"
          ],
          [
           5,
           "Canada"
          ],
          [
           13,
           "Unknown"
          ],
          [
           18,
           "Poland"
          ],
          [
           8,
           "Israel"
          ],
          [
           10,
           "Hong Kong"
          ],
          [
           16,
           "Austria"
          ],
          [
           7,
           "Singapore"
          ],
          [
           14,
           "Cyprus"
          ],
          [
           33,
           "Italy"
          ],
          [
           17,
           "Denmark"
          ],
          [
           40,
           "Finland"
          ],
          [
           31,
           "Norway"
          ],
          [
           50,
           "Portugal"
          ],
          [
           93,
           "Belgium"
          ],
          [
           16,
           "Japan"
          ],
          [
           84,
           "Spain"
          ],
          [
           48,
           "Switzerland"
          ],
          [
           32,
           "Sweden"
          ],
          [
           53,
           "Australia"
          ],
          [
           366,
           "France"
          ],
          [
           445,
           "United Kingdom"
          ],
          [
           271,
           "Ireland"
          ],
          [
           91,
           "Netherlands"
          ],
          [
           17167,
           "Germany"
          ],
          [
           1,
           "Saudi Arabia"
          ],
          [
           1,
           "South Africa"
          ],
          [
           1,
           "Lebanon"
          ],
          [
           1,
           "Brazil"
          ],
          [
           3,
           "European Community"
          ],
          [
           2,
           "Czech Republic"
          ],
          [
           6,
           "Iceland"
          ],
          [
           10,
           "Hong Kong"
          ],
          [
           7,
           "Singapore"
          ],
          [
           2,
           "Bahrain"
          ],
          [
           2,
           "United Arab Emirates"
          ],
          [
           5,
           "Malta"
          ],
          [
           5,
           "Greece"
          ],
          [
           5,
           "Canada"
          ],
          [
           5,
           "United States"
          ],
          [
           8,
           "Israel"
          ],
          [
           271,
           "Ireland"
          ],
          [
           13,
           "Unknown"
          ],
          [
           18,
           "Poland"
          ],
          [
           14,
           "Cyprus"
          ],
          [
           16,
           "Japan"
          ],
          [
           32,
           "Sweden"
          ],
          [
           91,
           "Netherlands"
          ],
          [
           17,
           "Denmark"
          ],
          [
           53,
           "Australia"
          ],
          [
           16,
           "Austria"
          ],
          [
           31,
           "Norway"
          ],
          [
           33,
           "Italy"
          ],
          [
           40,
           "Finland"
          ],
          [
           50,
           "Portugal"
          ],
          [
           48,
           "Switzerland"
          ],
          [
           93,
           "Belgium"
          ],
          [
           84,
           "Spain"
          ],
          [
           366,
           "France"
          ],
          [
           445,
           "United Kingdom"
          ],
          [
           17167,
           "Germany"
          ],
          [
           1,
           "Saudi Arabia"
          ],
          [
           2,
           "Bahrain"
          ],
          [
           1,
           "South Africa"
          ],
          [
           1,
           "Lebanon"
          ],
          [
           1,
           "Brazil"
          ],
          [
           3,
           "European Community"
          ],
          [
           2,
           "United Arab Emirates"
          ],
          [
           2,
           "Czech Republic"
          ],
          [
           5,
           "Malta"
          ],
          [
           5,
           "Greece"
          ],
          [
           6,
           "Iceland"
          ],
          [
           5,
           "Canada"
          ],
          [
           5,
           "United States"
          ],
          [
           13,
           "Unknown"
          ],
          [
           18,
           "Poland"
          ],
          [
           10,
           "Hong Kong"
          ],
          [
           16,
           "Austria"
          ],
          [
           8,
           "Israel"
          ],
          [
           17,
           "Denmark"
          ],
          [
           7,
           "Singapore"
          ],
          [
           14,
           "Cyprus"
          ],
          [
           33,
           "Italy"
          ],
          [
           40,
           "Finland"
          ],
          [
           31,
           "Norway"
          ],
          [
           50,
           "Portugal"
          ],
          [
           93,
           "Belgium"
          ],
          [
           84,
           "Spain"
          ],
          [
           48,
           "Switzerland"
          ],
          [
           16,
           "Japan"
          ],
          [
           32,
           "Sweden"
          ],
          [
           53,
           "Australia"
          ],
          [
           366,
           "France"
          ],
          [
           445,
           "United Kingdom"
          ],
          [
           271,
           "Ireland"
          ],
          [
           91,
           "Netherlands"
          ],
          [
           17167,
           "Germany"
          ],
          [
           4,
           "(?)"
          ],
          [
           6,
           "(?)"
          ],
          [
           3,
           "European Community"
          ],
          [
           20,
           "(?)"
          ],
          [
           6,
           "Iceland"
          ],
          [
           7,
           "Singapore"
          ],
          [
           8,
           "Israel"
          ],
          [
           10,
           "Hong Kong"
          ],
          [
           13,
           "Unknown"
          ],
          [
           14,
           "Cyprus"
          ],
          [
           32,
           "(?)"
          ],
          [
           17,
           "Denmark"
          ],
          [
           18,
           "Poland"
          ],
          [
           31,
           "Norway"
          ],
          [
           32,
           "Sweden"
          ],
          [
           33,
           "Italy"
          ],
          [
           40,
           "Finland"
          ],
          [
           48,
           "Switzerland"
          ],
          [
           50,
           "Portugal"
          ],
          [
           53,
           "Australia"
          ],
          [
           84,
           "Spain"
          ],
          [
           91,
           "Netherlands"
          ],
          [
           93,
           "Belgium"
          ],
          [
           271,
           "Ireland"
          ],
          [
           366,
           "France"
          ],
          [
           445,
           "United Kingdom"
          ],
          [
           17167,
           "Germany"
          ]
         ],
         "domain": {
          "x": [
           0,
           1
          ],
          "y": [
           0,
           1
          ]
         },
         "hovertemplate": "labels=%{label}<br>Total_Orders=%{customdata[0]}<br>parent=%{parent}<br>id=%{id}<br>Country=%{customdata[1]}<extra></extra>",
         "ids": [
          "13/322679.4/5/3450/24821.5",
          "2/82435.6/2/1035/41217.8",
          "53/9804245.9/9/86520/184985.8",
          "5/138109.2/4/1651/27621.8",
          "7/753034.7/1/5629/107576.4",
          "5/227755.6/4/2839/45551.1",
          "366/11095393.0/85/111131/30315.3",
          "48/2717170.4/22/31169/56607.7",
          "50/1622999.0/18/16270/32460.0",
          "8/517444.5/4/4574/64680.6",
          "33/948826.1/12/8032/28752.3",
          "93/2280107.1/25/21917/24517.3",
          "1/7346.6/1/80/7346.6",
          "5/272538.2/4/2607/54507.6",
          "2/88547.9/1/682/44274.0",
          "31/1432056.1/10/16225/46195.4",
          "3/61885.1/1/520/20628.4",
          "17/625032.2/9/8239/36766.6",
          "6/178581.6/1/2199/29763.6",
          "445/11787916.0/101/126310/26489.7",
          "32/3936760.6/8/32662/123023.8",
          "14/776928.1/8/5860/55494.9",
          "2/19061.5/2/268/9530.8",
          "17167/480882971.2/3815/4731881/28012.1",
          "10/443845.1/1/4961/44384.5",
          "16/444046.1/10/5015/27752.9",
          "91/21302953.4/8/202159/234098.4",
          "84/2691363.7/29/29128/32040.0",
          "16/2747436.0/8/22555/171714.8",
          "1/27220.4/1/362/27220.4",
          "40/1033078.0/12/10395/25827.0",
          "5/134001.1/2/1036/26800.2",
          "271/15390867.6/4/147902/56792.9",
          "18/382271.7/6/3799/21237.3",
          "1/45180.1/1/356/45180.1",
          "1/44764.2/1/402/44764.2",
          "1/7346.6/1/80",
          "2/19061.5/2/268",
          "1/45180.1/1/356",
          "1/27220.4/1/362",
          "1/44764.2/1/402",
          "3/61885.1/1/520",
          "2/88547.9/1/682",
          "2/82435.6/2/1035",
          "5/134001.1/2/1036",
          "5/138109.2/4/1651",
          "6/178581.6/1/2199",
          "5/272538.2/4/2607",
          "5/227755.6/4/2839",
          "13/322679.4/5/3450",
          "18/382271.7/6/3799",
          "8/517444.5/4/4574",
          "10/443845.1/1/4961",
          "16/444046.1/10/5015",
          "7/753034.7/1/5629",
          "14/776928.1/8/5860",
          "33/948826.1/12/8032",
          "17/625032.2/9/8239",
          "40/1033078.0/12/10395",
          "31/1432056.1/10/16225",
          "50/1622999.0/18/16270",
          "93/2280107.1/25/21917",
          "16/2747436.0/8/22555",
          "84/2691363.7/29/29128",
          "48/2717170.4/22/31169",
          "32/3936760.6/8/32662",
          "53/9804245.9/9/86520",
          "366/11095393.0/85/111131",
          "445/11787916.0/101/126310",
          "271/15390867.6/4/147902",
          "91/21302953.4/8/202159",
          "17167/480882971.2/3815/4731881",
          "1/7346.6/1",
          "1/27220.4/1",
          "1/44764.2/1",
          "1/45180.1/1",
          "3/61885.1/1",
          "2/88547.9/1",
          "6/178581.6/1",
          "10/443845.1/1",
          "7/753034.7/1",
          "2/19061.5/2",
          "2/82435.6/2",
          "5/134001.1/2",
          "5/138109.2/4",
          "5/227755.6/4",
          "5/272538.2/4",
          "8/517444.5/4",
          "271/15390867.6/4",
          "13/322679.4/5",
          "18/382271.7/6",
          "14/776928.1/8",
          "16/2747436.0/8",
          "32/3936760.6/8",
          "91/21302953.4/8",
          "17/625032.2/9",
          "53/9804245.9/9",
          "16/444046.1/10",
          "31/1432056.1/10",
          "33/948826.1/12",
          "40/1033078.0/12",
          "50/1622999.0/18",
          "48/2717170.4/22",
          "93/2280107.1/25",
          "84/2691363.7/29",
          "366/11095393.0/85",
          "445/11787916.0/101",
          "17167/480882971.2/3815",
          "1/7346.6",
          "2/19061.5",
          "1/27220.4",
          "1/44764.2",
          "1/45180.1",
          "3/61885.1",
          "2/82435.6",
          "2/88547.9",
          "5/134001.1",
          "5/138109.2",
          "6/178581.6",
          "5/227755.6",
          "5/272538.2",
          "13/322679.4",
          "18/382271.7",
          "10/443845.1",
          "16/444046.1",
          "8/517444.5",
          "17/625032.2",
          "7/753034.7",
          "14/776928.1",
          "33/948826.1",
          "40/1033078.0",
          "31/1432056.1",
          "50/1622999.0",
          "93/2280107.1",
          "84/2691363.7",
          "48/2717170.4",
          "16/2747436.0",
          "32/3936760.6",
          "53/9804245.9",
          "366/11095393.0",
          "445/11787916.0",
          "271/15390867.6",
          "91/21302953.4",
          "17167/480882971.2",
          "1",
          "2",
          "3",
          "5",
          "6",
          "7",
          "8",
          "10",
          "13",
          "14",
          "16",
          "17",
          "18",
          "31",
          "32",
          "33",
          "40",
          "48",
          "50",
          "53",
          "84",
          "91",
          "93",
          "271",
          "366",
          "445",
          "17167"
         ],
         "labels": [
          "24821.5",
          "41217.8",
          "184985.8",
          "27621.8",
          "107576.4",
          "45551.1",
          "30315.3",
          "56607.7",
          "32460.0",
          "64680.6",
          "28752.3",
          "24517.3",
          "7346.6",
          "54507.6",
          "44274.0",
          "46195.4",
          "20628.4",
          "36766.6",
          "29763.6",
          "26489.7",
          "123023.8",
          "55494.9",
          "9530.8",
          "28012.1",
          "44384.5",
          "27752.9",
          "234098.4",
          "32040.0",
          "171714.8",
          "27220.4",
          "25827.0",
          "26800.2",
          "56792.9",
          "21237.3",
          "45180.1",
          "44764.2",
          "80",
          "268",
          "356",
          "362",
          "402",
          "520",
          "682",
          "1035",
          "1036",
          "1651",
          "2199",
          "2607",
          "2839",
          "3450",
          "3799",
          "4574",
          "4961",
          "5015",
          "5629",
          "5860",
          "8032",
          "8239",
          "10395",
          "16225",
          "16270",
          "21917",
          "22555",
          "29128",
          "31169",
          "32662",
          "86520",
          "111131",
          "126310",
          "147902",
          "202159",
          "4731881",
          "1",
          "1",
          "1",
          "1",
          "1",
          "1",
          "1",
          "1",
          "1",
          "2",
          "2",
          "2",
          "4",
          "4",
          "4",
          "4",
          "4",
          "5",
          "6",
          "8",
          "8",
          "8",
          "8",
          "9",
          "9",
          "10",
          "10",
          "12",
          "12",
          "18",
          "22",
          "25",
          "29",
          "85",
          "101",
          "3815",
          "7346.6",
          "19061.5",
          "27220.4",
          "44764.2",
          "45180.1",
          "61885.1",
          "82435.6",
          "88547.9",
          "134001.1",
          "138109.2",
          "178581.6",
          "227755.6",
          "272538.2",
          "322679.4",
          "382271.7",
          "443845.1",
          "444046.1",
          "517444.5",
          "625032.2",
          "753034.7",
          "776928.1",
          "948826.1",
          "1033078.0",
          "1432056.1",
          "1622999.0",
          "2280107.1",
          "2691363.7",
          "2717170.4",
          "2747436.0",
          "3936760.6",
          "9804245.9",
          "11095393.0",
          "11787916.0",
          "15390867.6",
          "21302953.4",
          "480882971.2",
          "1",
          "2",
          "3",
          "5",
          "6",
          "7",
          "8",
          "10",
          "13",
          "14",
          "16",
          "17",
          "18",
          "31",
          "32",
          "33",
          "40",
          "48",
          "50",
          "53",
          "84",
          "91",
          "93",
          "271",
          "366",
          "445",
          "17167"
         ],
         "marker": {
          "colors": [
           "#636efa",
           "#EF553B",
           "#00cc96",
           "#ab63fa",
           "#FFA15A",
           "#19d3f3",
           "#FF6692",
           "#B6E880",
           "#FF97FF",
           "#FECB52",
           "#636efa",
           "#EF553B",
           "#00cc96",
           "#ab63fa",
           "#FFA15A",
           "#19d3f3",
           "#FF6692",
           "#B6E880",
           "#FF97FF",
           "#FECB52",
           "#636efa",
           "#EF553B",
           "#00cc96",
           "#ab63fa",
           "#FFA15A",
           "#19d3f3",
           "#FF6692",
           "#B6E880",
           "#FF97FF",
           "#FECB52",
           "#636efa",
           "#EF553B",
           "#00cc96",
           "#ab63fa",
           "#FFA15A",
           "#19d3f3",
           "#00cc96",
           "#00cc96",
           "#FFA15A",
           "#FECB52",
           "#19d3f3",
           "#FF6692",
           "#FFA15A",
           "#EF553B",
           "#EF553B",
           "#ab63fa",
           "#FF97FF",
           "#ab63fa",
           "#19d3f3",
           "#636efa",
           "#ab63fa",
           "#FECB52",
           "#FFA15A",
           "#19d3f3",
           "#FFA15A",
           "#EF553B",
           "#636efa",
           "#B6E880",
           "#636efa",
           "#19d3f3",
           "#FF97FF",
           "#EF553B",
           "#FF97FF",
           "#B6E880",
           "#B6E880",
           "#636efa",
           "#00cc96",
           "#FF6692",
           "#FECB52",
           "#00cc96",
           "#FF6692",
           "#ab63fa",
           "#00cc96",
           "#FECB52",
           "#19d3f3",
           "#FFA15A",
           "#FF6692",
           "#FFA15A",
           "#FF97FF",
           "#FFA15A",
           "#FFA15A",
           "#00cc96",
           "#EF553B",
           "#EF553B",
           "#ab63fa",
           "#19d3f3",
           "#ab63fa",
           "#FECB52",
           "#00cc96",
           "#636efa",
           "#ab63fa",
           "#EF553B",
           "#FF97FF",
           "#636efa",
           "#FF6692",
           "#B6E880",
           "#00cc96",
           "#19d3f3",
           "#19d3f3",
           "#636efa",
           "#636efa",
           "#FF97FF",
           "#B6E880",
           "#EF553B",
           "#B6E880",
           "#FF6692",
           "#FECB52",
           "#ab63fa",
           "#00cc96",
           "#00cc96",
           "#FECB52",
           "#19d3f3",
           "#FFA15A",
           "#FF6692",
           "#EF553B",
           "#FFA15A",
           "#EF553B",
           "#ab63fa",
           "#FF97FF",
           "#19d3f3",
           "#ab63fa",
           "#636efa",
           "#ab63fa",
           "#FFA15A",
           "#19d3f3",
           "#FECB52",
           "#B6E880",
           "#FFA15A",
           "#EF553B",
           "#636efa",
           "#636efa",
           "#19d3f3",
           "#FF97FF",
           "#EF553B",
           "#B6E880",
           "#B6E880",
           "#FF97FF",
           "#636efa",
           "#00cc96",
           "#FF6692",
           "#FECB52",
           "#00cc96",
           "#FF6692",
           "#ab63fa",
           "#FF6692",
           "#FF6692",
           "#FF6692",
           "#FF6692",
           "#FF97FF",
           "#FFA15A",
           "#FECB52",
           "#FFA15A",
           "#636efa",
           "#EF553B",
           "#FF6692",
           "#B6E880",
           "#ab63fa",
           "#19d3f3",
           "#636efa",
           "#636efa",
           "#636efa",
           "#B6E880",
           "#FF97FF",
           "#00cc96",
           "#B6E880",
           "#FF6692",
           "#EF553B",
           "#00cc96",
           "#FF6692",
           "#FECB52",
           "#ab63fa"
          ]
         },
         "name": "",
         "parents": [
          "13/322679.4/5/3450",
          "2/82435.6/2/1035",
          "53/9804245.9/9/86520",
          "5/138109.2/4/1651",
          "7/753034.7/1/5629",
          "5/227755.6/4/2839",
          "366/11095393.0/85/111131",
          "48/2717170.4/22/31169",
          "50/1622999.0/18/16270",
          "8/517444.5/4/4574",
          "33/948826.1/12/8032",
          "93/2280107.1/25/21917",
          "1/7346.6/1/80",
          "5/272538.2/4/2607",
          "2/88547.9/1/682",
          "31/1432056.1/10/16225",
          "3/61885.1/1/520",
          "17/625032.2/9/8239",
          "6/178581.6/1/2199",
          "445/11787916.0/101/126310",
          "32/3936760.6/8/32662",
          "14/776928.1/8/5860",
          "2/19061.5/2/268",
          "17167/480882971.2/3815/4731881",
          "10/443845.1/1/4961",
          "16/444046.1/10/5015",
          "91/21302953.4/8/202159",
          "84/2691363.7/29/29128",
          "16/2747436.0/8/22555",
          "1/27220.4/1/362",
          "40/1033078.0/12/10395",
          "5/134001.1/2/1036",
          "271/15390867.6/4/147902",
          "18/382271.7/6/3799",
          "1/45180.1/1/356",
          "1/44764.2/1/402",
          "1/7346.6/1",
          "2/19061.5/2",
          "1/45180.1/1",
          "1/27220.4/1",
          "1/44764.2/1",
          "3/61885.1/1",
          "2/88547.9/1",
          "2/82435.6/2",
          "5/134001.1/2",
          "5/138109.2/4",
          "6/178581.6/1",
          "5/272538.2/4",
          "5/227755.6/4",
          "13/322679.4/5",
          "18/382271.7/6",
          "8/517444.5/4",
          "10/443845.1/1",
          "16/444046.1/10",
          "7/753034.7/1",
          "14/776928.1/8",
          "33/948826.1/12",
          "17/625032.2/9",
          "40/1033078.0/12",
          "31/1432056.1/10",
          "50/1622999.0/18",
          "93/2280107.1/25",
          "16/2747436.0/8",
          "84/2691363.7/29",
          "48/2717170.4/22",
          "32/3936760.6/8",
          "53/9804245.9/9",
          "366/11095393.0/85",
          "445/11787916.0/101",
          "271/15390867.6/4",
          "91/21302953.4/8",
          "17167/480882971.2/3815",
          "1/7346.6",
          "1/27220.4",
          "1/44764.2",
          "1/45180.1",
          "3/61885.1",
          "2/88547.9",
          "6/178581.6",
          "10/443845.1",
          "7/753034.7",
          "2/19061.5",
          "2/82435.6",
          "5/134001.1",
          "5/138109.2",
          "5/227755.6",
          "5/272538.2",
          "8/517444.5",
          "271/15390867.6",
          "13/322679.4",
          "18/382271.7",
          "14/776928.1",
          "16/2747436.0",
          "32/3936760.6",
          "91/21302953.4",
          "17/625032.2",
          "53/9804245.9",
          "16/444046.1",
          "31/1432056.1",
          "33/948826.1",
          "40/1033078.0",
          "50/1622999.0",
          "48/2717170.4",
          "93/2280107.1",
          "84/2691363.7",
          "366/11095393.0",
          "445/11787916.0",
          "17167/480882971.2",
          "1",
          "2",
          "1",
          "1",
          "1",
          "3",
          "2",
          "2",
          "5",
          "5",
          "6",
          "5",
          "5",
          "13",
          "18",
          "10",
          "16",
          "8",
          "17",
          "7",
          "14",
          "33",
          "40",
          "31",
          "50",
          "93",
          "84",
          "48",
          "16",
          "32",
          "53",
          "366",
          "445",
          "271",
          "91",
          "17167",
          "",
          "",
          "",
          "",
          "",
          "",
          "",
          "",
          "",
          "",
          "",
          "",
          "",
          "",
          "",
          "",
          "",
          "",
          "",
          "",
          "",
          "",
          "",
          "",
          "",
          "",
          ""
         ],
         "type": "sunburst",
         "values": [
          13,
          2,
          53,
          5,
          7,
          5,
          366,
          48,
          50,
          8,
          33,
          93,
          1,
          5,
          2,
          31,
          3,
          17,
          6,
          445,
          32,
          14,
          2,
          17167,
          10,
          16,
          91,
          84,
          16,
          1,
          40,
          5,
          271,
          18,
          1,
          1,
          1,
          2,
          1,
          1,
          1,
          3,
          2,
          2,
          5,
          5,
          6,
          5,
          5,
          13,
          18,
          8,
          10,
          16,
          7,
          14,
          33,
          17,
          40,
          31,
          50,
          93,
          16,
          84,
          48,
          32,
          53,
          366,
          445,
          271,
          91,
          17167,
          1,
          1,
          1,
          1,
          3,
          2,
          6,
          10,
          7,
          2,
          2,
          5,
          5,
          5,
          5,
          8,
          271,
          13,
          18,
          14,
          16,
          32,
          91,
          17,
          53,
          16,
          31,
          33,
          40,
          50,
          48,
          93,
          84,
          366,
          445,
          17167,
          1,
          2,
          1,
          1,
          1,
          3,
          2,
          2,
          5,
          5,
          6,
          5,
          5,
          13,
          18,
          10,
          16,
          8,
          17,
          7,
          14,
          33,
          40,
          31,
          50,
          93,
          84,
          48,
          16,
          32,
          53,
          366,
          445,
          271,
          91,
          17167,
          4,
          6,
          3,
          20,
          6,
          7,
          8,
          10,
          13,
          14,
          32,
          17,
          18,
          31,
          32,
          33,
          40,
          48,
          50,
          53,
          84,
          91,
          93,
          271,
          366,
          445,
          17167
         ]
        }
       ],
       "layout": {
        "legend": {
         "tracegroupgap": 0
        },
        "margin": {
         "t": 60
        },
        "template": {
         "data": {
          "bar": [
           {
            "error_x": {
             "color": "#2a3f5f"
            },
            "error_y": {
             "color": "#2a3f5f"
            },
            "marker": {
             "line": {
              "color": "#E5ECF6",
              "width": 0.5
             },
             "pattern": {
              "fillmode": "overlay",
              "size": 10,
              "solidity": 0.2
             }
            },
            "type": "bar"
           }
          ],
          "barpolar": [
           {
            "marker": {
             "line": {
              "color": "#E5ECF6",
              "width": 0.5
             },
             "pattern": {
              "fillmode": "overlay",
              "size": 10,
              "solidity": 0.2
             }
            },
            "type": "barpolar"
           }
          ],
          "carpet": [
           {
            "aaxis": {
             "endlinecolor": "#2a3f5f",
             "gridcolor": "white",
             "linecolor": "white",
             "minorgridcolor": "white",
             "startlinecolor": "#2a3f5f"
            },
            "baxis": {
             "endlinecolor": "#2a3f5f",
             "gridcolor": "white",
             "linecolor": "white",
             "minorgridcolor": "white",
             "startlinecolor": "#2a3f5f"
            },
            "type": "carpet"
           }
          ],
          "choropleth": [
           {
            "colorbar": {
             "outlinewidth": 0,
             "ticks": ""
            },
            "type": "choropleth"
           }
          ],
          "contour": [
           {
            "colorbar": {
             "outlinewidth": 0,
             "ticks": ""
            },
            "colorscale": [
             [
              0,
              "#0d0887"
             ],
             [
              0.1111111111111111,
              "#46039f"
             ],
             [
              0.2222222222222222,
              "#7201a8"
             ],
             [
              0.3333333333333333,
              "#9c179e"
             ],
             [
              0.4444444444444444,
              "#bd3786"
             ],
             [
              0.5555555555555556,
              "#d8576b"
             ],
             [
              0.6666666666666666,
              "#ed7953"
             ],
             [
              0.7777777777777778,
              "#fb9f3a"
             ],
             [
              0.8888888888888888,
              "#fdca26"
             ],
             [
              1,
              "#f0f921"
             ]
            ],
            "type": "contour"
           }
          ],
          "contourcarpet": [
           {
            "colorbar": {
             "outlinewidth": 0,
             "ticks": ""
            },
            "type": "contourcarpet"
           }
          ],
          "heatmap": [
           {
            "colorbar": {
             "outlinewidth": 0,
             "ticks": ""
            },
            "colorscale": [
             [
              0,
              "#0d0887"
             ],
             [
              0.1111111111111111,
              "#46039f"
             ],
             [
              0.2222222222222222,
              "#7201a8"
             ],
             [
              0.3333333333333333,
              "#9c179e"
             ],
             [
              0.4444444444444444,
              "#bd3786"
             ],
             [
              0.5555555555555556,
              "#d8576b"
             ],
             [
              0.6666666666666666,
              "#ed7953"
             ],
             [
              0.7777777777777778,
              "#fb9f3a"
             ],
             [
              0.8888888888888888,
              "#fdca26"
             ],
             [
              1,
              "#f0f921"
             ]
            ],
            "type": "heatmap"
           }
          ],
          "heatmapgl": [
           {
            "colorbar": {
             "outlinewidth": 0,
             "ticks": ""
            },
            "colorscale": [
             [
              0,
              "#0d0887"
             ],
             [
              0.1111111111111111,
              "#46039f"
             ],
             [
              0.2222222222222222,
              "#7201a8"
             ],
             [
              0.3333333333333333,
              "#9c179e"
             ],
             [
              0.4444444444444444,
              "#bd3786"
             ],
             [
              0.5555555555555556,
              "#d8576b"
             ],
             [
              0.6666666666666666,
              "#ed7953"
             ],
             [
              0.7777777777777778,
              "#fb9f3a"
             ],
             [
              0.8888888888888888,
              "#fdca26"
             ],
             [
              1,
              "#f0f921"
             ]
            ],
            "type": "heatmapgl"
           }
          ],
          "histogram": [
           {
            "marker": {
             "pattern": {
              "fillmode": "overlay",
              "size": 10,
              "solidity": 0.2
             }
            },
            "type": "histogram"
           }
          ],
          "histogram2d": [
           {
            "colorbar": {
             "outlinewidth": 0,
             "ticks": ""
            },
            "colorscale": [
             [
              0,
              "#0d0887"
             ],
             [
              0.1111111111111111,
              "#46039f"
             ],
             [
              0.2222222222222222,
              "#7201a8"
             ],
             [
              0.3333333333333333,
              "#9c179e"
             ],
             [
              0.4444444444444444,
              "#bd3786"
             ],
             [
              0.5555555555555556,
              "#d8576b"
             ],
             [
              0.6666666666666666,
              "#ed7953"
             ],
             [
              0.7777777777777778,
              "#fb9f3a"
             ],
             [
              0.8888888888888888,
              "#fdca26"
             ],
             [
              1,
              "#f0f921"
             ]
            ],
            "type": "histogram2d"
           }
          ],
          "histogram2dcontour": [
           {
            "colorbar": {
             "outlinewidth": 0,
             "ticks": ""
            },
            "colorscale": [
             [
              0,
              "#0d0887"
             ],
             [
              0.1111111111111111,
              "#46039f"
             ],
             [
              0.2222222222222222,
              "#7201a8"
             ],
             [
              0.3333333333333333,
              "#9c179e"
             ],
             [
              0.4444444444444444,
              "#bd3786"
             ],
             [
              0.5555555555555556,
              "#d8576b"
             ],
             [
              0.6666666666666666,
              "#ed7953"
             ],
             [
              0.7777777777777778,
              "#fb9f3a"
             ],
             [
              0.8888888888888888,
              "#fdca26"
             ],
             [
              1,
              "#f0f921"
             ]
            ],
            "type": "histogram2dcontour"
           }
          ],
          "mesh3d": [
           {
            "colorbar": {
             "outlinewidth": 0,
             "ticks": ""
            },
            "type": "mesh3d"
           }
          ],
          "parcoords": [
           {
            "line": {
             "colorbar": {
              "outlinewidth": 0,
              "ticks": ""
             }
            },
            "type": "parcoords"
           }
          ],
          "pie": [
           {
            "automargin": true,
            "type": "pie"
           }
          ],
          "scatter": [
           {
            "marker": {
             "colorbar": {
              "outlinewidth": 0,
              "ticks": ""
             }
            },
            "type": "scatter"
           }
          ],
          "scatter3d": [
           {
            "line": {
             "colorbar": {
              "outlinewidth": 0,
              "ticks": ""
             }
            },
            "marker": {
             "colorbar": {
              "outlinewidth": 0,
              "ticks": ""
             }
            },
            "type": "scatter3d"
           }
          ],
          "scattercarpet": [
           {
            "marker": {
             "colorbar": {
              "outlinewidth": 0,
              "ticks": ""
             }
            },
            "type": "scattercarpet"
           }
          ],
          "scattergeo": [
           {
            "marker": {
             "colorbar": {
              "outlinewidth": 0,
              "ticks": ""
             }
            },
            "type": "scattergeo"
           }
          ],
          "scattergl": [
           {
            "marker": {
             "colorbar": {
              "outlinewidth": 0,
              "ticks": ""
             }
            },
            "type": "scattergl"
           }
          ],
          "scattermapbox": [
           {
            "marker": {
             "colorbar": {
              "outlinewidth": 0,
              "ticks": ""
             }
            },
            "type": "scattermapbox"
           }
          ],
          "scatterpolar": [
           {
            "marker": {
             "colorbar": {
              "outlinewidth": 0,
              "ticks": ""
             }
            },
            "type": "scatterpolar"
           }
          ],
          "scatterpolargl": [
           {
            "marker": {
             "colorbar": {
              "outlinewidth": 0,
              "ticks": ""
             }
            },
            "type": "scatterpolargl"
           }
          ],
          "scatterternary": [
           {
            "marker": {
             "colorbar": {
              "outlinewidth": 0,
              "ticks": ""
             }
            },
            "type": "scatterternary"
           }
          ],
          "surface": [
           {
            "colorbar": {
             "outlinewidth": 0,
             "ticks": ""
            },
            "colorscale": [
             [
              0,
              "#0d0887"
             ],
             [
              0.1111111111111111,
              "#46039f"
             ],
             [
              0.2222222222222222,
              "#7201a8"
             ],
             [
              0.3333333333333333,
              "#9c179e"
             ],
             [
              0.4444444444444444,
              "#bd3786"
             ],
             [
              0.5555555555555556,
              "#d8576b"
             ],
             [
              0.6666666666666666,
              "#ed7953"
             ],
             [
              0.7777777777777778,
              "#fb9f3a"
             ],
             [
              0.8888888888888888,
              "#fdca26"
             ],
             [
              1,
              "#f0f921"
             ]
            ],
            "type": "surface"
           }
          ],
          "table": [
           {
            "cells": {
             "fill": {
              "color": "#EBF0F8"
             },
             "line": {
              "color": "white"
             }
            },
            "header": {
             "fill": {
              "color": "#C8D4E3"
             },
             "line": {
              "color": "white"
             }
            },
            "type": "table"
           }
          ]
         },
         "layout": {
          "annotationdefaults": {
           "arrowcolor": "#2a3f5f",
           "arrowhead": 0,
           "arrowwidth": 1
          },
          "autotypenumbers": "strict",
          "coloraxis": {
           "colorbar": {
            "outlinewidth": 0,
            "ticks": ""
           }
          },
          "colorscale": {
           "diverging": [
            [
             0,
             "#8e0152"
            ],
            [
             0.1,
             "#c51b7d"
            ],
            [
             0.2,
             "#de77ae"
            ],
            [
             0.3,
             "#f1b6da"
            ],
            [
             0.4,
             "#fde0ef"
            ],
            [
             0.5,
             "#f7f7f7"
            ],
            [
             0.6,
             "#e6f5d0"
            ],
            [
             0.7,
             "#b8e186"
            ],
            [
             0.8,
             "#7fbc41"
            ],
            [
             0.9,
             "#4d9221"
            ],
            [
             1,
             "#276419"
            ]
           ],
           "sequential": [
            [
             0,
             "#0d0887"
            ],
            [
             0.1111111111111111,
             "#46039f"
            ],
            [
             0.2222222222222222,
             "#7201a8"
            ],
            [
             0.3333333333333333,
             "#9c179e"
            ],
            [
             0.4444444444444444,
             "#bd3786"
            ],
            [
             0.5555555555555556,
             "#d8576b"
            ],
            [
             0.6666666666666666,
             "#ed7953"
            ],
            [
             0.7777777777777778,
             "#fb9f3a"
            ],
            [
             0.8888888888888888,
             "#fdca26"
            ],
            [
             1,
             "#f0f921"
            ]
           ],
           "sequentialminus": [
            [
             0,
             "#0d0887"
            ],
            [
             0.1111111111111111,
             "#46039f"
            ],
            [
             0.2222222222222222,
             "#7201a8"
            ],
            [
             0.3333333333333333,
             "#9c179e"
            ],
            [
             0.4444444444444444,
             "#bd3786"
            ],
            [
             0.5555555555555556,
             "#d8576b"
            ],
            [
             0.6666666666666666,
             "#ed7953"
            ],
            [
             0.7777777777777778,
             "#fb9f3a"
            ],
            [
             0.8888888888888888,
             "#fdca26"
            ],
            [
             1,
             "#f0f921"
            ]
           ]
          },
          "colorway": [
           "#636efa",
           "#EF553B",
           "#00cc96",
           "#ab63fa",
           "#FFA15A",
           "#19d3f3",
           "#FF6692",
           "#B6E880",
           "#FF97FF",
           "#FECB52"
          ],
          "font": {
           "color": "#2a3f5f"
          },
          "geo": {
           "bgcolor": "white",
           "lakecolor": "white",
           "landcolor": "#E5ECF6",
           "showlakes": true,
           "showland": true,
           "subunitcolor": "white"
          },
          "hoverlabel": {
           "align": "left"
          },
          "hovermode": "closest",
          "mapbox": {
           "style": "light"
          },
          "paper_bgcolor": "white",
          "plot_bgcolor": "#E5ECF6",
          "polar": {
           "angularaxis": {
            "gridcolor": "white",
            "linecolor": "white",
            "ticks": ""
           },
           "bgcolor": "#E5ECF6",
           "radialaxis": {
            "gridcolor": "white",
            "linecolor": "white",
            "ticks": ""
           }
          },
          "scene": {
           "xaxis": {
            "backgroundcolor": "#E5ECF6",
            "gridcolor": "white",
            "gridwidth": 2,
            "linecolor": "white",
            "showbackground": true,
            "ticks": "",
            "zerolinecolor": "white"
           },
           "yaxis": {
            "backgroundcolor": "#E5ECF6",
            "gridcolor": "white",
            "gridwidth": 2,
            "linecolor": "white",
            "showbackground": true,
            "ticks": "",
            "zerolinecolor": "white"
           },
           "zaxis": {
            "backgroundcolor": "#E5ECF6",
            "gridcolor": "white",
            "gridwidth": 2,
            "linecolor": "white",
            "showbackground": true,
            "ticks": "",
            "zerolinecolor": "white"
           }
          },
          "shapedefaults": {
           "line": {
            "color": "#2a3f5f"
           }
          },
          "ternary": {
           "aaxis": {
            "gridcolor": "white",
            "linecolor": "white",
            "ticks": ""
           },
           "baxis": {
            "gridcolor": "white",
            "linecolor": "white",
            "ticks": ""
           },
           "bgcolor": "#E5ECF6",
           "caxis": {
            "gridcolor": "white",
            "linecolor": "white",
            "ticks": ""
           }
          },
          "title": {
           "x": 0.05
          },
          "xaxis": {
           "automargin": true,
           "gridcolor": "white",
           "linecolor": "white",
           "ticks": "",
           "title": {
            "standoff": 15
           },
           "zerolinecolor": "white",
           "zerolinewidth": 2
          },
          "yaxis": {
           "automargin": true,
           "gridcolor": "white",
           "linecolor": "white",
           "ticks": "",
           "title": {
            "standoff": 15
           },
           "zerolinecolor": "white",
           "zerolinewidth": 2
          }
         }
        }
       }
      }
     },
     "metadata": {},
     "output_type": "display_data"
    },
    {
     "data": {
      "application/vnd.plotly.v1+json": {
       "config": {
        "plotlyServerURL": "https://plot.ly"
       },
       "data": [
        {
         "branchvalues": "total",
         "domain": {
          "x": [
           0,
           1
          ],
          "y": [
           0,
           1
          ]
         },
         "hovertemplate": "labels=%{label}<br>count=%{value}<br>parent=%{parent}<br>id=%{id}<extra></extra>",
         "ids": [
          "Saudi Arabia/1/7346.6",
          "Bahrain/2/19061.5",
          "South Africa/1/27220.4",
          "Lebanon/1/44764.2",
          "Brazil/1/45180.1",
          "European Community/3/61885.1",
          "United Arab Emirates/2/82435.6",
          "Czech Republic/2/88547.9",
          "Malta/5/134001.1",
          "Greece/5/138109.2",
          "Iceland/6/178581.6",
          "Canada/5/227755.6",
          "United States/5/272538.2",
          "Unknown/13/322679.4",
          "Poland/18/382271.7",
          "Hong Kong/10/443845.1",
          "Austria/16/444046.1",
          "Israel/8/517444.5",
          "Denmark/17/625032.2",
          "Singapore/7/753034.7",
          "Cyprus/14/776928.1",
          "Italy/33/948826.1",
          "Finland/40/1033078.0",
          "Norway/31/1432056.1",
          "Portugal/50/1622999.0",
          "Belgium/93/2280107.1",
          "Spain/84/2691363.7",
          "Switzerland/48/2717170.4",
          "Japan/16/2747436.0",
          "Sweden/32/3936760.6",
          "Australia/53/9804245.9",
          "France/366/11095393.0",
          "United Kingdom/445/11787916.0",
          "Ireland/271/15390867.6",
          "Netherlands/91/21302953.4",
          "Germany/17167/480882971.2",
          "Brazil/1",
          "Lebanon/1",
          "Saudi Arabia/1",
          "South Africa/1",
          "Bahrain/2",
          "Czech Republic/2",
          "United Arab Emirates/2",
          "European Community/3",
          "Canada/5",
          "Greece/5",
          "Malta/5",
          "United States/5",
          "Iceland/6",
          "Singapore/7",
          "Israel/8",
          "Hong Kong/10",
          "Unknown/13",
          "Cyprus/14",
          "Austria/16",
          "Japan/16",
          "Denmark/17",
          "Poland/18",
          "Norway/31",
          "Sweden/32",
          "Italy/33",
          "Finland/40",
          "Switzerland/48",
          "Portugal/50",
          "Australia/53",
          "Spain/84",
          "Netherlands/91",
          "Belgium/93",
          "Ireland/271",
          "France/366",
          "United Kingdom/445",
          "Germany/17167",
          "Australia",
          "Austria",
          "Bahrain",
          "Belgium",
          "Brazil",
          "Canada",
          "Cyprus",
          "Czech Republic",
          "Denmark",
          "European Community",
          "Finland",
          "France",
          "Germany",
          "Greece",
          "Hong Kong",
          "Iceland",
          "Ireland",
          "Israel",
          "Italy",
          "Japan",
          "Lebanon",
          "Malta",
          "Netherlands",
          "Norway",
          "Poland",
          "Portugal",
          "Saudi Arabia",
          "Singapore",
          "South Africa",
          "Spain",
          "Sweden",
          "Switzerland",
          "United Arab Emirates",
          "United Kingdom",
          "United States",
          "Unknown"
         ],
         "labels": [
          "7346.6",
          "19061.5",
          "27220.4",
          "44764.2",
          "45180.1",
          "61885.1",
          "82435.6",
          "88547.9",
          "134001.1",
          "138109.2",
          "178581.6",
          "227755.6",
          "272538.2",
          "322679.4",
          "382271.7",
          "443845.1",
          "444046.1",
          "517444.5",
          "625032.2",
          "753034.7",
          "776928.1",
          "948826.1",
          "1033078.0",
          "1432056.1",
          "1622999.0",
          "2280107.1",
          "2691363.7",
          "2717170.4",
          "2747436.0",
          "3936760.6",
          "9804245.9",
          "11095393.0",
          "11787916.0",
          "15390867.6",
          "21302953.4",
          "480882971.2",
          "1",
          "1",
          "1",
          "1",
          "2",
          "2",
          "2",
          "3",
          "5",
          "5",
          "5",
          "5",
          "6",
          "7",
          "8",
          "10",
          "13",
          "14",
          "16",
          "16",
          "17",
          "18",
          "31",
          "32",
          "33",
          "40",
          "48",
          "50",
          "53",
          "84",
          "91",
          "93",
          "271",
          "366",
          "445",
          "17167",
          "Australia",
          "Austria",
          "Bahrain",
          "Belgium",
          "Brazil",
          "Canada",
          "Cyprus",
          "Czech Republic",
          "Denmark",
          "European Community",
          "Finland",
          "France",
          "Germany",
          "Greece",
          "Hong Kong",
          "Iceland",
          "Ireland",
          "Israel",
          "Italy",
          "Japan",
          "Lebanon",
          "Malta",
          "Netherlands",
          "Norway",
          "Poland",
          "Portugal",
          "Saudi Arabia",
          "Singapore",
          "South Africa",
          "Spain",
          "Sweden",
          "Switzerland",
          "United Arab Emirates",
          "United Kingdom",
          "United States",
          "Unknown"
         ],
         "name": "",
         "parents": [
          "Saudi Arabia/1",
          "Bahrain/2",
          "South Africa/1",
          "Lebanon/1",
          "Brazil/1",
          "European Community/3",
          "United Arab Emirates/2",
          "Czech Republic/2",
          "Malta/5",
          "Greece/5",
          "Iceland/6",
          "Canada/5",
          "United States/5",
          "Unknown/13",
          "Poland/18",
          "Hong Kong/10",
          "Austria/16",
          "Israel/8",
          "Denmark/17",
          "Singapore/7",
          "Cyprus/14",
          "Italy/33",
          "Finland/40",
          "Norway/31",
          "Portugal/50",
          "Belgium/93",
          "Spain/84",
          "Switzerland/48",
          "Japan/16",
          "Sweden/32",
          "Australia/53",
          "France/366",
          "United Kingdom/445",
          "Ireland/271",
          "Netherlands/91",
          "Germany/17167",
          "Brazil",
          "Lebanon",
          "Saudi Arabia",
          "South Africa",
          "Bahrain",
          "Czech Republic",
          "United Arab Emirates",
          "European Community",
          "Canada",
          "Greece",
          "Malta",
          "United States",
          "Iceland",
          "Singapore",
          "Israel",
          "Hong Kong",
          "Unknown",
          "Cyprus",
          "Austria",
          "Japan",
          "Denmark",
          "Poland",
          "Norway",
          "Sweden",
          "Italy",
          "Finland",
          "Switzerland",
          "Portugal",
          "Australia",
          "Spain",
          "Netherlands",
          "Belgium",
          "Ireland",
          "France",
          "United Kingdom",
          "Germany",
          "",
          "",
          "",
          "",
          "",
          "",
          "",
          "",
          "",
          "",
          "",
          "",
          "",
          "",
          "",
          "",
          "",
          "",
          "",
          "",
          "",
          "",
          "",
          "",
          "",
          "",
          "",
          "",
          "",
          "",
          "",
          "",
          "",
          "",
          "",
          ""
         ],
         "type": "sunburst",
         "values": [
          1,
          1,
          1,
          1,
          1,
          1,
          1,
          1,
          1,
          1,
          1,
          1,
          1,
          1,
          1,
          1,
          1,
          1,
          1,
          1,
          1,
          1,
          1,
          1,
          1,
          1,
          1,
          1,
          1,
          1,
          1,
          1,
          1,
          1,
          1,
          1,
          1,
          1,
          1,
          1,
          1,
          1,
          1,
          1,
          1,
          1,
          1,
          1,
          1,
          1,
          1,
          1,
          1,
          1,
          1,
          1,
          1,
          1,
          1,
          1,
          1,
          1,
          1,
          1,
          1,
          1,
          1,
          1,
          1,
          1,
          1,
          1,
          1,
          1,
          1,
          1,
          1,
          1,
          1,
          1,
          1,
          1,
          1,
          1,
          1,
          1,
          1,
          1,
          1,
          1,
          1,
          1,
          1,
          1,
          1,
          1,
          1,
          1,
          1,
          1,
          1,
          1,
          1,
          1,
          1,
          1,
          1,
          1
         ]
        }
       ],
       "layout": {
        "legend": {
         "tracegroupgap": 0
        },
        "margin": {
         "t": 60
        },
        "template": {
         "data": {
          "bar": [
           {
            "error_x": {
             "color": "#2a3f5f"
            },
            "error_y": {
             "color": "#2a3f5f"
            },
            "marker": {
             "line": {
              "color": "#E5ECF6",
              "width": 0.5
             },
             "pattern": {
              "fillmode": "overlay",
              "size": 10,
              "solidity": 0.2
             }
            },
            "type": "bar"
           }
          ],
          "barpolar": [
           {
            "marker": {
             "line": {
              "color": "#E5ECF6",
              "width": 0.5
             },
             "pattern": {
              "fillmode": "overlay",
              "size": 10,
              "solidity": 0.2
             }
            },
            "type": "barpolar"
           }
          ],
          "carpet": [
           {
            "aaxis": {
             "endlinecolor": "#2a3f5f",
             "gridcolor": "white",
             "linecolor": "white",
             "minorgridcolor": "white",
             "startlinecolor": "#2a3f5f"
            },
            "baxis": {
             "endlinecolor": "#2a3f5f",
             "gridcolor": "white",
             "linecolor": "white",
             "minorgridcolor": "white",
             "startlinecolor": "#2a3f5f"
            },
            "type": "carpet"
           }
          ],
          "choropleth": [
           {
            "colorbar": {
             "outlinewidth": 0,
             "ticks": ""
            },
            "type": "choropleth"
           }
          ],
          "contour": [
           {
            "colorbar": {
             "outlinewidth": 0,
             "ticks": ""
            },
            "colorscale": [
             [
              0,
              "#0d0887"
             ],
             [
              0.1111111111111111,
              "#46039f"
             ],
             [
              0.2222222222222222,
              "#7201a8"
             ],
             [
              0.3333333333333333,
              "#9c179e"
             ],
             [
              0.4444444444444444,
              "#bd3786"
             ],
             [
              0.5555555555555556,
              "#d8576b"
             ],
             [
              0.6666666666666666,
              "#ed7953"
             ],
             [
              0.7777777777777778,
              "#fb9f3a"
             ],
             [
              0.8888888888888888,
              "#fdca26"
             ],
             [
              1,
              "#f0f921"
             ]
            ],
            "type": "contour"
           }
          ],
          "contourcarpet": [
           {
            "colorbar": {
             "outlinewidth": 0,
             "ticks": ""
            },
            "type": "contourcarpet"
           }
          ],
          "heatmap": [
           {
            "colorbar": {
             "outlinewidth": 0,
             "ticks": ""
            },
            "colorscale": [
             [
              0,
              "#0d0887"
             ],
             [
              0.1111111111111111,
              "#46039f"
             ],
             [
              0.2222222222222222,
              "#7201a8"
             ],
             [
              0.3333333333333333,
              "#9c179e"
             ],
             [
              0.4444444444444444,
              "#bd3786"
             ],
             [
              0.5555555555555556,
              "#d8576b"
             ],
             [
              0.6666666666666666,
              "#ed7953"
             ],
             [
              0.7777777777777778,
              "#fb9f3a"
             ],
             [
              0.8888888888888888,
              "#fdca26"
             ],
             [
              1,
              "#f0f921"
             ]
            ],
            "type": "heatmap"
           }
          ],
          "heatmapgl": [
           {
            "colorbar": {
             "outlinewidth": 0,
             "ticks": ""
            },
            "colorscale": [
             [
              0,
              "#0d0887"
             ],
             [
              0.1111111111111111,
              "#46039f"
             ],
             [
              0.2222222222222222,
              "#7201a8"
             ],
             [
              0.3333333333333333,
              "#9c179e"
             ],
             [
              0.4444444444444444,
              "#bd3786"
             ],
             [
              0.5555555555555556,
              "#d8576b"
             ],
             [
              0.6666666666666666,
              "#ed7953"
             ],
             [
              0.7777777777777778,
              "#fb9f3a"
             ],
             [
              0.8888888888888888,
              "#fdca26"
             ],
             [
              1,
              "#f0f921"
             ]
            ],
            "type": "heatmapgl"
           }
          ],
          "histogram": [
           {
            "marker": {
             "pattern": {
              "fillmode": "overlay",
              "size": 10,
              "solidity": 0.2
             }
            },
            "type": "histogram"
           }
          ],
          "histogram2d": [
           {
            "colorbar": {
             "outlinewidth": 0,
             "ticks": ""
            },
            "colorscale": [
             [
              0,
              "#0d0887"
             ],
             [
              0.1111111111111111,
              "#46039f"
             ],
             [
              0.2222222222222222,
              "#7201a8"
             ],
             [
              0.3333333333333333,
              "#9c179e"
             ],
             [
              0.4444444444444444,
              "#bd3786"
             ],
             [
              0.5555555555555556,
              "#d8576b"
             ],
             [
              0.6666666666666666,
              "#ed7953"
             ],
             [
              0.7777777777777778,
              "#fb9f3a"
             ],
             [
              0.8888888888888888,
              "#fdca26"
             ],
             [
              1,
              "#f0f921"
             ]
            ],
            "type": "histogram2d"
           }
          ],
          "histogram2dcontour": [
           {
            "colorbar": {
             "outlinewidth": 0,
             "ticks": ""
            },
            "colorscale": [
             [
              0,
              "#0d0887"
             ],
             [
              0.1111111111111111,
              "#46039f"
             ],
             [
              0.2222222222222222,
              "#7201a8"
             ],
             [
              0.3333333333333333,
              "#9c179e"
             ],
             [
              0.4444444444444444,
              "#bd3786"
             ],
             [
              0.5555555555555556,
              "#d8576b"
             ],
             [
              0.6666666666666666,
              "#ed7953"
             ],
             [
              0.7777777777777778,
              "#fb9f3a"
             ],
             [
              0.8888888888888888,
              "#fdca26"
             ],
             [
              1,
              "#f0f921"
             ]
            ],
            "type": "histogram2dcontour"
           }
          ],
          "mesh3d": [
           {
            "colorbar": {
             "outlinewidth": 0,
             "ticks": ""
            },
            "type": "mesh3d"
           }
          ],
          "parcoords": [
           {
            "line": {
             "colorbar": {
              "outlinewidth": 0,
              "ticks": ""
             }
            },
            "type": "parcoords"
           }
          ],
          "pie": [
           {
            "automargin": true,
            "type": "pie"
           }
          ],
          "scatter": [
           {
            "marker": {
             "colorbar": {
              "outlinewidth": 0,
              "ticks": ""
             }
            },
            "type": "scatter"
           }
          ],
          "scatter3d": [
           {
            "line": {
             "colorbar": {
              "outlinewidth": 0,
              "ticks": ""
             }
            },
            "marker": {
             "colorbar": {
              "outlinewidth": 0,
              "ticks": ""
             }
            },
            "type": "scatter3d"
           }
          ],
          "scattercarpet": [
           {
            "marker": {
             "colorbar": {
              "outlinewidth": 0,
              "ticks": ""
             }
            },
            "type": "scattercarpet"
           }
          ],
          "scattergeo": [
           {
            "marker": {
             "colorbar": {
              "outlinewidth": 0,
              "ticks": ""
             }
            },
            "type": "scattergeo"
           }
          ],
          "scattergl": [
           {
            "marker": {
             "colorbar": {
              "outlinewidth": 0,
              "ticks": ""
             }
            },
            "type": "scattergl"
           }
          ],
          "scattermapbox": [
           {
            "marker": {
             "colorbar": {
              "outlinewidth": 0,
              "ticks": ""
             }
            },
            "type": "scattermapbox"
           }
          ],
          "scatterpolar": [
           {
            "marker": {
             "colorbar": {
              "outlinewidth": 0,
              "ticks": ""
             }
            },
            "type": "scatterpolar"
           }
          ],
          "scatterpolargl": [
           {
            "marker": {
             "colorbar": {
              "outlinewidth": 0,
              "ticks": ""
             }
            },
            "type": "scatterpolargl"
           }
          ],
          "scatterternary": [
           {
            "marker": {
             "colorbar": {
              "outlinewidth": 0,
              "ticks": ""
             }
            },
            "type": "scatterternary"
           }
          ],
          "surface": [
           {
            "colorbar": {
             "outlinewidth": 0,
             "ticks": ""
            },
            "colorscale": [
             [
              0,
              "#0d0887"
             ],
             [
              0.1111111111111111,
              "#46039f"
             ],
             [
              0.2222222222222222,
              "#7201a8"
             ],
             [
              0.3333333333333333,
              "#9c179e"
             ],
             [
              0.4444444444444444,
              "#bd3786"
             ],
             [
              0.5555555555555556,
              "#d8576b"
             ],
             [
              0.6666666666666666,
              "#ed7953"
             ],
             [
              0.7777777777777778,
              "#fb9f3a"
             ],
             [
              0.8888888888888888,
              "#fdca26"
             ],
             [
              1,
              "#f0f921"
             ]
            ],
            "type": "surface"
           }
          ],
          "table": [
           {
            "cells": {
             "fill": {
              "color": "#EBF0F8"
             },
             "line": {
              "color": "white"
             }
            },
            "header": {
             "fill": {
              "color": "#C8D4E3"
             },
             "line": {
              "color": "white"
             }
            },
            "type": "table"
           }
          ]
         },
         "layout": {
          "annotationdefaults": {
           "arrowcolor": "#2a3f5f",
           "arrowhead": 0,
           "arrowwidth": 1
          },
          "autotypenumbers": "strict",
          "coloraxis": {
           "colorbar": {
            "outlinewidth": 0,
            "ticks": ""
           }
          },
          "colorscale": {
           "diverging": [
            [
             0,
             "#8e0152"
            ],
            [
             0.1,
             "#c51b7d"
            ],
            [
             0.2,
             "#de77ae"
            ],
            [
             0.3,
             "#f1b6da"
            ],
            [
             0.4,
             "#fde0ef"
            ],
            [
             0.5,
             "#f7f7f7"
            ],
            [
             0.6,
             "#e6f5d0"
            ],
            [
             0.7,
             "#b8e186"
            ],
            [
             0.8,
             "#7fbc41"
            ],
            [
             0.9,
             "#4d9221"
            ],
            [
             1,
             "#276419"
            ]
           ],
           "sequential": [
            [
             0,
             "#0d0887"
            ],
            [
             0.1111111111111111,
             "#46039f"
            ],
            [
             0.2222222222222222,
             "#7201a8"
            ],
            [
             0.3333333333333333,
             "#9c179e"
            ],
            [
             0.4444444444444444,
             "#bd3786"
            ],
            [
             0.5555555555555556,
             "#d8576b"
            ],
            [
             0.6666666666666666,
             "#ed7953"
            ],
            [
             0.7777777777777778,
             "#fb9f3a"
            ],
            [
             0.8888888888888888,
             "#fdca26"
            ],
            [
             1,
             "#f0f921"
            ]
           ],
           "sequentialminus": [
            [
             0,
             "#0d0887"
            ],
            [
             0.1111111111111111,
             "#46039f"
            ],
            [
             0.2222222222222222,
             "#7201a8"
            ],
            [
             0.3333333333333333,
             "#9c179e"
            ],
            [
             0.4444444444444444,
             "#bd3786"
            ],
            [
             0.5555555555555556,
             "#d8576b"
            ],
            [
             0.6666666666666666,
             "#ed7953"
            ],
            [
             0.7777777777777778,
             "#fb9f3a"
            ],
            [
             0.8888888888888888,
             "#fdca26"
            ],
            [
             1,
             "#f0f921"
            ]
           ]
          },
          "colorway": [
           "#636efa",
           "#EF553B",
           "#00cc96",
           "#ab63fa",
           "#FFA15A",
           "#19d3f3",
           "#FF6692",
           "#B6E880",
           "#FF97FF",
           "#FECB52"
          ],
          "font": {
           "color": "#2a3f5f"
          },
          "geo": {
           "bgcolor": "white",
           "lakecolor": "white",
           "landcolor": "#E5ECF6",
           "showlakes": true,
           "showland": true,
           "subunitcolor": "white"
          },
          "hoverlabel": {
           "align": "left"
          },
          "hovermode": "closest",
          "mapbox": {
           "style": "light"
          },
          "paper_bgcolor": "white",
          "plot_bgcolor": "#E5ECF6",
          "polar": {
           "angularaxis": {
            "gridcolor": "white",
            "linecolor": "white",
            "ticks": ""
           },
           "bgcolor": "#E5ECF6",
           "radialaxis": {
            "gridcolor": "white",
            "linecolor": "white",
            "ticks": ""
           }
          },
          "scene": {
           "xaxis": {
            "backgroundcolor": "#E5ECF6",
            "gridcolor": "white",
            "gridwidth": 2,
            "linecolor": "white",
            "showbackground": true,
            "ticks": "",
            "zerolinecolor": "white"
           },
           "yaxis": {
            "backgroundcolor": "#E5ECF6",
            "gridcolor": "white",
            "gridwidth": 2,
            "linecolor": "white",
            "showbackground": true,
            "ticks": "",
            "zerolinecolor": "white"
           },
           "zaxis": {
            "backgroundcolor": "#E5ECF6",
            "gridcolor": "white",
            "gridwidth": 2,
            "linecolor": "white",
            "showbackground": true,
            "ticks": "",
            "zerolinecolor": "white"
           }
          },
          "shapedefaults": {
           "line": {
            "color": "#2a3f5f"
           }
          },
          "ternary": {
           "aaxis": {
            "gridcolor": "white",
            "linecolor": "white",
            "ticks": ""
           },
           "baxis": {
            "gridcolor": "white",
            "linecolor": "white",
            "ticks": ""
           },
           "bgcolor": "#E5ECF6",
           "caxis": {
            "gridcolor": "white",
            "linecolor": "white",
            "ticks": ""
           }
          },
          "title": {
           "x": 0.05
          },
          "xaxis": {
           "automargin": true,
           "gridcolor": "white",
           "linecolor": "white",
           "ticks": "",
           "title": {
            "standoff": 15
           },
           "zerolinecolor": "white",
           "zerolinewidth": 2
          },
          "yaxis": {
           "automargin": true,
           "gridcolor": "white",
           "linecolor": "white",
           "ticks": "",
           "title": {
            "standoff": 15
           },
           "zerolinecolor": "white",
           "zerolinewidth": 2
          }
         }
        }
       }
      }
     },
     "metadata": {},
     "output_type": "display_data"
    }
   ],
   "source": [
    "fig = px.sunburst(df_country, path=[\"Total_Orders\", \"Total_Revenue\", \"Unique_Customers\", \"Total_Units_Sold\", \"Average_Order_Value\"], values='Total_Orders',\n",
    "                  color='Country', hover_data=['Total_Orders'],\n",
    "                  color_continuous_scale='RdBu',\n",
    "                  color_continuous_midpoint=np.average(df_country['Total_Orders'], weights=df_country['Unique_Customers']))\n",
    "fig.show()\n",
    "\n",
    "fig = px.sunburst(df_country, path=['Country', 'Total_Orders', 'Total_Revenue'])\n",
    "fig.show()"
   ]
  },
  {
   "cell_type": "code",
   "execution_count": 45,
   "metadata": {},
   "outputs": [
    {
     "data": {
      "text/plain": [
       "\"Unique number of Country in merged: ['Germany' 'Ireland' 'Norway' 'Australia' 'France' 'United Kingdom'\\n 'Netherlands' 'Italy' 'Portugal' 'Poland' 'Switzerland' 'Belgium' 'Spain'\\n 'Japan' 'Lithuania' 'Iceland' 'Denmark' 'Cyprus' 'Sweden' 'Finland'\\n 'Austria' 'Bahrain' 'Israel' 'Hong Kong' 'Greece' 'Singapore' 'Lebanon'\\n 'United Arab Emirates' 'Saudi Arabia' 'Czech Republic' 'Canada' 'Unknown'\\n 'Brazil' 'United States' 'European Community' 'Malta' 'South Africa']\""
      ]
     },
     "metadata": {},
     "output_type": "display_data"
    },
    {
     "data": {
      "text/plain": [
       "\"Unique number of Country in coutnry: ['Germany' 'Netherlands' 'Ireland' 'United Kingdom' 'France' 'Australia'\\n 'Sweden' 'Japan' 'Switzerland' 'Spain' 'Belgium' 'Portugal' 'Norway'\\n 'Finland' 'Italy' 'Cyprus' 'Singapore' 'Denmark' 'Israel' 'Austria'\\n 'Hong Kong' 'Poland' 'Unknown' 'United States' 'Canada' 'Iceland'\\n 'Greece' 'Malta' 'Czech Republic' 'United Arab Emirates'\\n 'European Community' 'Brazil' 'Lebanon' 'South Africa' 'Bahrain'\\n 'Saudi Arabia']\""
      ]
     },
     "metadata": {},
     "output_type": "display_data"
    },
    {
     "data": {
      "text/plain": [
       "False"
      ]
     },
     "metadata": {},
     "output_type": "display_data"
    },
    {
     "name": "stdout",
     "output_type": "stream",
     "text": [
      "<class 'pandas.core.frame.DataFrame'>\n",
      "RangeIndex: 37 entries, 0 to 36\n",
      "Data columns (total 1 columns):\n",
      " #   Column  Non-Null Count  Dtype \n",
      "---  ------  --------------  ----- \n",
      " 0   0       37 non-null     object\n",
      "dtypes: object(1)\n",
      "memory usage: 424.0+ bytes\n"
     ]
    },
    {
     "data": {
      "text/plain": [
       "'Unique number of Country:'"
      ]
     },
     "metadata": {},
     "output_type": "display_data"
    },
    {
     "name": "stdout",
     "output_type": "stream",
     "text": [
      "<class 'pandas.core.frame.DataFrame'>\n",
      "RangeIndex: 36 entries, 0 to 35\n",
      "Data columns (total 1 columns):\n",
      " #   Column  Non-Null Count  Dtype \n",
      "---  ------  --------------  ----- \n",
      " 0   0       36 non-null     object\n",
      "dtypes: object(1)\n",
      "memory usage: 416.0+ bytes\n"
     ]
    }
   ],
   "source": [
    "display(\"Unique number of Country in merged: \" + str(merged_tables.Country.unique()))\n",
    "\n",
    "display(\"Unique number of Country in coutnry: \" + str(df_country.Country.unique()))\n",
    "display(\"Unique number of Country: \" + str(merged_tables.Country.nunique()) == str(df_country.Country.unique()))\n",
    "\n",
    "new_df = pd.merge(df_country, merged_tables, on='Country', how='outer')\n",
    "\n",
    "merged_tables.loc[~merged_tables['Country'].isin(df_country['Country']), 'Country']\n",
    "\n",
    "\n",
    "x = str(merged_tables.Country.nunique()) == str(df_country.Country.unique())\n",
    "#print(df_country['Country'].isin(merged_tables['Country']))\n",
    "\n",
    "original = pd.DataFrame(merged_tables.Country.unique())\n",
    "original.info()\n",
    "\n",
    "display(\"Unique number of Country:\")\n",
    "new = pd.DataFrame(df_country.Country.unique())\n",
    "new.info()\n",
    "\n",
    "#original['0'] = np.where(original['0'] == new['0'], 'True', 'False')\n",
    "\n",
    "\n"
   ]
  },
  {
   "cell_type": "code",
   "execution_count": 46,
   "metadata": {},
   "outputs": [
    {
     "data": {
      "text/plain": [
       "7967     Lithuania\n",
       "7968     Lithuania\n",
       "7969     Lithuania\n",
       "7970     Lithuania\n",
       "7971     Lithuania\n",
       "7972     Lithuania\n",
       "8602     Lithuania\n",
       "8603     Lithuania\n",
       "8604     Lithuania\n",
       "8605     Lithuania\n",
       "8606     Lithuania\n",
       "8607     Lithuania\n",
       "8608     Lithuania\n",
       "8609     Lithuania\n",
       "8832     Lithuania\n",
       "9215     Lithuania\n",
       "9216     Lithuania\n",
       "9217     Lithuania\n",
       "9218     Lithuania\n",
       "9219     Lithuania\n",
       "9220     Lithuania\n",
       "9221     Lithuania\n",
       "9222     Lithuania\n",
       "9630     Lithuania\n",
       "9631     Lithuania\n",
       "9632     Lithuania\n",
       "9633     Lithuania\n",
       "9634     Lithuania\n",
       "9635     Lithuania\n",
       "10237    Lithuania\n",
       "10238    Lithuania\n",
       "10239    Lithuania\n",
       "10240    Lithuania\n",
       "10241    Lithuania\n",
       "10242    Lithuania\n",
       "10243    Lithuania\n",
       "19602    Lithuania\n",
       "Name: Country, dtype: object"
      ]
     },
     "execution_count": 46,
     "metadata": {},
     "output_type": "execute_result"
    }
   ],
   "source": [
    "merged_tables.loc[~merged_tables['Country'].isin(df_country['Country']), 'Country']\n"
   ]
  },
  {
   "cell_type": "code",
   "execution_count": 47,
   "metadata": {},
   "outputs": [],
   "source": [
    "\n",
    "\n",
    "#del df_country"
   ]
  },
  {
   "cell_type": "code",
   "execution_count": 48,
   "metadata": {},
   "outputs": [
    {
     "data": {
      "text/html": [
       "<div>\n",
       "<style scoped>\n",
       "    .dataframe tbody tr th:only-of-type {\n",
       "        vertical-align: middle;\n",
       "    }\n",
       "\n",
       "    .dataframe tbody tr th {\n",
       "        vertical-align: top;\n",
       "    }\n",
       "\n",
       "    .dataframe thead th {\n",
       "        text-align: right;\n",
       "    }\n",
       "</style>\n",
       "<table border=\"1\" class=\"dataframe\">\n",
       "  <thead>\n",
       "    <tr style=\"text-align: right;\">\n",
       "      <th></th>\n",
       "      <th>InvoiceNo</th>\n",
       "      <th>Total_Sales</th>\n",
       "      <th>Customer_Id</th>\n",
       "      <th>Quantity</th>\n",
       "    </tr>\n",
       "  </thead>\n",
       "  <tbody>\n",
       "    <tr>\n",
       "      <th>unique</th>\n",
       "      <td>[78537086, 78537081, 78537090, 78537827]</td>\n",
       "      <td>NaN</td>\n",
       "      <td>NaN</td>\n",
       "      <td>NaN</td>\n",
       "    </tr>\n",
       "    <tr>\n",
       "      <th>mean</th>\n",
       "      <td>NaN</td>\n",
       "      <td>1660.8</td>\n",
       "      <td>NaN</td>\n",
       "      <td>18.3</td>\n",
       "    </tr>\n",
       "    <tr>\n",
       "      <th>sum</th>\n",
       "      <td>NaN</td>\n",
       "      <td>61451.1</td>\n",
       "      <td>NaN</td>\n",
       "      <td>676.0</td>\n",
       "    </tr>\n",
       "    <tr>\n",
       "      <th>nunique</th>\n",
       "      <td>NaN</td>\n",
       "      <td>NaN</td>\n",
       "      <td>1.0</td>\n",
       "      <td>NaN</td>\n",
       "    </tr>\n",
       "  </tbody>\n",
       "</table>\n",
       "</div>"
      ],
      "text/plain": [
       "                                        InvoiceNo  Total_Sales  Customer_Id  \\\n",
       "unique   [78537086, 78537081, 78537090, 78537827]          NaN          NaN   \n",
       "mean                                          NaN       1660.8          NaN   \n",
       "sum                                           NaN      61451.1          NaN   \n",
       "nunique                                       NaN          NaN          1.0   \n",
       "\n",
       "         Quantity  \n",
       "unique        NaN  \n",
       "mean         18.3  \n",
       "sum         676.0  \n",
       "nunique       NaN  "
      ]
     },
     "metadata": {},
     "output_type": "display_data"
    },
    {
     "data": {
      "text/html": [
       "<div>\n",
       "<style scoped>\n",
       "    .dataframe tbody tr th:only-of-type {\n",
       "        vertical-align: middle;\n",
       "    }\n",
       "\n",
       "    .dataframe tbody tr th {\n",
       "        vertical-align: top;\n",
       "    }\n",
       "\n",
       "    .dataframe thead th {\n",
       "        text-align: right;\n",
       "    }\n",
       "</style>\n",
       "<table border=\"1\" class=\"dataframe\">\n",
       "  <thead>\n",
       "    <tr style=\"text-align: right;\">\n",
       "      <th></th>\n",
       "      <th>InvoiceNo</th>\n",
       "      <th>Total_Sales</th>\n",
       "      <th>Customer_Id</th>\n",
       "      <th>Quantity</th>\n",
       "      <th>num_orders</th>\n",
       "      <th>total_sale_mean</th>\n",
       "      <th>total_sale</th>\n",
       "      <th>num_unique_customers</th>\n",
       "      <th>Quantity_mean</th>\n",
       "      <th>Quantity_sum</th>\n",
       "    </tr>\n",
       "  </thead>\n",
       "  <tbody>\n",
       "    <tr>\n",
       "      <th>unique</th>\n",
       "      <td>[78537086, 78537081, 78537090, 78537827]</td>\n",
       "      <td>NaN</td>\n",
       "      <td>NaN</td>\n",
       "      <td>NaN</td>\n",
       "      <td>78537086</td>\n",
       "      <td>1660.8</td>\n",
       "      <td>61451.1</td>\n",
       "      <td>1.0</td>\n",
       "      <td>18.3</td>\n",
       "      <td>676.0</td>\n",
       "    </tr>\n",
       "    <tr>\n",
       "      <th>mean</th>\n",
       "      <td>NaN</td>\n",
       "      <td>1660.8</td>\n",
       "      <td>NaN</td>\n",
       "      <td>18.3</td>\n",
       "      <td>78537081</td>\n",
       "      <td>1660.8</td>\n",
       "      <td>61451.1</td>\n",
       "      <td>1.0</td>\n",
       "      <td>18.3</td>\n",
       "      <td>676.0</td>\n",
       "    </tr>\n",
       "    <tr>\n",
       "      <th>sum</th>\n",
       "      <td>NaN</td>\n",
       "      <td>61451.1</td>\n",
       "      <td>NaN</td>\n",
       "      <td>676.0</td>\n",
       "      <td>78537090</td>\n",
       "      <td>1660.8</td>\n",
       "      <td>61451.1</td>\n",
       "      <td>1.0</td>\n",
       "      <td>18.3</td>\n",
       "      <td>676.0</td>\n",
       "    </tr>\n",
       "    <tr>\n",
       "      <th>nunique</th>\n",
       "      <td>NaN</td>\n",
       "      <td>NaN</td>\n",
       "      <td>1.0</td>\n",
       "      <td>NaN</td>\n",
       "      <td>78537827</td>\n",
       "      <td>1660.8</td>\n",
       "      <td>61451.1</td>\n",
       "      <td>1.0</td>\n",
       "      <td>18.3</td>\n",
       "      <td>676.0</td>\n",
       "    </tr>\n",
       "  </tbody>\n",
       "</table>\n",
       "</div>"
      ],
      "text/plain": [
       "                                        InvoiceNo  Total_Sales  Customer_Id  \\\n",
       "unique   [78537086, 78537081, 78537090, 78537827]          NaN          NaN   \n",
       "mean                                          NaN       1660.8          NaN   \n",
       "sum                                           NaN      61451.1          NaN   \n",
       "nunique                                       NaN          NaN          1.0   \n",
       "\n",
       "         Quantity num_orders  total_sale_mean  total_sale  \\\n",
       "unique        NaN   78537086           1660.8     61451.1   \n",
       "mean         18.3   78537081           1660.8     61451.1   \n",
       "sum         676.0   78537090           1660.8     61451.1   \n",
       "nunique       NaN   78537827           1660.8     61451.1   \n",
       "\n",
       "         num_unique_customers  Quantity_mean  Quantity_sum  \n",
       "unique                    1.0           18.3         676.0  \n",
       "mean                      1.0           18.3         676.0  \n",
       "sum                       1.0           18.3         676.0  \n",
       "nunique                   1.0           18.3         676.0  "
      ]
     },
     "metadata": {},
     "output_type": "display_data"
    }
   ],
   "source": [
    "check =merged_tables[merged_tables['Country'] == \"Lithuania\"].agg({'InvoiceNo':'unique', 'Total_Sales':['mean', 'sum'], \n",
    "                                                'Customer_Id':'nunique', 'Quantity': ['mean', 'sum']}).round(1)\n",
    "display(check)\n",
    "\n",
    "check['num_orders']=check['InvoiceNo']['unique']\n",
    "check['total_sale_mean']=check['Total_Sales']['mean']\n",
    "check['total_sale']=check['Total_Sales']['sum']\n",
    "check['num_unique_customers']=check['Customer_Id']['nunique']\n",
    "check['Quantity_mean']=check['Quantity']['mean']\n",
    "check['Quantity_sum']=check['Quantity']['sum']\n",
    "display(check)\n",
    "\n",
    "# check = check[['num_orders', 'total_sale_mean', 'total_sale', 'num_unique_customers','Quantity_mean','Quantity_sum']].round(1)\n",
    "# check.sort_values(by = ['num_orders', 'total_revenue', 'num_unique_customers','total_sale_mean'],ascending = False, inplace = True)\n",
    "# display(check)\n",
    "# df_country['num_orders']=df_country['InvoiceNo']['nunique']\n",
    "# df_country['total_sale_mean']=df_country['Total_Sales']['mean']\n",
    "# df_country['total_revenue']=df_country['Total_Sales']['sum']\n",
    "# df_country['median']=df_country['Total_Sales']['median']\n",
    "# df_country['num_unique_customers']= df_country['Customer_Id']['nunique']\n",
    "# df_country['units_sold_mean'] = df_country['Quantity']['mean']\n",
    "# df_country['total_units_sold'] = df_country['Quantity']['sum']\n",
    "# \n",
    "# df_country = df_country[['num_orders', 'total_revenue', 'num_unique_customers', 'total_units_sold','total_sale_mean','median']].round(1)\n",
    "# df_country.sort_values(by = ['num_orders', 'total_revenue', 'num_unique_customers','total_sale_mean'],ascending = False, inplace = True)\n",
    "# df_country['revenue_per_customer'] = (df_country['total_revenue'] / df_country['num_unique_customers']).round(1)\n",
    "# df_country['revenue_per_order'] = (df_country['total_revenue'] / df_country['num_orders']).round(1)\n",
    "# df_country = df_country.reset_index()\n",
    "\n"
   ]
  },
  {
   "cell_type": "code",
   "execution_count": 49,
   "metadata": {},
   "outputs": [
    {
     "data": {
      "text/html": [
       "<div>\n",
       "<style scoped>\n",
       "    .dataframe tbody tr th:only-of-type {\n",
       "        vertical-align: middle;\n",
       "    }\n",
       "\n",
       "    .dataframe tbody tr th {\n",
       "        vertical-align: top;\n",
       "    }\n",
       "\n",
       "    .dataframe thead tr th {\n",
       "        text-align: left;\n",
       "    }\n",
       "</style>\n",
       "<table border=\"1\" class=\"dataframe\">\n",
       "  <thead>\n",
       "    <tr>\n",
       "      <th></th>\n",
       "      <th>Day</th>\n",
       "      <th>Total_Orders</th>\n",
       "      <th>Average_Sale</th>\n",
       "      <th>Total_Revenue</th>\n",
       "      <th>Unique_Customers</th>\n",
       "      <th>Average_Units_Sold</th>\n",
       "      <th>Total_Units_Sold</th>\n",
       "    </tr>\n",
       "    <tr>\n",
       "      <th></th>\n",
       "      <th></th>\n",
       "      <th></th>\n",
       "      <th></th>\n",
       "      <th></th>\n",
       "      <th></th>\n",
       "      <th></th>\n",
       "      <th></th>\n",
       "    </tr>\n",
       "  </thead>\n",
       "  <tbody>\n",
       "    <tr>\n",
       "      <th>0</th>\n",
       "      <td>00 Monday</td>\n",
       "      <td>3047</td>\n",
       "      <td>1166.2</td>\n",
       "      <td>88330069.7</td>\n",
       "      <td>1497</td>\n",
       "      <td>12.0</td>\n",
       "      <td>906148</td>\n",
       "    </tr>\n",
       "  </tbody>\n",
       "</table>\n",
       "</div>"
      ],
      "text/plain": [
       "         Day Total_Orders Average_Sale Total_Revenue Unique_Customers  \\\n",
       "                                                                        \n",
       "0  00 Monday         3047       1166.2    88330069.7             1497   \n",
       "\n",
       "  Average_Units_Sold Total_Units_Sold  \n",
       "                                       \n",
       "0               12.0           906148  "
      ]
     },
     "execution_count": 49,
     "metadata": {},
     "output_type": "execute_result"
    }
   ],
   "source": [
    "df_dow.head(1)"
   ]
  },
  {
   "cell_type": "code",
   "execution_count": 50,
   "metadata": {},
   "outputs": [
    {
     "data": {
      "image/png": "[encoded data removed]",
      "text/plain": [
       "<Figure size 600x400 with 1 Axes>"
      ]
     },
     "metadata": {},
     "output_type": "display_data"
    }
   ],
   "source": [
    "# Total orders per day\n",
    "ax = sns.barplot(data=df_dow, x=\"Total_Orders\", y=\"Day\", orient=\"h\")\n",
    "ax.bar_label(ax.containers[0])\n",
    "ax.grid(False)\n",
    "sns.despine(bottom = True, left = True)\n",
    "plt.show()\n",
    "\n"
   ]
  },
  {
   "cell_type": "code",
   "execution_count": 51,
   "metadata": {},
   "outputs": [
    {
     "data": {
      "image/png": "[encoded data removed]",
      "text/plain": [
       "<Figure size 600x400 with 1 Axes>"
      ]
     },
     "metadata": {},
     "output_type": "display_data"
    }
   ],
   "source": [
    "# Revenue per day\n",
    "ax = sns.barplot(data=df_dow, x=df_dow[\"Total_Revenue\"].round(1), y=\"Day\", orient=\"h\")\n",
    "ax.bar_label(ax.containers[0], fmt = '%d')\n",
    "ax.grid(False)\n",
    "sns.despine(bottom = True, left = True)\n",
    "plt.show()\n",
    "\n"
   ]
  },
  {
   "cell_type": "code",
   "execution_count": 52,
   "metadata": {},
   "outputs": [
    {
     "data": {
      "image/png": "[encoded data removed]",
      "text/plain": [
       "<Figure size 600x400 with 1 Axes>"
      ]
     },
     "metadata": {},
     "output_type": "display_data"
    }
   ],
   "source": [
    "# Total orders per Month\n",
    "ax = sns.barplot(data=df_Month, x=\"Total_Orders\", y=\"Month\", orient=\"h\")\n",
    "ax.bar_label(ax.containers[0])\n",
    "ax.grid(False)\n",
    "sns.despine(bottom = True, left = True)\n",
    "plt.show()"
   ]
  },
  {
   "cell_type": "code",
   "execution_count": 53,
   "metadata": {},
   "outputs": [
    {
     "data": {
      "image/png": "[encoded data removed]",
      "text/plain": [
       "<Figure size 600x400 with 1 Axes>"
      ]
     },
     "metadata": {},
     "output_type": "display_data"
    }
   ],
   "source": [
    "# Revenue per Month\n",
    "ax = sns.barplot(data=df_Month, x=df_Month[\"Total_Revenue\"].round(1), y=\"Month\", orient=\"h\")\n",
    "ax.bar_label(ax.containers[0], fmt = '%d')\n",
    "ax.grid(False)\n",
    "sns.despine(bottom = True, left = True)\n",
    "plt.show()\n",
    "\n"
   ]
  },
  {
   "cell_type": "code",
   "execution_count": 54,
   "metadata": {},
   "outputs": [
    {
     "data": {
      "image/png": "[encoded data removed]",
      "text/plain": [
       "<Figure size 600x400 with 1 Axes>"
      ]
     },
     "metadata": {},
     "output_type": "display_data"
    }
   ],
   "source": [
    "fig, ax = plt.subplots()\n",
    "ax.plot(df_dow['Day'], df_dow['Total_Orders'], marker = 'o')\n",
    "ax.set_title('Number of orders per day of week')\n",
    "ax.set_xticks(list(range(7)))\n",
    "ax.set_xticklabels(labels = ['Mon', 'Tue', 'Wed', 'Thur', 'Fri', 'Sat', 'Sun'])\n",
    "plt.show()"
   ]
  },
  {
   "cell_type": "code",
   "execution_count": 55,
   "metadata": {},
   "outputs": [
    {
     "data": {
      "image/png": "[encoded data removed]",
      "text/plain": [
       "<Figure size 600x400 with 1 Axes>"
      ]
     },
     "metadata": {},
     "output_type": "display_data"
    }
   ],
   "source": [
    "\n",
    "\n",
    "# Total orders per day\n",
    "sns.set(style=\"whitegrid\", color_codes=True)\n",
    "data = df_Month[\"Average_Sale\"]\n",
    "pal = sns.color_palette(\"Greens_d\", len(data))\n",
    "sns.barplot(data=df_Month, x=\"Average_Sale\", y=\"Month\", orient=\"h\", palette=np.array(pal[::-1]))\n",
    "\n",
    "# ax.bar_label(ax.containers[0])\n",
    "# ax.grid(False)\n",
    "sns.despine(bottom = True, left = True)\n",
    "\n",
    "plt.show()"
   ]
  },
  {
   "cell_type": "code",
   "execution_count": 56,
   "metadata": {},
   "outputs": [
    {
     "ename": "IndexError",
     "evalue": "list index out of range",
     "output_type": "error",
     "traceback": [
      "\u001b[0;31m---------------------------------------------------------------------------\u001b[0m",
      "\u001b[0;31mIndexError\u001b[0m                                Traceback (most recent call last)",
      "\u001b[1;32m/Users/elysium/Documents/00_Code_Academy/Code_Academy Tasks/E-Commerce/eComm_01.ipynb Cell 57\u001b[0m in \u001b[0;36m<cell line: 3>\u001b[0;34m()\u001b[0m\n\u001b[1;32m      <a href='vscode-notebook-cell:/Users/elysium/Documents/00_Code_Academy/Code_Academy%20Tasks/E-Commerce/eComm_01.ipynb#Y111sZmlsZQ%3D%3D?line=0'>1</a>\u001b[0m g\u001b[39m=\u001b[39m sns\u001b[39m.\u001b[39mlineplot(x \u001b[39m=\u001b[39m \u001b[39m\"\u001b[39m\u001b[39mMonth\u001b[39m\u001b[39m\"\u001b[39m, y \u001b[39m=\u001b[39m \u001b[39m\"\u001b[39m\u001b[39mAverage_Sale\u001b[39m\u001b[39m\"\u001b[39m, data\u001b[39m=\u001b[39mdf_Month)\n\u001b[1;32m      <a href='vscode-notebook-cell:/Users/elysium/Documents/00_Code_Academy/Code_Academy%20Tasks/E-Commerce/eComm_01.ipynb#Y111sZmlsZQ%3D%3D?line=1'>2</a>\u001b[0m g\u001b[39m.\u001b[39mset_xticklabels([\u001b[39m'\u001b[39m\u001b[39mJan\u001b[39m\u001b[39m'\u001b[39m, \u001b[39m'\u001b[39m\u001b[39mFeb\u001b[39m\u001b[39m'\u001b[39m, \u001b[39m'\u001b[39m\u001b[39mMar\u001b[39m\u001b[39m'\u001b[39m, \u001b[39m'\u001b[39m\u001b[39mApr\u001b[39m\u001b[39m'\u001b[39m, \u001b[39m'\u001b[39m\u001b[39mMay\u001b[39m\u001b[39m'\u001b[39m, \u001b[39m'\u001b[39m\u001b[39mJun\u001b[39m\u001b[39m'\u001b[39m, \u001b[39m'\u001b[39m\u001b[39mJul\u001b[39m\u001b[39m'\u001b[39m, \u001b[39m'\u001b[39m\u001b[39mAug\u001b[39m\u001b[39m'\u001b[39m, \u001b[39m'\u001b[39m\u001b[39mSep\u001b[39m\u001b[39m'\u001b[39m, \u001b[39m'\u001b[39m\u001b[39mOct\u001b[39m\u001b[39m'\u001b[39m, \u001b[39m'\u001b[39m\u001b[39mNov\u001b[39m\u001b[39m'\u001b[39m, \u001b[39m'\u001b[39m\u001b[39mDec\u001b[39m\u001b[39m'\u001b[39m])\n\u001b[0;32m----> <a href='vscode-notebook-cell:/Users/elysium/Documents/00_Code_Academy/Code_Academy%20Tasks/E-Commerce/eComm_01.ipynb#Y111sZmlsZQ%3D%3D?line=2'>3</a>\u001b[0m ax\u001b[39m.\u001b[39mbar_label(ax\u001b[39m.\u001b[39;49mcontainers[\u001b[39m0\u001b[39;49m])\n\u001b[1;32m      <a href='vscode-notebook-cell:/Users/elysium/Documents/00_Code_Academy/Code_Academy%20Tasks/E-Commerce/eComm_01.ipynb#Y111sZmlsZQ%3D%3D?line=3'>4</a>\u001b[0m ax\u001b[39m.\u001b[39mgrid(\u001b[39mFalse\u001b[39;00m)\n\u001b[1;32m      <a href='vscode-notebook-cell:/Users/elysium/Documents/00_Code_Academy/Code_Academy%20Tasks/E-Commerce/eComm_01.ipynb#Y111sZmlsZQ%3D%3D?line=4'>5</a>\u001b[0m sns\u001b[39m.\u001b[39mdespine(bottom \u001b[39m=\u001b[39m \u001b[39mTrue\u001b[39;00m, left \u001b[39m=\u001b[39m \u001b[39mTrue\u001b[39;00m)\n",
      "\u001b[0;31mIndexError\u001b[0m: list index out of range"
     ]
    },
    {
     "data": {
      "image/png": "[encoded data removed]",
      "text/plain": [
       "<Figure size 600x400 with 1 Axes>"
      ]
     },
     "metadata": {},
     "output_type": "display_data"
    }
   ],
   "source": [
    "g= sns.lineplot(x = \"Month\", y = \"Average_Sale\", data=df_Month)\n",
    "g.set_xticklabels(['Jan', 'Feb', 'Mar', 'Apr', 'May', 'Jun', 'Jul', 'Aug', 'Sep', 'Oct', 'Nov', 'Dec'])\n",
    "ax.bar_label(ax.containers[0])\n",
    "ax.grid(False)\n",
    "sns.despine(bottom = True, left = True)\n",
    "plt.show()\n"
   ]
  },
  {
   "cell_type": "code",
   "execution_count": 57,
   "metadata": {},
   "outputs": [
    {
     "name": "stdout",
     "output_type": "stream",
     "text": [
      "<class 'pandas.core.frame.DataFrame'>\n",
      "RangeIndex: 554417 entries, 0 to 554416\n",
      "Data columns (total 18 columns):\n",
      " #   Column        Non-Null Count   Dtype         \n",
      "---  ------        --------------   -----         \n",
      " 0   InvoiceNo     554417 non-null  object        \n",
      " 1   Product_Id    554417 non-null  object        \n",
      " 2   Quantity      554417 non-null  int64         \n",
      " 3   Price         554417 non-null  float64       \n",
      " 4   Total_Sales   554417 non-null  float64       \n",
      " 5   Customer_Id   554417 non-null  object        \n",
      " 6   Product_Name  554417 non-null  object        \n",
      " 7   Product_Type  554417 non-null  object        \n",
      " 8   Country       554417 non-null  object        \n",
      " 9   Rating        554417 non-null  float64       \n",
      " 10  Review_Count  554417 non-null  int64         \n",
      " 11  StockCode     554417 non-null  object        \n",
      " 12  Hour          554417 non-null  int64         \n",
      " 13  Day           554417 non-null  object        \n",
      " 14  Month         554417 non-null  object        \n",
      " 15  Year          554417 non-null  int64         \n",
      " 16  Quarter       554417 non-null  int64         \n",
      " 17  Invoice_Date  554417 non-null  datetime64[ns]\n",
      "dtypes: datetime64[ns](1), float64(3), int64(5), object(9)\n",
      "memory usage: 76.1+ MB\n"
     ]
    }
   ],
   "source": [
    "merged_tables.info()"
   ]
  },
  {
   "cell_type": "code",
   "execution_count": 58,
   "metadata": {},
   "outputs": [
    {
     "name": "stdout",
     "output_type": "stream",
     "text": [
      "<class 'pandas.core.frame.DataFrame'>\n",
      "Int64Index: 4340 entries, 4339 to 825\n",
      "Data columns (total 5 columns):\n",
      " #   Column         Non-Null Count  Dtype  \n",
      "---  ------         --------------  -----  \n",
      " 0   Customer_Id    4340 non-null   object \n",
      " 1   InvoiceNo      4340 non-null   int64  \n",
      " 2   Total_Sales    4340 non-null   float64\n",
      " 3   Product_Id     4340 non-null   int64  \n",
      " 4   Revenue_Order  4340 non-null   float64\n",
      "dtypes: float64(2), int64(2), object(1)\n",
      "memory usage: 203.4+ KB\n"
     ]
    },
    {
     "data": {
      "text/plain": [
       "None"
      ]
     },
     "metadata": {},
     "output_type": "display_data"
    }
   ],
   "source": [
    "customer_info = merged_tables.groupby('Customer_Id').agg({'InvoiceNo':'nunique', 'Total_Sales':'sum', 'Product_Id':'nunique'}).reset_index().sort_values(by = 'Total_Sales', ascending = False)\n",
    "customer_info['Revenue_Order'] = customer_info['Total_Sales'] / customer_info['InvoiceNo']\n",
    "customer_info[customer_info['InvoiceNo']==1]\n",
    "display(customer_info.info())\n",
    "customer_country = merged_tables[['Customer_Id','Country']].drop_duplicates()\n",
    "customer_info = pd.merge(customer_info, customer_country, how = 'left', on = 'Customer_Id')\n",
    "customer_info = customer_info[customer_info['Customer_Id']!= 'Null']"
   ]
  },
  {
   "cell_type": "code",
   "execution_count": 59,
   "metadata": {},
   "outputs": [
    {
     "name": "stdout",
     "output_type": "stream",
     "text": [
      "one-time buyers: 40.06299496000001 M euros \n",
      " repeat customers: 515.33243304 M euros \n",
      " anon buyers: 0.0 M euros\n"
     ]
    }
   ],
   "source": [
    "one_time = customer_info[customer_info['InvoiceNo']==1]['Total_Sales'].sum()\n",
    "repeat = customer_info[(customer_info['InvoiceNo']>1) & (customer_info['Customer_Id']!= 'Null')]['Total_Sales'].sum()\n",
    "anon = customer_info[customer_info['Customer_Id'] == 'Null']['Total_Sales'].sum()\n",
    "print(f'one-time buyers: {one_time/1000000} M euros \\n repeat customers: {repeat/1000000} M euros \\n anon buyers: {anon/1000000} M euros')"
   ]
  },
  {
   "cell_type": "code",
   "execution_count": null,
   "metadata": {},
   "outputs": [],
   "source": [
    "\n",
    "\n"
   ]
  },
  {
   "cell_type": "code",
   "execution_count": 60,
   "metadata": {},
   "outputs": [
    {
     "data": {
      "text/html": [
       "<div>\n",
       "<style scoped>\n",
       "    .dataframe tbody tr th:only-of-type {\n",
       "        vertical-align: middle;\n",
       "    }\n",
       "\n",
       "    .dataframe tbody tr th {\n",
       "        vertical-align: top;\n",
       "    }\n",
       "\n",
       "    .dataframe thead th {\n",
       "        text-align: right;\n",
       "    }\n",
       "</style>\n",
       "<table border=\"1\" class=\"dataframe\">\n",
       "  <thead>\n",
       "    <tr style=\"text-align: right;\">\n",
       "      <th></th>\n",
       "      <th>customer_type</th>\n",
       "      <th>total_revenue (M EUR)</th>\n",
       "    </tr>\n",
       "  </thead>\n",
       "  <tbody>\n",
       "    <tr>\n",
       "      <th>0</th>\n",
       "      <td>one-time buyers</td>\n",
       "      <td>40.06</td>\n",
       "    </tr>\n",
       "    <tr>\n",
       "      <th>1</th>\n",
       "      <td>repeat customers</td>\n",
       "      <td>515.33</td>\n",
       "    </tr>\n",
       "    <tr>\n",
       "      <th>2</th>\n",
       "      <td>anon. buyers</td>\n",
       "      <td>0.00</td>\n",
       "    </tr>\n",
       "  </tbody>\n",
       "</table>\n",
       "</div>"
      ],
      "text/plain": [
       "      customer_type  total_revenue (M EUR)\n",
       "0   one-time buyers                  40.06\n",
       "1  repeat customers                 515.33\n",
       "2      anon. buyers                   0.00"
      ]
     },
     "execution_count": 60,
     "metadata": {},
     "output_type": "execute_result"
    }
   ],
   "source": [
    "rev_per_customer_type = pd.DataFrame({'total_revenue (M EUR)': [round(one_time/1000000,2),round(repeat/1000000,2), round(anon/1000000,2)]}, index = ['one-time buyers', 'repeat customers', 'anon. buyers']).reset_index().rename(columns = {'index':'customer_type'})\n",
    "rev_per_customer_type"
   ]
  },
  {
   "cell_type": "code",
   "execution_count": null,
   "metadata": {},
   "outputs": [],
   "source": []
  }
 ],
 "metadata": {
  "kernelspec": {
   "display_name": "Python 3.9.12 ('base')",
   "language": "python",
   "name": "python3"
  },
  "language_info": {
   "codemirror_mode": {
    "name": "ipython",
    "version": 3
   },
   "file_extension": ".py",
   "mimetype": "text/x-python",
   "name": "python",
   "nbconvert_exporter": "python",
   "pygments_lexer": "ipython3",
   "version": "3.9.12"
  },
  "orig_nbformat": 4,
  "vscode": {
   "interpreter": {
    "hash": "7a8a4dc8d613e9e8c27c5e2456f5c23295b15759bea07848d14bd96410205d8c"
   }
  }
 },
 "nbformat": 4,
 "nbformat_minor": 2
}
