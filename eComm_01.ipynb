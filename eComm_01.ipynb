{
 "cells": [
  {
   "cell_type": "code",
   "execution_count": 6,
   "metadata": {},
   "outputs": [],
   "source": [
    "\n",
    "import pandas as pd\n",
    "\n",
    "from sqlalchemy import create_engine\n",
    "from sqlalchemy.ext.declarative import declarative_base\n",
    "from sqlalchemy import Table, Column, Integer, String\n",
    "import sqlite3\n",
    "import os\n",
    "from sqlalchemy import MetaData\n",
    "from sqlalchemy.orm import mapper"
   ]
  },
  {
   "cell_type": "code",
   "execution_count": 7,
   "metadata": {},
   "outputs": [],
   "source": [
    "#path of the excel file to get all the sheets from the excel file into xls sheet name list\n",
    "xls = pd.ExcelFile(\"sales original.xlsx\")"
   ]
  },
  {
   "cell_type": "markdown",
   "metadata": {},
   "source": [
    "From the following blog and video\n",
    "\n",
    "https://macxima.medium.com/python-how-to-read-multiple-excel-sheets-or-tabs-4d412185c18\n",
    "\n",
    "https://www.youtube.com/watch?v=fdPV-3K-8pc\n",
    "\n",
    "\n"
   ]
  },
  {
   "cell_type": "code",
   "execution_count": 3,
   "metadata": {},
   "outputs": [
    {
     "name": "stdout",
     "output_type": "stream",
     "text": [
      "products\n",
      "         ASIN                                              title product_type\n",
      "0  B07GWKDLGT  Nikon D3500 W/ AF-P DX NIKKOR 18-55mm f/3.5-5....  dslr camera\n",
      "1  B01MTLH408  Manfrotto Element Aluminum 5-Section Monopod, ...  dslr camera\n",
      "stock\n",
      "  StockCode        ASIN\n",
      "0     21703  B07GWKDLGT\n",
      "1     40001  B01MTLH408\n",
      "assessment\n",
      "   rating  review_count        ASIN\n",
      "0     4.6          1399  B07GWKDLGT\n",
      "1     4.6           289  B01MTLH408\n",
      "invoices\n",
      "  InvoiceNo        ASIN  Quantity   price  total_sale invoice_date  \\\n",
      "0  78536597  B07GWKDLGT         4  496.95     1987.80   2018-12-01   \n",
      "1  78536597  B01MTLH408         4   39.99      159.96   2018-12-01   \n",
      "\n",
      "   invoice_time CustomerID  \n",
      "0            17      18011  \n",
      "1            17      18011  \n",
      "customers\n",
      "  CustomerID  Country\n",
      "0      18011  Germany\n",
      "1      18011  Germany\n"
     ]
    }
   ],
   "source": [
    "#set the file name to read the excel sheets\n",
    "file_name = \"sales original.xlsx\"\n",
    "\n",
    "#For loop to get the sheet name from the excel file\n",
    "for table_name in xls.sheet_names: \n",
    "    \n",
    "    # Declare a variable to store the different sheet names\n",
    "    sqlite_table = table_name\n",
    "    print(sqlite_table)\n",
    "\n",
    "    # Dynamically create dataframes for each sheet in the excel file.\n",
    "    vars()[table_name] = pd.DataFrame()\n",
    "\n",
    "    # Read the excel sheet into a Pandas dataframe\n",
    "    vars()[table_name] = pd.read_excel(file_name, sheet_name = table_name, index_col=None)\n",
    "    print(vars()[table_name].head(2))\n",
    "    \n",
    "    # Create SQL database and for each loop create a new table within the database. \n",
    "    conn = sqlite3.connect(\"sales original.db\")\n",
    "    vars()[table_name].to_sql(sqlite_table, conn, if_exists = 'replace', index=True, index_label = \"id_\" + sqlite_table[0:4]) # Index = True creates a Primary key called index in the table \n",
    "    conn.close()"
   ]
  },
  {
   "cell_type": "code",
   "execution_count": null,
   "metadata": {},
   "outputs": [],
   "source": []
  }
 ],
 "metadata": {
  "kernelspec": {
   "display_name": "Python 3.9.12 ('base')",
   "language": "python",
   "name": "python3"
  },
  "language_info": {
   "codemirror_mode": {
    "name": "ipython",
    "version": 3
   },
   "file_extension": ".py",
   "mimetype": "text/x-python",
   "name": "python",
   "nbconvert_exporter": "python",
   "pygments_lexer": "ipython3",
   "version": "3.9.12"
  },
  "orig_nbformat": 4,
  "vscode": {
   "interpreter": {
    "hash": "7a8a4dc8d613e9e8c27c5e2456f5c23295b15759bea07848d14bd96410205d8c"
   }
  }
 },
 "nbformat": 4,
 "nbformat_minor": 2
}
